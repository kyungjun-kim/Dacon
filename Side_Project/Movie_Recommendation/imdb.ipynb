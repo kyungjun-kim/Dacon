{
 "cells": [
  {
   "cell_type": "code",
   "execution_count": 39,
   "id": "66b4ab6b-80ee-406d-a864-de1e22321b2e",
   "metadata": {},
   "outputs": [],
   "source": [
    "#%pip install imdby pyspark flask matplotlib seaborn\n",
    "#%pip install cinemagoer"
   ]
  },
  {
   "cell_type": "code",
   "execution_count": 40,
   "id": "9add4046-dc10-40a6-8360-10d33226873f",
   "metadata": {},
   "outputs": [],
   "source": [
    "from pyspark.sql import SparkSession\n",
    "from pyspark.sql.functions import col\n",
    "\n",
    "# SparkSession 생성\n",
    "spark = SparkSession.builder \\\n",
    "    .appName(\"IMDb Movie Analysis\") \\\n",
    "    .getOrCreate()\n"
   ]
  },
  {
   "cell_type": "code",
   "execution_count": null,
   "id": "644ccac3-e9f5-4e8c-b4ee-b29043f4aacb",
   "metadata": {},
   "outputs": [],
   "source": [
    "from imdb import Cinemagoer\n",
    "\n",
    "# IMDb 객체 생성\n",
    "ia = Cinemagoer()\n",
    "\n",
    "for i in range(1,10) :\n",
    "    movie_tmp = ia.get_movie(str(i))\n",
    "    for d in movie_tmp['directors'] :\n",
    "        print(d)"
   ]
  },
  {
   "cell_type": "code",
   "execution_count": 59,
   "id": "670c6f22-bee3-4b51-9770-d795db66d37e",
   "metadata": {},
   "outputs": [
    {
     "data": {
      "text/plain": [
       "[]"
      ]
     },
     "execution_count": 59,
     "metadata": {},
     "output_type": "execute_result"
    }
   ],
   "source": [
    "ia.get_popular100_movies()"
   ]
  },
  {
   "cell_type": "code",
   "execution_count": 66,
   "id": "2c07300c-27a0-48b2-b719-c3c5faa81641",
   "metadata": {},
   "outputs": [
    {
     "name": "stdout",
     "output_type": "stream",
     "text": [
      "Empty DataFrame\n",
      "Columns: []\n",
      "Index: []\n"
     ]
    }
   ],
   "source": [
    "from imdb import Cinemagoer\n",
    "import pandas as pd\n",
    "\n",
    "# IMDb 객체 생성\n",
    "ia = Cinemagoer()\n",
    "\n",
    "# 특정 연도에 개봉한 영화 목록 가져오기 (예: 2020년)\n",
    "year = 2024\n",
    "movies = ia.search_movie('', results=100)  # 검색 결과 제한을 100으로 설정\n",
    "\n",
    "# 영화 상세 정보 가져오기\n",
    "movie_list = []\n",
    "for movie in movies:\n",
    "    movie_id = movie.movieID\n",
    "    movie_details = ia.get_movie(movie_id)\n",
    "    if movie_details.get('year') == year:\n",
    "        movie_list.append({\n",
    "            \"Title\": movie_details.get('title'),\n",
    "            \"Rating\": movie_details.get('rating'),\n",
    "            \"Year\": movie_details.get('year'),\n",
    "            \"Genres\": movie_details.get('genres'),\n",
    "            \"Director\": ', '.join([director['name'] for director in movie_details.get('director', [])]),\n",
    "            \"Cast\": ', '.join([actor['name'] for actor in movie_details.get('cast', [])[:5]]),  # 상위 5명의 배우만 표시\n",
    "            \"Votes\": movie_details.get('votes'),\n",
    "            \"Runtime\": movie_details.get('runtimes')[0] if movie_details.get('runtimes') else None\n",
    "        })\n",
    "\n",
    "# 데이터프레임 생성\n",
    "df = pd.DataFrame(movie_list)\n",
    "\n",
    "# 데이터프레임 출력\n",
    "print(df.head())\n"
   ]
  },
  {
   "cell_type": "code",
   "execution_count": 67,
   "id": "06886261-c386-47a9-8874-5322c8338500",
   "metadata": {},
   "outputs": [
    {
     "data": {
      "text/plain": [
       "[]"
      ]
     },
     "execution_count": 67,
     "metadata": {},
     "output_type": "execute_result"
    }
   ],
   "source": [
    "movies"
   ]
  },
  {
   "cell_type": "code",
   "execution_count": 70,
   "id": "f66791a8-71c8-4e75-bc8f-5ee1f47518f3",
   "metadata": {},
   "outputs": [],
   "source": [
    "movies = ia.search_movie(f'{2024}')"
   ]
  },
  {
   "cell_type": "code",
   "execution_count": 73,
   "id": "a8a7b8ba-c90b-4628-9ce4-91ffc026b55c",
   "metadata": {},
   "outputs": [
    {
     "ename": "AttributeError",
     "evalue": "'IMDbHTTPAccessSystem' object has no attribute 'advanced_search'",
     "output_type": "error",
     "traceback": [
      "\u001b[0;31m---------------------------------------------------------------------------\u001b[0m",
      "\u001b[0;31mAttributeError\u001b[0m                            Traceback (most recent call last)",
      "Cell \u001b[0;32mIn[73], line 1\u001b[0m\n\u001b[0;32m----> 1\u001b[0m \u001b[43mia\u001b[49m\u001b[38;5;241;43m.\u001b[39;49m\u001b[43madvanced_search\u001b[49m\n",
      "\u001b[0;31mAttributeError\u001b[0m: 'IMDbHTTPAccessSystem' object has no attribute 'advanced_search'"
     ]
    }
   ],
   "source": [
    "help("
   ]
  },
  {
   "cell_type": "code",
   "execution_count": null,
   "id": "8fd5d55e-8de3-4f50-b85f-c4fc21c0f85d",
   "metadata": {},
   "outputs": [],
   "source": []
  }
 ],
 "metadata": {
  "kernelspec": {
   "display_name": "Python 3 (ipykernel)",
   "language": "python",
   "name": "python3"
  },
  "language_info": {
   "codemirror_mode": {
    "name": "ipython",
    "version": 3
   },
   "file_extension": ".py",
   "mimetype": "text/x-python",
   "name": "python",
   "nbconvert_exporter": "python",
   "pygments_lexer": "ipython3",
   "version": "3.11.6"
  }
 },
 "nbformat": 4,
 "nbformat_minor": 5
}
