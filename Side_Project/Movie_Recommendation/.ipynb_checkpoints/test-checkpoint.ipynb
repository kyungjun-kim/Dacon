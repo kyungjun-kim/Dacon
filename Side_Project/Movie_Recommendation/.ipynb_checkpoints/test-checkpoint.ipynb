{
 "cells": [
  {
   "cell_type": "code",
   "execution_count": 15,
   "metadata": {},
   "outputs": [
    {
     "name": "stdout",
     "output_type": "stream",
     "text": [
      "Case #1: test a is this\n",
      "Case #2: foobar\n",
      "Case #3: base your all\n"
     ]
    }
   ],
   "source": [
    "N = int(input())\n",
    "for i in range(1,N+1) :\n",
    "    print(\"Case #{}: {}\".format(i,' '.join(input().split(\" \")[::-1])))"
   ]
  },
  {
   "cell_type": "code",
   "execution_count": 36,
   "metadata": {},
   "outputs": [
    {
     "name": "stdout",
     "output_type": "stream",
     "text": [
      "NO\n",
      "NO\n",
      "NO\n"
     ]
    }
   ],
   "source": [
    "N = int(input())\n",
    "for i in range(N) :\n",
    "    a = input()\n",
    "    while True :\n",
    "        if a.count(\"(\") != a.count(\")\") or a[0] == \")\" or a[-1] == \"(\":\n",
    "            print(\"NO\")\n",
    "            break\n",
    "        if a == \"()\" or \"\" :\n",
    "            print(\"YES\")\n",
    "            break\n",
    "        a = a.replace(\"()\",'',1)"
   ]
  },
  {
   "cell_type": "code",
   "execution_count": 37,
   "metadata": {},
   "outputs": [],
   "source": [
    "from collections import deque\n",
    "queue = deque()\n",
    "N = int(input())\n",
    "for i in range(N) :\n"
   ]
  },
  {
   "cell_type": "code",
   "execution_count": 49,
   "metadata": {},
   "outputs": [
    {
     "name": "stdout",
     "output_type": "stream",
     "text": [
      "2\n",
      "2\n",
      "0\n",
      "2\n",
      "1\n"
     ]
    },
    {
     "ename": "IndexError",
     "evalue": "pop from empty list",
     "output_type": "error",
     "traceback": [
      "\u001b[1;31m---------------------------------------------------------------------------\u001b[0m",
      "\u001b[1;31mIndexError\u001b[0m                                Traceback (most recent call last)",
      "Cell \u001b[1;32mIn[49], line 17\u001b[0m\n\u001b[0;32m     15\u001b[0m     \u001b[38;5;28mprint\u001b[39m(\u001b[38;5;28mint\u001b[39m((st \u001b[38;5;241m==\u001b[39m [])))\n\u001b[0;32m     16\u001b[0m \u001b[38;5;28;01melse\u001b[39;00m :\n\u001b[1;32m---> 17\u001b[0m     \u001b[38;5;28mprint\u001b[39m(st\u001b[38;5;241m.\u001b[39mpop())\n",
      "\u001b[1;31mIndexError\u001b[0m: pop from empty list"
     ]
    }
   ],
   "source": [
    "N = int(input())\n",
    "st = []\n",
    "for i in range(N) :\n",
    "    inp = input()\n",
    "    if \"push\" in inp :\n",
    "        st.append(int(inp.split(\" \")[1]))\n",
    "    elif \"top\" == inp :\n",
    "        if st == [] :\n",
    "            print(-1)\n",
    "        else :\n",
    "            print(st[-1])\n",
    "    elif \"size\" == inp :\n",
    "        print(len(st))\n",
    "    elif \"empty\" == inp :\n",
    "        print(int((st == [])))\n",
    "    else :\n",
    "        print(st.pop())\n",
    "    "
   ]
  },
  {
   "cell_type": "code",
   "execution_count": 47,
   "metadata": {},
   "outputs": [
    {
     "name": "stdout",
     "output_type": "stream",
     "text": [
      "[1]\n"
     ]
    }
   ],
   "source": [
    "print(st)"
   ]
  },
  {
   "cell_type": "code",
   "execution_count": null,
   "metadata": {},
   "outputs": [],
   "source": []
  }
 ],
 "metadata": {
  "kernelspec": {
   "display_name": "Python 3",
   "language": "python",
   "name": "python3"
  },
  "language_info": {
   "codemirror_mode": {
    "name": "ipython",
    "version": 3
   },
   "file_extension": ".py",
   "mimetype": "text/x-python",
   "name": "python",
   "nbconvert_exporter": "python",
   "pygments_lexer": "ipython3",
   "version": "3.11.3"
  }
 },
 "nbformat": 4,
 "nbformat_minor": 2
}
