{
 "cells": [
  {
   "cell_type": "code",
   "execution_count": 2,
   "id": "66b4ab6b-80ee-406d-a864-de1e22321b2e",
   "metadata": {},
   "outputs": [],
   "source": [
    "#%pip install imdby pyspark flask matplotlib seaborn"
   ]
  },
  {
   "cell_type": "code",
   "execution_count": 3,
   "id": "9e52d3bd-6080-42d6-89dd-2fffec73bfad",
   "metadata": {},
   "outputs": [
    {
     "ename": "ModuleNotFoundError",
     "evalue": "No module named 'imdb'",
     "output_type": "error",
     "traceback": [
      "\u001b[0;31m---------------------------------------------------------------------------\u001b[0m",
      "\u001b[0;31mModuleNotFoundError\u001b[0m                       Traceback (most recent call last)",
      "Cell \u001b[0;32mIn[3], line 1\u001b[0m\n\u001b[0;32m----> 1\u001b[0m \u001b[38;5;28;01mimport\u001b[39;00m \u001b[38;5;21;01mimdb\u001b[39;00m\n\u001b[1;32m      3\u001b[0m \u001b[38;5;66;03m# IMDb 객체 생성\u001b[39;00m\n\u001b[1;32m      4\u001b[0m ia \u001b[38;5;241m=\u001b[39m imdb\u001b[38;5;241m.\u001b[39mIMDb()\n",
      "\u001b[0;31mModuleNotFoundError\u001b[0m: No module named 'imdb'"
     ]
    }
   ],
   "source": [
    "import imdb\n",
    "\n",
    "# IMDb 객체 생성\n",
    "ia = imdb.IMDb()\n",
    "\n",
    "# 예시 영화 데이터 가져오기 (영화 제목으로 검색)\n",
    "movies = ia.search_movie('Inception')\n",
    "for movie in movies:\n",
    "    print(f\"Title: {movie['title']}, Year: {movie['year']}\")\n"
   ]
  },
  {
   "cell_type": "code",
   "execution_count": null,
   "id": "868bc542-f1ed-4f55-a3b9-315e8650d1ee",
   "metadata": {},
   "outputs": [],
   "source": []
  }
 ],
 "metadata": {
  "kernelspec": {
   "display_name": "Python 3 (ipykernel)",
   "language": "python",
   "name": "python3"
  },
  "language_info": {
   "codemirror_mode": {
    "name": "ipython",
    "version": 3
   },
   "file_extension": ".py",
   "mimetype": "text/x-python",
   "name": "python",
   "nbconvert_exporter": "python",
   "pygments_lexer": "ipython3",
   "version": "3.11.6"
  }
 },
 "nbformat": 4,
 "nbformat_minor": 5
}
