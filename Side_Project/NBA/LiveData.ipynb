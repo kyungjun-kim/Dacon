{
 "cells": [
  {
   "cell_type": "markdown",
   "metadata": {},
   "source": [
    "# Working with NBA live data...\n",
    "Libraries supporting live data do not include support for Pandas. Note: Any call to `{endpoint}.{Class}()` will perform a request. Example: `scoreboard.ScoreBoard()`. In order to avoid multiple requests, set `{endpoint}.{Class}()` to a variable. See sample code below."
   ]
  },
  {
   "cell_type": "markdown",
   "metadata": {},
   "source": [
    "## Today's Score Board\n"
   ]
  },
  {
   "cell_type": "code",
   "execution_count": 5,
   "metadata": {},
   "outputs": [
    {
     "name": "stdout",
     "output_type": "stream",
     "text": [
      "ScoreBoardDate: 2023-04-25\n",
      "0042200145: Timberwolves vs. Nuggets @ 2023-04-26 10:00:00+09:00\n",
      "0042200175: Clippers vs. Suns @ 2023-04-26 11:00:00+09:00\n",
      "0042200115: Hawks vs. Celtics @ 2023-04-26 08:30:00+09:00\n"
     ]
    }
   ],
   "source": [
    "# Query nba.live.endpoints.scoreboard and  list games in localTimeZone\n",
    "from datetime import datetime, timezone\n",
    "from dateutil import parser\n",
    "from nba_api.live.nba.endpoints import scoreboard\n",
    "\n",
    "f = \"{gameId}: {awayTeam} vs. {homeTeam} @ {gameTimeLTZ}\" \n",
    "\n",
    "board = scoreboard.ScoreBoard()\n",
    "print(\"ScoreBoardDate: \" + board.score_board_date)\n",
    "games = board.games.get_dict()\n",
    "for game in games:\n",
    "    gameTimeLTZ = parser.parse(game[\"gameTimeUTC\"]).replace(tzinfo=timezone.utc).astimezone(tz=None)\n",
    "    print(f.format(gameId=game['gameId'], awayTeam=game['awayTeam']['teamName'], homeTeam=game['homeTeam']['teamName'], gameTimeLTZ=gameTimeLTZ))"
   ]
  },
  {
   "cell_type": "code",
   "execution_count": 7,
   "metadata": {},
   "outputs": [],
   "source": [
    "game_id = \"0042200175\""
   ]
  },
  {
   "cell_type": "markdown",
   "metadata": {},
   "source": [
    "## Box Score"
   ]
  },
  {
   "cell_type": "code",
   "execution_count": 34,
   "metadata": {},
   "outputs": [],
   "source": [
    "# Get BoxScore\n",
    "from nba_api.live.nba.endpoints import boxscore\n",
    "box = boxscore.BoxScore(game_id) "
   ]
  },
  {
   "cell_type": "code",
   "execution_count": null,
   "metadata": {},
   "outputs": [],
   "source": [
    "# Data Sets\n",
    "box.game.get_dict()                    #equal to box.get_dict()['game']\n",
    "#box.arena.get_dict()                  #equal to box.get_dict()['game']['arena']\n",
    "#box.away_team.get_dict()              #equal to box.get_dict()['game']['awayTeam']\n",
    "#box.away_team_player_stats.get_dict() #equal to box.get_dict()['game']['awayTeam']['players']\n",
    "#box.away_team_stats.get_dict()        #equal to box.get_dict()['game']['homeTeam'] w/o ['players']\n",
    "#box.home_team.get_dict()              #equal to box.get_dict()['game']['homeTeam']\n",
    "#box.home_team_player_stats.get_dict() #equal to box.get_dict()['game']['homeTeam']['players']\n",
    "#box.home_team_stats.get_dict()        #equal to box.get_dict()['game']['homeTeam'] w/o ['players']\n",
    "#box.game_details.get_dict()           #equal to box.get_dict()['game'] scrubbed of all other dictionaries\n",
    "#box.officials.get_dict()              #equal to box.get_dict()['game']['officials']"
   ]
  },
  {
   "cell_type": "code",
   "execution_count": 42,
   "metadata": {},
   "outputs": [],
   "source": [
    "import pandas as pd"
   ]
  },
  {
   "cell_type": "code",
   "execution_count": 45,
   "metadata": {},
   "outputs": [],
   "source": [
    "df = pd.DataFrame(home_players)"
   ]
  },
  {
   "cell_type": "code",
   "execution_count": 53,
   "metadata": {},
   "outputs": [
    {
     "name": "stdout",
     "output_type": "stream",
     "text": [
      "Home Team : 1628470: Torrey Craig: 0 PTS / 0 assists\n",
      "Home Team : 201142: Kevin Durant: 31 PTS / 4 assists\n",
      "Home Team : 1629028: Deandre Ayton: 21 PTS / 3 assists\n",
      "Home Team : 1626164: Devin Booker: 47 PTS / 10 assists\n",
      "Home Team : 101108: Chris Paul: 15 PTS / 7 assists\n",
      "Home Team : 1629006: Josh Okogie: 11 PTS / 3 assists\n",
      "Home Team : 1629013: Landry Shamet: 3 PTS / 0 assists\n",
      "Home Team : 202687: Bismack Biyombo: 8 PTS / 2 assists\n",
      "Home Team : 1627814: Damion Lee: 0 PTS / 0 assists\n",
      "Home Team : 1626166: Cameron Payne: 0 PTS / 2 assists\n",
      "Home Team : 1629647: Darius Bazley: 0 PTS / 0 assists\n",
      "Home Team : 1629111: Jock Landale: 0 PTS / 0 assists\n",
      "Home Team : 203082: Terrence Ross: 0 PTS / 0 assists\n",
      "Home Team : 1630688: Ish Wainright: 0 PTS / 0 assists\n",
      "Home Team : 203933: T.J. Warren: 0 PTS / 0 assists\n",
      "\n",
      "\n",
      "Away Team : 201569: Eric Gordon: 3 PTS / 3 assists\n",
      "Away Team : 202694: Marcus Morris Sr.: 12 PTS / 0 assists\n",
      "Away Team : 1627826: Ivica Zubac: 16 PTS / 2 assists\n",
      "Away Team : 1626181: Norman Powell: 27 PTS / 3 assists\n",
      "Away Team : 201566: Russell Westbrook: 14 PTS / 8 assists\n",
      "Away Team : 1629611: Terance Mann: 10 PTS / 2 assists\n",
      "Away Team : 201587: Nicolas Batum: 19 PTS / 2 assists\n",
      "Away Team : 203486: Mason Plumlee: 20 PTS / 3 assists\n",
      "Away Team : 1630538: Bones Hyland: 9 PTS / 0 assists\n",
      "Away Team : 1630527: Brandon Boston Jr.: 0 PTS / 0 assists\n",
      "Away Team : 1629599: Amir Coffey: 0 PTS / 0 assists\n",
      "Away Team : 203496: Robert Covington: 0 PTS / 0 assists\n",
      "Away Team : 1630554: Jason Preston: 0 PTS / 0 assists\n",
      "Away Team : 202331: Paul George: 0 PTS / 0 assists\n",
      "Away Team : 202695: Kawhi Leonard: 0 PTS / 0 assists\n"
     ]
    }
   ],
   "source": [
    "# Getting Box Scores. \n",
    "# Note: home_team & away_team have the identicial data structure.\n",
    "\n",
    "box = boxscore.BoxScore(game_id) \n",
    "home_players = box.home_team.get_dict()['players']\n",
    "f = \"Home Team : {player_id}: {name}: {points} PTS / {assists} assists\"\n",
    "for player in home_players:\n",
    "    print(f.format(player_id=player['personId'],name=player['name'],points=player['statistics']['points'], assists = player['statistics']['assists']))\n",
    "    \n",
    "print(\"\\n\")\n",
    "away_players = box.away_team.get_dict()['players']\n",
    "f = \"Away Team : {player_id}: {name}: {points} PTS / {assists} assists\"\n",
    "for player in away_players:\n",
    "    print(f.format(player_id=player['personId'],name=player['name'],points=player['statistics']['points'], assists = player['statistics']['assists']))"
   ]
  },
  {
   "cell_type": "markdown",
   "metadata": {},
   "source": [
    "## Play By Play Data"
   ]
  },
  {
   "cell_type": "code",
   "execution_count": 18,
   "metadata": {
    "scrolled": true
   },
   "outputs": [
    {
     "name": "stdout",
     "output_type": "stream",
     "text": [
      "357: 3:PT10M49.00S Ivica Zubac (turnover)\n",
      "358: 3:PT10M31.00S Deandre Ayton (2pt)\n",
      "360: 3:PT10M28.00S Devin Booker (rebound)\n",
      "361: 3:PT10M27.00S Devin Booker (3pt)\n",
      "363: 3:PT10M13.00S Russell Westbrook (2pt)\n",
      "364: 3:PT10M13.00S  (rebound)\n",
      "365: 3:PT10M13.00S Kevin Durant (foul)\n",
      "367: 3:PT10M07.00S Marcus Morris Sr. (2pt)\n",
      "368: 3:PT10M07.00S Deandre Ayton (rebound)\n",
      "370: 3:PT09M52.00S Chris Paul (3pt)\n"
     ]
    }
   ],
   "source": [
    "# Query nba.live.endpoints for the score board of GameID 0022000180 = NYK vs BOS\n",
    "# Simple PlayByPlay Loop demonstrating data usage\n",
    "from nba_api.live.nba.endpoints import playbyplay\n",
    "from nba_api.stats.static import players\n",
    "\n",
    "pbp = playbyplay.PlayByPlay(game_id)\n",
    "line = \"{action_number}: {period}:{clock} {player_id} ({action_type})\"\n",
    "actions = pbp.get_dict()['game']['actions'] #plays are referred to in the live data as `actions`\n",
    "for action in actions[-10:]:\n",
    "    player_name = ''\n",
    "    player = players.find_player_by_id(action['personId'])\n",
    "    if player is not None:\n",
    "        player_name = player['full_name']\n",
    "    print(line.format(action_number=action['actionNumber'],period=action['period'],clock=action['clock'],action_type=action['actionType'],player_id=player_name))"
   ]
  },
  {
   "cell_type": "code",
   "execution_count": null,
   "metadata": {},
   "outputs": [],
   "source": []
  }
 ],
 "metadata": {
  "kernelspec": {
   "display_name": ".venv",
   "language": "python",
   "name": "python3"
  },
  "language_info": {
   "codemirror_mode": {
    "name": "ipython",
    "version": 3
   },
   "file_extension": ".py",
   "mimetype": "text/x-python",
   "name": "python",
   "nbconvert_exporter": "python",
   "pygments_lexer": "ipython3",
   "version": "3.11.2"
  },
  "vscode": {
   "interpreter": {
    "hash": "3063ebe7f64e4b94b4bb60dcb2a09b8ae7db93b40413bc57b05be67a32b78a90"
   }
  }
 },
 "nbformat": 4,
 "nbformat_minor": 4
}
