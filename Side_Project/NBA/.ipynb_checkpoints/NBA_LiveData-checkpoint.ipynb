{
 "cells": [
  {
   "cell_type": "markdown",
   "metadata": {},
   "source": [
    "# Working with NBA live data...\n",
    "Libraries supporting live data do not include support for Pandas. Note: Any call to `{endpoint}.{Class}()` will perform a request. Example: `scoreboard.ScoreBoard()`. In order to avoid multiple requests, set `{endpoint}.{Class}()` to a variable. See sample code below."
   ]
  },
  {
   "cell_type": "markdown",
   "metadata": {},
   "source": [
    "## Today's Score Board\n"
   ]
  },
  {
   "cell_type": "code",
   "execution_count": 7,
   "metadata": {},
   "outputs": [
    {
     "name": "stdout",
     "output_type": "stream",
     "text": [
      "ScoreBoardDate: 2023-05-09\n",
      "0042200215: 76ers vs. Celtics @ 2023-05-10 08:30:00+09:00\n",
      "0042200225: Suns vs. Nuggets @ 2023-05-10 11:00:00+09:00\n"
     ]
    }
   ],
   "source": [
    "# Query nba.live.endpoints.scoreboard and  list games in localTimeZone\n",
    "from datetime import datetime, timezone\n",
    "from dateutil import parser\n",
    "from nba_api.live.nba.endpoints import scoreboard\n",
    "import pandas as pd\n",
    "\n",
    "f = \"{gameId}: {awayTeam} vs. {homeTeam} @ {gameTimeLTZ}\" \n",
    "\n",
    "board = scoreboard.ScoreBoard()\n",
    "print(\"ScoreBoardDate: \" + board.score_board_date)\n",
    "games = board.games.get_dict()\n",
    "for game in games:\n",
    "    gameTimeLTZ = parser.parse(game[\"gameTimeUTC\"]).replace(tzinfo=timezone.utc).astimezone(tz=None)\n",
    "    print(f.format(gameId=game['gameId'], awayTeam=game['awayTeam']['teamName'], homeTeam=game['homeTeam']['teamName'], gameTimeLTZ=gameTimeLTZ))"
   ]
  },
  {
   "cell_type": "code",
   "execution_count": 8,
   "metadata": {},
   "outputs": [],
   "source": [
    "game_id = \"0042200215\""
   ]
  },
  {
   "cell_type": "markdown",
   "metadata": {},
   "source": [
    "## Box Score"
   ]
  },
  {
   "cell_type": "code",
   "execution_count": 3,
   "metadata": {},
   "outputs": [],
   "source": [
    "# Get BoxScore\n",
    "from nba_api.live.nba.endpoints import boxscore\n",
    "box = boxscore.BoxScore(game_id) "
   ]
  },
  {
   "cell_type": "code",
   "execution_count": 5,
   "metadata": {},
   "outputs": [],
   "source": [
    "# Data Sets\n",
    "#box.game.get_dict()                    #equal to box.get_dict()['game']\n",
    "#box.arena.get_dict()                  #equal to box.get_dict()['game']['arena']\n",
    "#box.away_team.get_dict()              #equal to box.get_dict()['game']['awayTeam']\n",
    "#box.away_team_player_stats.get_dict() #equal to box.get_dict()['game']['awayTeam']['players']\n",
    "#box.away_team_stats.get_dict()        #equal to box.get_dict()['game']['homeTeam'] w/o ['players']\n",
    "#box.home_team.get_dict()              #equal to box.get_dict()['game']['homeTeam']\n",
    "#box.home_team_player_stats.get_dict() #equal to box.get_dict()['game']['homeTeam']['players']\n",
    "#box.home_team_stats.get_dict()        #equal to box.get_dict()['game']['homeTeam'] w/o ['players']\n",
    "#box.game_details.get_dict()           #equal to box.get_dict()['game'] scrubbed of all other dictionaries\n",
    "#box.officials.get_dict()              #equal to box.get_dict()['game']['officials']"
   ]
  },
  {
   "cell_type": "code",
   "execution_count": 11,
   "metadata": {},
   "outputs": [
    {
     "name": "stdout",
     "output_type": "stream",
     "text": [
      "Home Team : 1628369: Jayson Tatum: 36 PTS / 5 assists / 10 rebounds\n",
      "Home Team : 1627759: Jaylen Brown: 24 PTS / 2 assists / 6 rebounds\n",
      "Home Team : 203935: Marcus Smart: 14 PTS / 4 assists / 3 rebounds\n",
      "Home Team : 1630202: Payton Pritchard: 8 PTS / 1 assists / 1 rebounds\n",
      "Home Team : 1628401: Derrick White: 7 PTS / 0 assists / 5 rebounds\n",
      "Home Team : 1627763: Malcolm Brogdon: 7 PTS / 4 assists / 3 rebounds\n",
      "Home Team : 1629057: Robert Williams III: 4 PTS / 0 assists / 2 rebounds\n",
      "Home Team : 1630573: Sam Hauser: 3 PTS / 0 assists / 0 rebounds\n",
      "Home Team : 201143: Al Horford: 0 PTS / 4 assists / 5 rebounds\n",
      "Home Team : 1629684: Grant Williams: 0 PTS / 1 assists / 0 rebounds\n",
      "Home Team : 1628436: Luke Kornet: 0 PTS / 0 assists / 0 rebounds\n",
      "Home Team : 203488: Mike Muscala: 0 PTS / 0 assists / 1 rebounds\n",
      "Home Team : 1630551: Justin Champagnie: 0 PTS / 0 assists / 0 rebounds\n",
      "Home Team : 201933: Blake Griffin: 0 PTS / 0 assists / 0 rebounds\n",
      "Home Team : 201568: Danilo Gallinari: 0 PTS / 0 assists / 0 rebounds\n",
      "\n",
      "\n",
      "Away Team : 203954: Joel Embiid: 33 PTS / 3 assists / 7 rebounds\n",
      "Away Team : 1630178: Tyrese Maxey: 30 PTS / 3 assists / 7 rebounds\n",
      "Away Team : 201935: James Harden: 17 PTS / 10 assists / 8 rebounds\n",
      "Away Team : 202699: Tobias Harris: 16 PTS / 1 assists / 11 rebounds\n",
      "Away Team : 1627863: Danuel House Jr.: 10 PTS / 1 assists / 5 rebounds\n",
      "Away Team : 1629001: De'Anthony Melton: 4 PTS / 1 assists / 4 rebounds\n",
      "Away Team : 200782: P.J. Tucker: 3 PTS / 1 assists / 7 rebounds\n",
      "Away Team : 1630194: Paul Reed: 2 PTS / 0 assists / 0 rebounds\n",
      "Away Team : 1627777: Georges Niang: 0 PTS / 0 assists / 0 rebounds\n",
      "Away Team : 1629003: Shake Milton: 0 PTS / 0 assists / 0 rebounds\n",
      "Away Team : 203473: Dewayne Dedmon: 0 PTS / 0 assists / 0 rebounds\n",
      "Away Team : 1626149: Montrezl Harrell: 0 PTS / 0 assists / 0 rebounds\n",
      "Away Team : 1627788: Furkan Korkmaz: 0 PTS / 0 assists / 0 rebounds\n",
      "Away Team : 1629667: Jalen McDaniels: 0 PTS / 0 assists / 0 rebounds\n",
      "Away Team : 1630531: Jaden Springer: 0 PTS / 0 assists / 0 rebounds\n"
     ]
    }
   ],
   "source": [
    "# Getting Box Scores. \n",
    "# Note: home_team & away_team have the identicial data structure.\n",
    "\n",
    "box = boxscore.BoxScore(game_id) \n",
    "home_players = box.home_team.get_dict()['players']\n",
    "tmp = pd.DataFrame(home_players)\n",
    "tmp['pts'] = tmp['statistics'].apply(lambda x : x['points'])\n",
    "tmp['assists'] = tmp['statistics'].apply(lambda x : x['assists'])\n",
    "tmp['rebounds'] = tmp['statistics'].apply(lambda x : x['reboundsTotal'] )\n",
    "tmp = tmp.sort_values(\"pts\", ascending=False)\n",
    "f = \"Home Team : {player_id}: {name}: {points} PTS / {assists} assists / {rebounds} rebounds\"\n",
    "#for player in home_players:\n",
    "#    print(f.format(player_id=player['personId'],name=player['name'],points=player['statistics']['points'], assists = player['statistics']['assists']))\n",
    "for i in tmp[['personId','name','pts','assists','rebounds']].values :\n",
    "    print(f.format(player_id=i[0],name=i[1],points=i[2], assists = i[3], rebounds = i[4]))\n",
    "    \n",
    "print(\"\\n\")\n",
    "away_players = box.away_team.get_dict()['players']\n",
    "tmp = pd.DataFrame(away_players)\n",
    "tmp['pts'] = tmp['statistics'].apply(lambda x : x['points'])\n",
    "tmp['assists'] = tmp['statistics'].apply(lambda x : x['assists'])\n",
    "tmp['rebounds'] = tmp['statistics'].apply(lambda x : x['reboundsTotal'] )\n",
    "tmp = tmp.sort_values(\"pts\", ascending=False)\n",
    "f = \"Away Team : {player_id}: {name}: {points} PTS / {assists} assists / {rebounds} rebounds\"\n",
    "for i in tmp[['personId','name','pts','assists','rebounds']].values :\n",
    "    print(f.format(player_id=i[0],name=i[1],points=i[2], assists = i[3], rebounds = i[4]))"
   ]
  },
  {
   "cell_type": "markdown",
   "metadata": {},
   "source": [
    "## Play By Play Data"
   ]
  },
  {
   "cell_type": "code",
   "execution_count": 18,
   "metadata": {
    "scrolled": true
   },
   "outputs": [
    {
     "name": "stdout",
     "output_type": "stream",
     "text": [
      "357: 3:PT10M49.00S Ivica Zubac (turnover)\n",
      "358: 3:PT10M31.00S Deandre Ayton (2pt)\n",
      "360: 3:PT10M28.00S Devin Booker (rebound)\n",
      "361: 3:PT10M27.00S Devin Booker (3pt)\n",
      "363: 3:PT10M13.00S Russell Westbrook (2pt)\n",
      "364: 3:PT10M13.00S  (rebound)\n",
      "365: 3:PT10M13.00S Kevin Durant (foul)\n",
      "367: 3:PT10M07.00S Marcus Morris Sr. (2pt)\n",
      "368: 3:PT10M07.00S Deandre Ayton (rebound)\n",
      "370: 3:PT09M52.00S Chris Paul (3pt)\n"
     ]
    }
   ],
   "source": [
    "# Query nba.live.endpoints for the score board of GameID 0022000180 = NYK vs BOS\n",
    "# Simple PlayByPlay Loop demonstrating data usage\n",
    "from nba_api.live.nba.endpoints import playbyplay\n",
    "from nba_api.stats.static import players\n",
    "\n",
    "pbp = playbyplay.PlayByPlay(game_id)\n",
    "line = \"{action_number}: {period}:{clock} {player_id} ({action_type})\"\n",
    "actions = pbp.get_dict()['game']['actions'] #plays are referred to in the live data as `actions`\n",
    "for action in actions[-10:]:\n",
    "    player_name = ''\n",
    "    player = players.find_player_by_id(action['personId'])\n",
    "    if player is not None:\n",
    "        player_name = player['full_name']\n",
    "    print(line.format(action_number=action['actionNumber'],period=action['period'],clock=action['clock'],action_type=action['actionType'],player_id=player_name))"
   ]
  },
  {
   "cell_type": "code",
   "execution_count": null,
   "metadata": {},
   "outputs": [],
   "source": []
  }
 ],
 "metadata": {
  "kernelspec": {
   "display_name": ".venv",
   "language": "python",
   "name": "python3"
  },
  "language_info": {
   "codemirror_mode": {
    "name": "ipython",
    "version": 3
   },
   "file_extension": ".py",
   "mimetype": "text/x-python",
   "name": "python",
   "nbconvert_exporter": "python",
   "pygments_lexer": "ipython3",
   "version": "3.11.2"
  },
  "vscode": {
   "interpreter": {
    "hash": "3063ebe7f64e4b94b4bb60dcb2a09b8ae7db93b40413bc57b05be67a32b78a90"
   }
  }
 },
 "nbformat": 4,
 "nbformat_minor": 4
}
