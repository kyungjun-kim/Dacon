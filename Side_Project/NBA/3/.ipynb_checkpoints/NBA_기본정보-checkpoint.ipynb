{
 "cells": [
  {
   "attachments": {},
   "cell_type": "markdown",
   "metadata": {},
   "source": [
    "## 라이브러리 설치"
   ]
  },
  {
   "cell_type": "code",
   "execution_count": 1,
   "metadata": {},
   "outputs": [],
   "source": [
    "#!pip install nba_api\n",
    "from pyspark.sql import SparkSession, SQLContext, Row, SparkSession\n",
    "\n",
    "encoding = 'utf-8'"
   ]
  },
  {
   "attachments": {},
   "cell_type": "markdown",
   "metadata": {},
   "source": [
    "## 선수 정보 확인"
   ]
  },
  {
   "attachments": {},
   "cell_type": "markdown",
   "metadata": {},
   "source": [
    "### 기본 정보 확인\n",
    "- 르브론 제임스의 정보 확인"
   ]
  },
  {
   "cell_type": "code",
   "execution_count": 3,
   "metadata": {},
   "outputs": [
    {
     "name": "stdout",
     "output_type": "stream",
     "text": [
      "{'id': 2544, 'full_name': 'LeBron James', 'first_name': 'LeBron', 'last_name': 'James', 'is_active': True}\n"
     ]
    }
   ],
   "source": [
    "#from nba_api.stats.static import players\n",
    "\n",
    "p_profile = players.find_players_by_full_name(\"Lebron James\")\n",
    "print(p_profile[0])\n",
    "p_id = p_profile[0]['id']"
   ]
  },
  {
   "attachments": {},
   "cell_type": "markdown",
   "metadata": {},
   "source": [
    "### 선수의 상세 정보 확인\n",
    "- 위 코드에서 알게된 선수 ID를 이용해서 상세 정보를 확인할 수 있다"
   ]
  },
  {
   "cell_type": "code",
   "execution_count": 5,
   "metadata": {},
   "outputs": [
    {
     "name": "stdout",
     "output_type": "stream",
     "text": [
      "   PERSON_ID FIRST_NAME LAST_NAME DISPLAY_FIRST_LAST DISPLAY_LAST_COMMA_FIRST   \n",
      "0       2544     LeBron     James       LeBron James            James, LeBron  \\\n",
      "\n",
      "  DISPLAY_FI_LAST   PLAYER_SLUG            BIRTHDATE   \n",
      "0        L. James  lebron-james  1984-12-30T00:00:00  \\\n",
      "\n",
      "                         SCHOOL COUNTRY  ...    PLAYERCODE FROM_YEAR TO_YEAR   \n",
      "0  St. Vincent-St. Mary HS (OH)     USA  ...  lebron_james      2003    2022  \\\n",
      "\n",
      "   DLEAGUE_FLAG NBA_FLAG GAMES_PLAYED_FLAG DRAFT_YEAR DRAFT_ROUND   \n",
      "0             N        Y                 Y       2003           1  \\\n",
      "\n",
      "   DRAFT_NUMBER GREATEST_75_FLAG  \n",
      "0             1                Y  \n",
      "\n",
      "[1 rows x 33 columns]\n"
     ]
    }
   ],
   "source": [
    "#from nba_api.stats.endpoints import commonplayerinfo\n",
    "\n",
    "player_info = commonplayerinfo.CommonPlayerInfo(player_id=p_id)\n",
    "p_info = player_info.get_data_frames()\n",
    "print(p_info[0])"
   ]
  },
  {
   "attachments": {},
   "cell_type": "markdown",
   "metadata": {},
   "source": [
    "- 해당 코드는 선수의 정보를 list 형태로 보여준다. 리스트의 0번째 인덱스에는 이름, 키 몸무게, 출신학교 등 기본 프로필 정보를, 1번째 인덱스에는 경기 결과 통계정보를, 2번째 인덱스에는 출전했던 시즌의 id를 보여준다"
   ]
  },
  {
   "attachments": {},
   "cell_type": "markdown",
   "metadata": {},
   "source": [
    "### 경기 기록 정보 확인"
   ]
  },
  {
   "cell_type": "code",
   "execution_count": 7,
   "metadata": {},
   "outputs": [
    {
     "name": "stdout",
     "output_type": "stream",
     "text": [
      "    PLAYER_ID SEASON_ID LEAGUE_ID     TEAM_ID TEAM_ABBREVIATION  PLAYER_AGE   \n",
      "0        2544   2003-04        00  1610612739               CLE        19.0  \\\n",
      "1        2544   2004-05        00  1610612739               CLE        20.0   \n",
      "2        2544   2005-06        00  1610612739               CLE        21.0   \n",
      "3        2544   2006-07        00  1610612739               CLE        22.0   \n",
      "4        2544   2007-08        00  1610612739               CLE        23.0   \n",
      "5        2544   2008-09        00  1610612739               CLE        24.0   \n",
      "6        2544   2009-10        00  1610612739               CLE        25.0   \n",
      "7        2544   2010-11        00  1610612748               MIA        26.0   \n",
      "8        2544   2011-12        00  1610612748               MIA        27.0   \n",
      "9        2544   2012-13        00  1610612748               MIA        28.0   \n",
      "10       2544   2013-14        00  1610612748               MIA        29.0   \n",
      "11       2544   2014-15        00  1610612739               CLE        30.0   \n",
      "12       2544   2015-16        00  1610612739               CLE        31.0   \n",
      "13       2544   2016-17        00  1610612739               CLE        32.0   \n",
      "14       2544   2017-18        00  1610612739               CLE        33.0   \n",
      "15       2544   2018-19        00  1610612747               LAL        34.0   \n",
      "16       2544   2019-20        00  1610612747               LAL        35.0   \n",
      "17       2544   2020-21        00  1610612747               LAL        36.0   \n",
      "18       2544   2021-22        00  1610612747               LAL        37.0   \n",
      "19       2544   2022-23        00  1610612747               LAL        38.0   \n",
      "\n",
      "    GP  GS     MIN  FGM  ...  FT_PCT  OREB  DREB  REB  AST  STL  BLK  TOV   \n",
      "0   79  79  3120.0  622  ...   0.754    99   333  432  465  130   58  273  \\\n",
      "1   80  80  3388.0  795  ...   0.750   111   477  588  577  177   52  262   \n",
      "2   79  79  3361.0  875  ...   0.738    75   481  556  521  123   66  260   \n",
      "3   78  78  3190.0  772  ...   0.698    83   443  526  470  125   55  250   \n",
      "4   75  74  3027.0  794  ...   0.712   133   459  592  539  138   81  255   \n",
      "5   81  81  3054.0  789  ...   0.780   106   507  613  587  137   93  241   \n",
      "6   76  76  2966.0  768  ...   0.767    71   483  554  651  125   77  261   \n",
      "7   79  79  3063.0  758  ...   0.759    80   510  590  554  124   50  284   \n",
      "8   62  62  2326.0  621  ...   0.771    94   398  492  387  115   50  213   \n",
      "9   76  76  2877.0  765  ...   0.753    97   513  610  551  129   67  226   \n",
      "10  77  77  2902.0  767  ...   0.750    81   452  533  488  121   26  270   \n",
      "11  69  69  2493.0  624  ...   0.710    51   365  416  511  109   49  272   \n",
      "12  76  76  2709.0  737  ...   0.731   111   454  565  514  104   49  249   \n",
      "13  74  74  2795.0  736  ...   0.674    97   542  639  646   92   44  303   \n",
      "14  82  82  3026.0  857  ...   0.731    97   612  709  747  116   71  347   \n",
      "15  55  55  1937.0  558  ...   0.665    57   408  465  454   72   33  197   \n",
      "16  67  67  2316.0  643  ...   0.693    66   459  525  684   78   36  261   \n",
      "17  45  45  1504.0  422  ...   0.698    29   317  346  350   48   25  168   \n",
      "18  56  56  2084.0  640  ...   0.756    63   396  459  349   73   59  196   \n",
      "19  55  54  1954.0  609  ...   0.768    65   392  457  375   50   32  178   \n",
      "\n",
      "     PF   PTS  \n",
      "0   149  1654  \n",
      "1   146  2175  \n",
      "2   181  2478  \n",
      "3   171  2132  \n",
      "4   165  2250  \n",
      "5   139  2304  \n",
      "6   119  2258  \n",
      "7   163  2111  \n",
      "8    96  1683  \n",
      "9   110  2036  \n",
      "10  126  2089  \n",
      "11  135  1743  \n",
      "12  143  1920  \n",
      "13  134  1954  \n",
      "14  136  2251  \n",
      "15   94  1505  \n",
      "16  118  1698  \n",
      "17   70  1126  \n",
      "18  121  1695  \n",
      "19   88  1590  \n",
      "\n",
      "[20 rows x 27 columns]\n"
     ]
    }
   ],
   "source": [
    "#from nba_api.stats.endpoints import playercareerstats\n",
    "\n",
    "career = playercareerstats.PlayerCareerStats(player_id = p_id)\n",
    "career_info = career.get_data_frames()\n",
    "print(career_info[0])"
   ]
  },
  {
   "cell_type": "code",
   "execution_count": null,
   "metadata": {},
   "outputs": [],
   "source": [
    "from pyspark.sql import SparkSession\n",
    "\n",
    "#Create PySpark SparkSession\n",
    "spark = SparkSession.builder \\\n",
    "    .master(\"local[1]\") \\\n",
    "    .appName(\"NBA_data\") \\\n",
    "    .getOrCreate()\n",
    "\n",
    "#Create PySpark DataFrame from Pandas\n",
    "#sparkDF=spark.createDataFrame(career_info[0]) \n",
    "sparkDF.printSchema()\n",
    "#sparkDF.show()\n"
   ]
  },
  {
   "cell_type": "code",
   "execution_count": 14,
   "metadata": {},
   "outputs": [
    {
     "name": "stdout",
     "output_type": "stream",
     "text": [
      "root\n",
      " |-- PLAYER_ID: long (nullable = true)\n",
      " |-- SEASON_ID: string (nullable = true)\n",
      " |-- LEAGUE_ID: string (nullable = true)\n",
      " |-- TEAM_ID: long (nullable = true)\n",
      " |-- TEAM_ABBREVIATION: string (nullable = true)\n",
      " |-- PLAYER_AGE: double (nullable = true)\n",
      " |-- GP: long (nullable = true)\n",
      " |-- GS: long (nullable = true)\n",
      " |-- MIN: double (nullable = true)\n",
      " |-- FGM: long (nullable = true)\n",
      " |-- FGA: long (nullable = true)\n",
      " |-- FG_PCT: double (nullable = true)\n",
      " |-- FG3M: long (nullable = true)\n",
      " |-- FG3A: long (nullable = true)\n",
      " |-- FG3_PCT: double (nullable = true)\n",
      " |-- FTM: long (nullable = true)\n",
      " |-- FTA: long (nullable = true)\n",
      " |-- FT_PCT: double (nullable = true)\n",
      " |-- OREB: long (nullable = true)\n",
      " |-- DREB: long (nullable = true)\n",
      " |-- REB: long (nullable = true)\n",
      " |-- AST: long (nullable = true)\n",
      " |-- STL: long (nullable = true)\n",
      " |-- BLK: long (nullable = true)\n",
      " |-- TOV: long (nullable = true)\n",
      " |-- PF: long (nullable = true)\n",
      " |-- PTS: long (nullable = true)\n",
      "\n"
     ]
    }
   ],
   "source": [
    "sparkDF.printSchema()"
   ]
  },
  {
   "cell_type": "code",
   "execution_count": null,
   "metadata": {},
   "outputs": [],
   "source": [
    "sparkDF.select(sparkDF['MIN']).show()"
   ]
  },
  {
   "cell_type": "code",
   "execution_count": null,
   "metadata": {},
   "outputs": [],
   "source": [
    "from nba_api.live.nba.endpoints import scoreboard\n",
    "\n",
    "# Today's Score Board\n",
    "games = scoreboard.ScoreBoard()\n",
    "\n",
    "# json\n",
    "games.get_json()\n",
    "\n",
    "# dictionary\n",
    "games.get_dict()"
   ]
  }
 ],
 "metadata": {
  "kernelspec": {
   "display_name": ".venv",
   "language": "python",
   "name": "python3"
  },
  "language_info": {
   "codemirror_mode": {
    "name": "ipython",
    "version": 3
   },
   "file_extension": ".py",
   "mimetype": "text/x-python",
   "name": "python",
   "nbconvert_exporter": "python",
   "pygments_lexer": "ipython3",
   "version": "3.11.3"
  },
  "orig_nbformat": 4
 },
 "nbformat": 4,
 "nbformat_minor": 2
}
