{
 "cells": [
  {
   "cell_type": "markdown",
   "id": "ae3c88df",
   "metadata": {},
   "source": [
    "# 현재 날짜 기준으로 다음날 예상 혼잡도 통계량 제공\n",
    "## 5일 전 자료까지 존재\n",
    "# 예고자료 -> 매일 17시에 업데이트"
   ]
  },
  {
   "cell_type": "code",
   "execution_count": 40,
   "id": "ae081232",
   "metadata": {},
   "outputs": [],
   "source": [
    "url = 'https://www.airport.kr/co/ko/cpr/statisticPredictCrowdedOfRoute.do'"
   ]
  },
  {
   "cell_type": "code",
   "execution_count": 41,
   "id": "4b2be9aa",
   "metadata": {},
   "outputs": [
    {
     "name": "stdout",
     "output_type": "stream",
     "text": [
      "Requirement already satisfied: webdriver-manager in c:\\users\\user\\anaconda3\\lib\\site-packages (3.5.4)\n",
      "Requirement already satisfied: requests in c:\\users\\user\\anaconda3\\lib\\site-packages (from webdriver-manager) (2.26.0)\n",
      "Requirement already satisfied: urllib3<1.27,>=1.21.1 in c:\\users\\user\\anaconda3\\lib\\site-packages (from requests->webdriver-manager) (1.26.7)\n",
      "Requirement already satisfied: idna<4,>=2.5 in c:\\users\\user\\anaconda3\\lib\\site-packages (from requests->webdriver-manager) (3.2)\n",
      "Requirement already satisfied: charset-normalizer~=2.0.0 in c:\\users\\user\\anaconda3\\lib\\site-packages (from requests->webdriver-manager) (2.0.4)\n",
      "Requirement already satisfied: certifi>=2017.4.17 in c:\\users\\user\\anaconda3\\lib\\site-packages (from requests->webdriver-manager) (2021.10.8)\n"
     ]
    }
   ],
   "source": [
    "#각종 패키지 설치\n",
    "\n",
    "import pandas as pd\n",
    "import numpy as np\n",
    "\n",
    "!pip install webdriver-manager\n",
    "from selenium import webdriver\n",
    "from selenium.webdriver.chrome.service import Service\n",
    "from selenium.webdriver.common.keys import Keys\n",
    "from webdriver_manager.chrome import ChromeDriverManager\n",
    "import time\n",
    "\n",
    "from urllib.request import urlopen\n",
    "#from bs4 import BeautifulSoup\n",
    "#from html_table_parser import parser_functions as parser\n",
    "from selenium.webdriver.common.by import By"
   ]
  },
  {
   "cell_type": "code",
   "execution_count": 116,
   "id": "92966be5",
   "metadata": {},
   "outputs": [
    {
     "data": {
      "text/plain": [
       "4"
      ]
     },
     "execution_count": 116,
     "metadata": {},
     "output_type": "execute_result"
    }
   ],
   "source": [
    "import datetime\n",
    "now = datetime.datetime.now()\n",
    "now.month"
   ]
  },
  {
   "cell_type": "code",
   "execution_count": 120,
   "id": "3991da1a",
   "metadata": {
    "scrolled": true
   },
   "outputs": [
    {
     "name": "stderr",
     "output_type": "stream",
     "text": [
      "C:\\Users\\USER\\AppData\\Local\\Temp/ipykernel_2876/1381046086.py:17: DeprecationWarning: executable_path has been deprecated, please pass in a Service object\n",
      "  driver = webdriver.Chrome(r\"C:\\Users\\USER\\Downloads\\chromedriver.exe\")\n"
     ]
    }
   ],
   "source": [
    "crowd_predict = pd.DataFrame()#columns = {'터미널','시간','일본_1','중국_1','동남아_1','미주_1','유럽_1','오세아니아_1','기타_1','일본_2','중국_2','동남아_2','미주_2','유럽_2','오세아니아_2','기타_2'})\n",
    "\n",
    "\n",
    "# 터미널 선택창\n",
    "xpath_terminal = '//*[@id=\"SEL_TM\"]'\n",
    "\n",
    "# 예고일 선택장\n",
    "xpath_day = '//*[@id=\"RESVE_DE\"]'\n",
    "\n",
    "# 검색 버튼\n",
    "xpath_search = '/html/body/section[2]/div/div/article[2]/div[1]/div[2]/div[2]/button'\n",
    "\n",
    "# 내용 \n",
    "xpath_content = '/html/body/section[2]/div/div/article[2]/table/tbody'\n",
    "\n",
    "# 웹드라이버 열기\n",
    "driver = webdriver.Chrome(r\"C:\\Users\\USER\\Downloads\\chromedriver.exe\")\n",
    "driver.get(url)\n",
    "\n",
    "for i in range(1,3) :\n",
    "    if i == 2 :\n",
    "        driver.find_element(by=By.XPATH, value = xpath_terminal).click() # 터미널 선택 클릭\n",
    "        time.sleep(1)\n",
    "        driver.find_element(by=By.XPATH, value = xpath_terminal).send_keys(Keys.DOWN) # 제 2터미널 선택 클릭\n",
    "        driver.find_element(by=By.XPATH, value = xpath_terminal).send_keys(Keys.RETURN) # 제 2터미널 선택 클릭\n",
    "    \n",
    "    driver.find_element(by=By.XPATH, value = '//*[@id=\"RESVE_DE\"]').text\n",
    "    driver.find_element(by=By.XPATH, value = xpath_search).click() # 검색 버튼 클릭\n",
    "    a = pd.DataFrame(driver.find_element(by=By.XPATH, value = xpath_content).text.split(\"\\n\"))\n",
    "    a.columns = ['col']\n",
    "    a = a['col'].str.split(\" \", expand=True)\n",
    "    a['터미널'] = '제{}여객터미널'.format(i)\n",
    "    a.columns = ['시간','일본_{}'.format(i),'중국_{}'.format(i),'동남아_{}'.format(i),'미주_{}'.format(i),\n",
    "                 '유럽_{}'.format(i),'오세아니아_{}'.format(i),'기타_{}'.format(i),'터미널']\n",
    "    if i == 2 :\n",
    "        a = a.drop(['시간'],axis=1)\n",
    "    crowd_predict = pd.concat([crowd_predict,a], axis=i-1)\n",
    "#crowd_predict = crowd_predict[['터미널','시간','일본','중국','동남아','미주','유럽','오세아니아','기타']]"
   ]
  },
  {
   "cell_type": "code",
   "execution_count": 136,
   "id": "90fe422d",
   "metadata": {},
   "outputs": [
    {
     "data": {
      "text/plain": [
       "['2022.04.22(금',\n",
       " '2022.04.21(목',\n",
       " '2022.04.20(수',\n",
       " '2022.04.19(화',\n",
       " '2022.04.18(월',\n",
       " '2022.04.17(일',\n",
       " '2022.04.16(토',\n",
       " '']"
      ]
     },
     "execution_count": 136,
     "metadata": {},
     "output_type": "execute_result"
    }
   ],
   "source": [
    "driver.find_element(by=By.XPATH, value = '//*[@id=\"RESVE_DE\"]').text.replace(\" \",'').replace(\"\\n\",'').split(\")\")"
   ]
  },
  {
   "cell_type": "code",
   "execution_count": 78,
   "id": "e177066d",
   "metadata": {},
   "outputs": [],
   "source": [
    "crowd_predict = crowd_predict.drop(['터미널'], axis=1)[['시간','일본_1','일본_2','중국_1','중국_2','동남아_1','동남아_2',\n",
    "                                    '미주_1','미주_2','유럽_1','유럽_2','오세아니아_1','오세아니아_2','기타_1','기타_2']]"
   ]
  },
  {
   "cell_type": "code",
   "execution_count": 79,
   "id": "721d7c43",
   "metadata": {},
   "outputs": [],
   "source": [
    "['일본','중국','동남아','미주','유럽','오세아니아','기타']\n",
    "\n",
    "for i in ['일본','중국','동남아','미주','유럽','오세아니아','기타'] :\n",
    "    crowd_predict[i+\"_통합\"] = crowd_predict[i+'_1'].astype(int) + crowd_predict[i+'_2'].astype(int)"
   ]
  },
  {
   "cell_type": "code",
   "execution_count": 91,
   "id": "ffa3058d",
   "metadata": {
    "scrolled": true
   },
   "outputs": [],
   "source": [
    "total = crowd_predict[['시간','일본_통합','중국_통합','동남아_통합','미주_통합','유럽_통합','오세아니아_통합','기타_통합']]"
   ]
  },
  {
   "cell_type": "code",
   "execution_count": 196,
   "id": "08b26d10",
   "metadata": {},
   "outputs": [],
   "source": [
    "#total['합계'] = total.iloc[:,1:].sum(axis=1)"
   ]
  },
  {
   "cell_type": "code",
   "execution_count": 57,
   "id": "8a2be0ff",
   "metadata": {},
   "outputs": [],
   "source": [
    "total.to_excel('공향_예상_혼잡도_0422.xlsx', index = False)"
   ]
  },
  {
   "cell_type": "code",
   "execution_count": 162,
   "id": "4f14b4cc",
   "metadata": {},
   "outputs": [
    {
     "name": "stdout",
     "output_type": "stream",
     "text": [
      "        시간  일본  중국  동남아  미주   유럽  오세아니아   기타\n",
      "0     00~1   0   0    0   0  181      0    0\n",
      "1     01~2   0   0    0   0   76      0    0\n",
      "2     02~3   0   0    0   0    1      0    0\n",
      "3     03~4   0   0    0   0    0      0    0\n",
      "4     04~5   4   0    0   0    0      0    0\n",
      "..     ...  ..  ..  ...  ..  ...    ...  ...\n",
      "163  19~20   0   0   79  73   15     47   36\n",
      "164  20~21   0   0    2   0   53      6   61\n",
      "165  21~22   0   0    0   0  149      0  147\n",
      "166  22~23   0   0    0   0   79      0  131\n",
      "167  23~24   0   0    0   0    1      0  193\n",
      "\n",
      "[168 rows x 8 columns]\n"
     ]
    }
   ],
   "source": [
    "import pandas as pd\n",
    "import glob\n",
    "\n",
    "try:\n",
    "    path = r'C:\\Users\\USER\\Downloads\\공항예상혼잡도/'\n",
    "    files = glob.glob(path + \"*.xls\")\n",
    "    excel = pd.DataFrame()\n",
    "    for file_name in files:\n",
    "        df = pd.read_excel(file_name)\n",
    "        excel = excel.append(df, ignore_index=True)\n",
    "    print(excel)\n",
    "\n",
    "except Exception as ex:\n",
    "    print('error' + str(ex))"
   ]
  },
  {
   "cell_type": "code",
   "execution_count": 185,
   "id": "1638c2ac",
   "metadata": {},
   "outputs": [
    {
     "name": "stdout",
     "output_type": "stream",
     "text": [
      "2022년4월16일\n",
      "2022년4월17일\n",
      "2022년4월18일\n",
      "2022년4월19일\n",
      "2022년4월20일\n",
      "2022년4월21일\n",
      "2022년4월22일\n"
     ]
    }
   ],
   "source": [
    "for i in pd.date_range('20220416', periods = 7) :\n",
    "    print(\"{}년{}월{}일\".format(i.year, i.month, i.day))\n",
    "    ee['시간'] = ee['시간'].apply(lambda x : \"{}년{}월{}일 \".format(str(i.year)[2:], i.month, i.day)+x if x =='00~1' else x)"
   ]
  },
  {
   "cell_type": "code",
   "execution_count": 188,
   "id": "a947b2d4",
   "metadata": {},
   "outputs": [],
   "source": [
    "ee.to_excel('공향_예상_혼잡도_0416~22.xlsx', index = False)"
   ]
  },
  {
   "cell_type": "code",
   "execution_count": null,
   "id": "e0fd552f",
   "metadata": {},
   "outputs": [],
   "source": []
  }
 ],
 "metadata": {
  "kernelspec": {
   "display_name": "Python 3 (ipykernel)",
   "language": "python",
   "name": "python3"
  },
  "language_info": {
   "codemirror_mode": {
    "name": "ipython",
    "version": 3
   },
   "file_extension": ".py",
   "mimetype": "text/x-python",
   "name": "python",
   "nbconvert_exporter": "python",
   "pygments_lexer": "ipython3",
   "version": "3.9.7"
  }
 },
 "nbformat": 4,
 "nbformat_minor": 5
}
