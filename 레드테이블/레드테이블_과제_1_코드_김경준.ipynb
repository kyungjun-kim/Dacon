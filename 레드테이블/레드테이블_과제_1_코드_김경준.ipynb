{
 "cells": [
  {
   "cell_type": "code",
   "execution_count": 1,
   "id": "3c4fd66f",
   "metadata": {
    "_cell_guid": "b1076dfc-b9ad-4769-8c92-a6c4dae69d19",
    "_uuid": "8f2839f25d086af736a60e9eeb907d3b93b6e0e5",
    "execution": {
     "iopub.execute_input": "2022-03-13T21:29:06.715887Z",
     "iopub.status.busy": "2022-03-13T21:29:06.714380Z",
     "iopub.status.idle": "2022-03-13T21:29:06.729851Z",
     "shell.execute_reply": "2022-03-13T21:29:06.730435Z",
     "shell.execute_reply.started": "2022-03-13T21:28:43.311695Z"
    },
    "papermill": {
     "duration": 0.047023,
     "end_time": "2022-03-13T21:29:06.730711",
     "exception": false,
     "start_time": "2022-03-13T21:29:06.683688",
     "status": "completed"
    },
    "tags": []
   },
   "outputs": [
    {
     "name": "stdout",
     "output_type": "stream",
     "text": [
      "/kaggle/input/red-table/Red_Table.xlsx\n"
     ]
    }
   ],
   "source": [
    "# This Python 3 environment comes with many helpful analytics libraries installed\n",
    "# It is defined by the kaggle/python Docker image: https://github.com/kaggle/docker-python\n",
    "# For example, here's several helpful packages to load\n",
    "\n",
    "import numpy as np # linear algebra\n",
    "import pandas as pd # data processing, CSV file I/O (e.g. pd.read_csv)\n",
    "\n",
    "# Input data files are available in the read-only \"../input/\" directory\n",
    "# For example, running this (by clicking run or pressing Shift+Enter) will list all files under the input directory\n",
    "\n",
    "import os\n",
    "for dirname, _, filenames in os.walk('/kaggle/input'):\n",
    "    for filename in filenames:\n",
    "        print(os.path.join(dirname, filename))\n",
    "\n",
    "# You can write up to 20GB to the current directory (/kaggle/working/) that gets preserved as output when you create a version using \"Save & Run All\" \n",
    "# You can also write temporary files to /kaggle/temp/, but they won't be saved outside of the current session"
   ]
  },
  {
   "cell_type": "markdown",
   "id": "dd747930",
   "metadata": {
    "papermill": {
     "duration": 0.025543,
     "end_time": "2022-03-13T21:29:06.784380",
     "exception": false,
     "start_time": "2022-03-13T21:29:06.758837",
     "status": "completed"
    },
    "tags": []
   },
   "source": [
    "# 과제 1. 매장 소개 문구 자동 출력 코드 구현\n",
    "- 과제는 캐글에서 진행했습니다.\n",
    "- https://www.kaggle.com/kkj214/red-table-1"
   ]
  },
  {
   "cell_type": "code",
   "execution_count": 2,
   "id": "70ef6eb5",
   "metadata": {
    "execution": {
     "iopub.execute_input": "2022-03-13T21:29:06.838795Z",
     "iopub.status.busy": "2022-03-13T21:29:06.838000Z",
     "iopub.status.idle": "2022-03-13T21:29:16.234073Z",
     "shell.execute_reply": "2022-03-13T21:29:16.233291Z",
     "shell.execute_reply.started": "2022-03-13T21:28:43.953090Z"
    },
    "papermill": {
     "duration": 9.424144,
     "end_time": "2022-03-13T21:29:16.234228",
     "exception": false,
     "start_time": "2022-03-13T21:29:06.810084",
     "status": "completed"
    },
    "tags": []
   },
   "outputs": [
    {
     "name": "stdout",
     "output_type": "stream",
     "text": [
      "Collecting openpyxl\r\n",
      "  Downloading openpyxl-3.0.9-py2.py3-none-any.whl (242 kB)\r\n",
      "     |████████████████████████████████| 242 kB 894 kB/s            \r\n",
      "\u001b[?25hCollecting et-xmlfile\r\n",
      "  Downloading et_xmlfile-1.1.0-py3-none-any.whl (4.7 kB)\r\n",
      "Installing collected packages: et-xmlfile, openpyxl\r\n",
      "Successfully installed et-xmlfile-1.1.0 openpyxl-3.0.9\r\n",
      "\u001b[33mWARNING: Running pip as the 'root' user can result in broken permissions and conflicting behaviour with the system package manager. It is recommended to use a virtual environment instead: https://pip.pypa.io/warnings/venv\u001b[0m\r\n"
     ]
    }
   ],
   "source": [
    "!pip install openpyxl\n",
    "#from google.colab import drive\n",
    "#import pandas as pd\n",
    "#import numpy as np\n",
    "#!pip install openpyxl\n",
    "#import re \n",
    "#path = \"/content/sample_data/Red_Table.xlsx\""
   ]
  },
  {
   "cell_type": "markdown",
   "id": "60bace0c",
   "metadata": {
    "papermill": {
     "duration": 0.030136,
     "end_time": "2022-03-13T21:29:16.294125",
     "exception": false,
     "start_time": "2022-03-13T21:29:16.263989",
     "status": "completed"
    },
    "tags": []
   },
   "source": [
    "# 과제 1. 매장 소개 문구 자동 출력 코드 구현\n",
    "- 과제는 캐글에서 진행했습니다.\n",
    "- https://www.kaggle.com/kkj214/red-table-1"
   ]
  },
  {
   "cell_type": "markdown",
   "id": "1ced0ecc",
   "metadata": {
    "papermill": {
     "duration": 0.028442,
     "end_time": "2022-03-13T21:29:16.354212",
     "exception": false,
     "start_time": "2022-03-13T21:29:16.325770",
     "status": "completed"
    },
    "tags": []
   },
   "source": [
    "## 데이터 확인"
   ]
  },
  {
   "cell_type": "code",
   "execution_count": 3,
   "id": "1b8a3726",
   "metadata": {
    "execution": {
     "iopub.execute_input": "2022-03-13T21:29:16.417165Z",
     "iopub.status.busy": "2022-03-13T21:29:16.416345Z",
     "iopub.status.idle": "2022-03-13T21:29:19.767305Z",
     "shell.execute_reply": "2022-03-13T21:29:19.766261Z",
     "shell.execute_reply.started": "2022-03-13T21:12:10.727749Z"
    },
    "papermill": {
     "duration": 3.384641,
     "end_time": "2022-03-13T21:29:19.767437",
     "exception": false,
     "start_time": "2022-03-13T21:29:16.382796",
     "status": "completed"
    },
    "tags": []
   },
   "outputs": [],
   "source": [
    "sd = pd.read_excel(\"../input/red-table/Red_Table.xlsx\",sheet_name = '1번데이터')#, index_col = 0)\n",
    "# sd = Store Data / 1번데이터\n",
    "\n",
    "se = pd.read_excel(\"../input/red-table/Red_Table.xlsx\",sheet_name = '1번출력문장', index_col = 0)\n",
    "# sd = Store Data / 1번 출력문장"
   ]
  },
  {
   "cell_type": "code",
   "execution_count": 4,
   "id": "82672cb1",
   "metadata": {
    "execution": {
     "iopub.execute_input": "2022-03-13T21:29:19.843071Z",
     "iopub.status.busy": "2022-03-13T21:29:19.842393Z",
     "iopub.status.idle": "2022-03-13T21:29:19.846733Z",
     "shell.execute_reply": "2022-03-13T21:29:19.846128Z",
     "shell.execute_reply.started": "2022-03-13T21:12:14.048654Z"
    },
    "papermill": {
     "duration": 0.050068,
     "end_time": "2022-03-13T21:29:19.846903",
     "exception": false,
     "start_time": "2022-03-13T21:29:19.796835",
     "status": "completed"
    },
    "tags": []
   },
   "outputs": [
    {
     "name": "stdout",
     "output_type": "stream",
     "text": [
      "<class 'pandas.core.frame.DataFrame'>\n",
      "RangeIndex: 100 entries, 0 to 99\n",
      "Data columns (total 10 columns):\n",
      " #   Column   Non-Null Count  Dtype  \n",
      "---  ------   --------------  -----  \n",
      " 0   매장명      100 non-null    object \n",
      " 1   지점명      9 non-null      object \n",
      " 2   도로명주소    100 non-null    object \n",
      " 3   지번주소     100 non-null    object \n",
      " 4   어워드      93 non-null     object \n",
      " 5   어워드수여년도  74 non-null     float64\n",
      " 6   어워드등급    27 non-null     object \n",
      " 7   반려동물출입   100 non-null    object \n",
      " 8   남녀화장실구분  100 non-null    object \n",
      " 9   배리어프리    100 non-null    object \n",
      "dtypes: float64(1), object(9)\n",
      "memory usage: 7.9+ KB\n"
     ]
    }
   ],
   "source": [
    "#1번 데이터의 기본 정보 확인\n",
    "sd.info()"
   ]
  },
  {
   "cell_type": "code",
   "execution_count": 5,
   "id": "852535e5",
   "metadata": {
    "execution": {
     "iopub.execute_input": "2022-03-13T21:29:19.913963Z",
     "iopub.status.busy": "2022-03-13T21:29:19.913406Z",
     "iopub.status.idle": "2022-03-13T21:29:19.918794Z",
     "shell.execute_reply": "2022-03-13T21:29:19.918376Z",
     "shell.execute_reply.started": "2022-03-13T21:12:14.062931Z"
    },
    "papermill": {
     "duration": 0.041985,
     "end_time": "2022-03-13T21:29:19.918928",
     "exception": false,
     "start_time": "2022-03-13T21:29:19.876943",
     "status": "completed"
    },
    "tags": []
   },
   "outputs": [
    {
     "data": {
      "text/plain": [
       "매장명         0\n",
       "지점명        91\n",
       "도로명주소       0\n",
       "지번주소        0\n",
       "어워드         7\n",
       "어워드수여년도    26\n",
       "어워드등급      73\n",
       "반려동물출입      0\n",
       "남녀화장실구분     0\n",
       "배리어프리       0\n",
       "dtype: int64"
      ]
     },
     "execution_count": 5,
     "metadata": {},
     "output_type": "execute_result"
    }
   ],
   "source": [
    "# null값 확인\n",
    "sd.isnull().sum()\n",
    "# 지점명과 어워드(+년도,등급)에 결측값 존재"
   ]
  },
  {
   "cell_type": "markdown",
   "id": "4004a801",
   "metadata": {
    "papermill": {
     "duration": 0.029228,
     "end_time": "2022-03-13T21:29:19.978296",
     "exception": false,
     "start_time": "2022-03-13T21:29:19.949068",
     "status": "completed"
    },
    "tags": []
   },
   "source": [
    "# 데이터 변경\n",
    "- '시_도','시_군구','지점명','통합주소' 컬럼을 추가\n",
    "- 결측값을 제거하였습니다\n"
   ]
  },
  {
   "cell_type": "code",
   "execution_count": 6,
   "id": "998be225",
   "metadata": {
    "execution": {
     "iopub.execute_input": "2022-03-13T21:29:20.047676Z",
     "iopub.status.busy": "2022-03-13T21:29:20.047080Z",
     "iopub.status.idle": "2022-03-13T21:29:20.050091Z",
     "shell.execute_reply": "2022-03-13T21:29:20.049648Z",
     "shell.execute_reply.started": "2022-03-13T21:12:19.408445Z"
    },
    "papermill": {
     "duration": 0.042522,
     "end_time": "2022-03-13T21:29:20.050207",
     "exception": false,
     "start_time": "2022-03-13T21:29:20.007685",
     "status": "completed"
    },
    "tags": []
   },
   "outputs": [],
   "source": [
    "# 시/도 와 시/군/구 컬럼 추가\n",
    "sd['시_도'] = sd.도로명주소.apply(lambda x : x.split()[0])\n",
    "sd['시_군구'] = sd.도로명주소.apply(lambda x : x.split()[1])\n",
    "#sd['시도_시군구'] = sd.도로명주소.apply(lambda x : [x.split()[0]] + [x.split()[1]])\n",
    "\n",
    "#지점명 괄호 추가\n",
    "sd.지점명 = sd.지점명.apply(lambda x : \"\" if type(x)==float else \"(\"+x+\")\")\n",
    "sd['통합주소'] = sd.도로명주소 + \" \" + sd.매장명 + sd.지점명"
   ]
  },
  {
   "cell_type": "code",
   "execution_count": 7,
   "id": "0de27a3c",
   "metadata": {
    "execution": {
     "iopub.execute_input": "2022-03-13T21:29:20.115653Z",
     "iopub.status.busy": "2022-03-13T21:29:20.114972Z",
     "iopub.status.idle": "2022-03-13T21:29:20.117083Z",
     "shell.execute_reply": "2022-03-13T21:29:20.117450Z",
     "shell.execute_reply.started": "2022-03-13T21:12:21.630317Z"
    },
    "papermill": {
     "duration": 0.03771,
     "end_time": "2022-03-13T21:29:20.117574",
     "exception": false,
     "start_time": "2022-03-13T21:29:20.079864",
     "status": "completed"
    },
    "tags": []
   },
   "outputs": [],
   "source": [
    "# 임시로 null 값 을 공백 혹은 0으로 처리했습니다\n",
    "\n",
    "sd['어워드'] = sd['어워드'].fillna(\"\")\n",
    "sd['어워드수여년도'] = sd['어워드수여년도'].fillna(0).astype(int)\n",
    "sd['어워드등급'] = sd['어워드등급'].fillna(\"\")"
   ]
  },
  {
   "cell_type": "markdown",
   "id": "298bef65",
   "metadata": {
    "papermill": {
     "duration": 0.029425,
     "end_time": "2022-03-13T21:29:20.176582",
     "exception": false,
     "start_time": "2022-03-13T21:29:20.147157",
     "status": "completed"
    },
    "tags": []
   },
   "source": [
    "- 이번과제에서는 딱히 int type으로 변환할 필요가 없다고 판단해 그냥 두었습니다"
   ]
  },
  {
   "cell_type": "code",
   "execution_count": 8,
   "id": "645a2f3f",
   "metadata": {
    "execution": {
     "iopub.execute_input": "2022-03-13T21:29:20.240416Z",
     "iopub.status.busy": "2022-03-13T21:29:20.238904Z",
     "iopub.status.idle": "2022-03-13T21:29:20.241057Z",
     "shell.execute_reply": "2022-03-13T21:29:20.241454Z",
     "shell.execute_reply.started": "2022-03-13T21:12:42.716538Z"
    },
    "papermill": {
     "duration": 0.034979,
     "end_time": "2022-03-13T21:29:20.241570",
     "exception": false,
     "start_time": "2022-03-13T21:29:20.206591",
     "status": "completed"
    },
    "tags": []
   },
   "outputs": [],
   "source": [
    "# Y 이면 1 / N 이면 0 으로 변환\n",
    "\n",
    "#sd['반려동물출입'] = sd['반려동물출입'].apply(lambda x : 1 if x == \"Y\" else 0)\n",
    "#sd['남녀화장실구분'] = sd['남녀화장실구분'].apply(lambda x : 1 if x == \"Y\" else 0)\n",
    "#sd['배리어프리'] = sd['배리어프리'].apply(lambda x : 1 if x == \"Y\" else 0)"
   ]
  },
  {
   "cell_type": "markdown",
   "id": "08e93a1a",
   "metadata": {
    "papermill": {
     "duration": 0.02932,
     "end_time": "2022-03-13T21:29:20.300177",
     "exception": false,
     "start_time": "2022-03-13T21:29:20.270857",
     "status": "completed"
    },
    "tags": []
   },
   "source": [
    "# 출력 문장 데이터 확인 및 리스트로 변환\n",
    "- 기본문장 / 어워드 정보 / 옵션 정보 \n",
    "- 3가지로 구분해 진행하였습니다"
   ]
  },
  {
   "cell_type": "code",
   "execution_count": 9,
   "id": "8e63bc54",
   "metadata": {
    "execution": {
     "iopub.execute_input": "2022-03-13T21:29:20.363675Z",
     "iopub.status.busy": "2022-03-13T21:29:20.362128Z",
     "iopub.status.idle": "2022-03-13T21:29:20.364313Z",
     "shell.execute_reply": "2022-03-13T21:29:20.364697Z",
     "shell.execute_reply.started": "2022-03-13T21:12:44.987546Z"
    },
    "papermill": {
     "duration": 0.035121,
     "end_time": "2022-03-13T21:29:20.364841",
     "exception": false,
     "start_time": "2022-03-13T21:29:20.329720",
     "status": "completed"
    },
    "tags": []
   },
   "outputs": [],
   "source": [
    "import random\n",
    "# 문장 무작위 선택을 위해 random"
   ]
  },
  {
   "cell_type": "code",
   "execution_count": 10,
   "id": "61ae8d88",
   "metadata": {
    "execution": {
     "iopub.execute_input": "2022-03-13T21:29:20.430654Z",
     "iopub.status.busy": "2022-03-13T21:29:20.429785Z",
     "iopub.status.idle": "2022-03-13T21:29:20.432867Z",
     "shell.execute_reply": "2022-03-13T21:29:20.433279Z",
     "shell.execute_reply.started": "2022-03-13T21:12:53.514648Z"
    },
    "papermill": {
     "duration": 0.03827,
     "end_time": "2022-03-13T21:29:20.433410",
     "exception": false,
     "start_time": "2022-03-13T21:29:20.395140",
     "status": "completed"
    },
    "tags": []
   },
   "outputs": [
    {
     "data": {
      "text/plain": [
       "['어디 가야 할지 고민이라고요? 그럼 [시도] [시군구] 맛집, \"매장명\"을/를 추천합니다!',\n",
       " '무엇을 먹을지 고민되신다고요? [시도] [시군구]에 계시다면 \"매장명\"을/를 추천합니다!',\n",
       " '\"매장명\"은/는 [시도] [시군구]에 있습니다.',\n",
       " '\"매장명\"을/를 [시도] [시군구]의 가 볼 만한 식당으로 추천합니다!',\n",
       " '[시도] [시군구]에서 맛집을 찾으신다면 \"매장명\"을/를 추천합니다.',\n",
       " '[시도] [시군구]에 가신다면 \"매장명\"에 방문해보세요~',\n",
       " '[시도] [시군구]에서 가 볼 만한 식당을 찾으신다면? \"매장명\"을/를 추천합니다!',\n",
       " '[시도] [시군구]에서 식당을 찾으신다면? \"매장명\"을/를 방문해보세요!',\n",
       " '[시도] [시군구]에서 어디를 갈지 고민이라면! \"매장명\"에 가보시는 건 어떨까요?']"
      ]
     },
     "execution_count": 10,
     "metadata": {},
     "output_type": "execute_result"
    }
   ],
   "source": [
    "# 기본 문구 리스트 생성\n",
    "basic = se.iloc[:9]['출력 문구'].to_list()\n",
    "basic"
   ]
  },
  {
   "cell_type": "markdown",
   "id": "d121361e",
   "metadata": {
    "execution": {
     "iopub.execute_input": "2022-03-13T21:16:04.720549Z",
     "iopub.status.busy": "2022-03-13T21:16:04.720002Z",
     "iopub.status.idle": "2022-03-13T21:16:04.725272Z",
     "shell.execute_reply": "2022-03-13T21:16:04.724269Z",
     "shell.execute_reply.started": "2022-03-13T21:16:04.720510Z"
    },
    "papermill": {
     "duration": 0.029573,
     "end_time": "2022-03-13T21:29:20.492533",
     "exception": false,
     "start_time": "2022-03-13T21:29:20.462960",
     "status": "completed"
    },
    "tags": []
   },
   "source": [
    "- 코드를 좀 더 효율적으로 짜야할 필요가 있을 것 같습니다"
   ]
  },
  {
   "cell_type": "code",
   "execution_count": 11,
   "id": "f662f574",
   "metadata": {
    "execution": {
     "iopub.execute_input": "2022-03-13T21:29:20.560732Z",
     "iopub.status.busy": "2022-03-13T21:29:20.559676Z",
     "iopub.status.idle": "2022-03-13T21:29:20.563817Z",
     "shell.execute_reply": "2022-03-13T21:29:20.563330Z",
     "shell.execute_reply.started": "2022-03-13T21:16:24.116585Z"
    },
    "papermill": {
     "duration": 0.041842,
     "end_time": "2022-03-13T21:29:20.563970",
     "exception": false,
     "start_time": "2022-03-13T21:29:20.522128",
     "status": "completed"
    },
    "tags": []
   },
   "outputs": [
    {
     "data": {
      "text/plain": [
       "0        부산광역시 강서구에서 어디를 갈지 고민이라면! \"명지횟집\"에 가보시는 건 어떨까요?\n",
       "1     어디 가야 할지 고민이라고요? 그럼 서울특별시 종로구 맛집, \"동성각\"을/를 추천합니다!\n",
       "2       서울특별시 용산구에서 어디를 갈지 고민이라면! \"후렌드치킨\"에 가보시는 건 어떨까요?\n",
       "3     어디 가야 할지 고민이라고요? 그럼 서울특별시 강남구 맛집, \"브래서리\"을/를 추천...\n",
       "4     어디 가야 할지 고민이라고요? 그럼 서울특별시 영등포구 맛집, \"린네스가든\"을/를 ...\n",
       "                            ...                        \n",
       "95                          \"나루터연화\"은/는 부산광역시 기장군에 있습니다.\n",
       "96      부산광역시 기장군에서 어디를 갈지 고민이라면! \"나루터연화\"에 가보시는 건 어떨까요?\n",
       "97           \"1960청원모밀\"을/를 광주광역시 동구의 가 볼 만한 식당으로 추천합니다!\n",
       "98                광주광역시 동구에서 식당을 찾으신다면? \"청하\"을/를 방문해보세요!\n",
       "99                             \"태화장\"은/는 대전광역시 동구에 있습니다.\n",
       "Name: 기본문장, Length: 100, dtype: object"
      ]
     },
     "execution_count": 11,
     "metadata": {},
     "output_type": "execute_result"
    }
   ],
   "source": [
    "# 랜덤으로 기본 문구에 시도, 시군구, 매장명 추가한 컬럼 생성\n",
    "sd['기본문장'] = sd['통합주소'].apply(lambda x : random.choice(basic).replace('[시도]',x.split()[0]).replace('[시군구]',x.split()[1]).replace('매장명',x.split()[-1]))\n",
    "sd['기본문장']                             "
   ]
  },
  {
   "cell_type": "markdown",
   "id": "dacc7640",
   "metadata": {
    "papermill": {
     "duration": 0.029799,
     "end_time": "2022-03-13T21:29:20.623838",
     "exception": false,
     "start_time": "2022-03-13T21:29:20.594039",
     "status": "completed"
    },
    "tags": []
   },
   "source": [
    "- 은/는 혹은 이/가 등의 경우 ord,chr을 통해 아스키코드로 함수화하여 구별했습니다"
   ]
  },
  {
   "cell_type": "code",
   "execution_count": 12,
   "id": "b1ec0b9d",
   "metadata": {
    "execution": {
     "iopub.execute_input": "2022-03-13T21:29:20.688349Z",
     "iopub.status.busy": "2022-03-13T21:29:20.687636Z",
     "iopub.status.idle": "2022-03-13T21:29:20.689623Z",
     "shell.execute_reply": "2022-03-13T21:29:20.690004Z",
     "shell.execute_reply.started": "2022-03-13T21:16:27.203617Z"
    },
    "papermill": {
     "duration": 0.036368,
     "end_time": "2022-03-13T21:29:20.690125",
     "exception": false,
     "start_time": "2022-03-13T21:29:20.653757",
     "status": "completed"
    },
    "tags": []
   },
   "outputs": [],
   "source": [
    "# 을/를 받침 확인 함수\n",
    "def e_w(kstr): #ends with\n",
    "    k = kstr[-1]\n",
    "    if \"가\" <= k <= \"힣\":\n",
    "        return (ord(k)-ord(\"가\")) % 28 > 0\n",
    "    else:\n",
    "        return"
   ]
  },
  {
   "cell_type": "code",
   "execution_count": 13,
   "id": "be882651",
   "metadata": {
    "execution": {
     "iopub.execute_input": "2022-03-13T21:29:20.760912Z",
     "iopub.status.busy": "2022-03-13T21:29:20.760276Z",
     "iopub.status.idle": "2022-03-13T21:29:20.762559Z",
     "shell.execute_reply": "2022-03-13T21:29:20.762969Z",
     "shell.execute_reply.started": "2022-03-13T21:18:33.792826Z"
    },
    "papermill": {
     "duration": 0.042455,
     "end_time": "2022-03-13T21:29:20.763091",
     "exception": false,
     "start_time": "2022-03-13T21:29:20.720636",
     "status": "completed"
    },
    "tags": []
   },
   "outputs": [],
   "source": [
    "# 은/는, 을/를 구분 -> 비효율적인 코드인것 같아서 변경이 필요해보임 -> (지점명) 괄호의 경우\n",
    "bs = sd['기본문장'].tolist()\n",
    "for i in bs :\n",
    "    if \"을/를\"  in i : # 을/를의 경우\n",
    "        if i[i.index(\"을/를\")-2] == \")\" :\n",
    "            if e_w(i[i.index(\"을/를\")-3]) == True :\n",
    "                bs[bs.index(i)] = i.replace('을/를','을')\n",
    "            else :\n",
    "                bs[bs.index(i)] = i.replace('을/를','를')\n",
    "        else :\n",
    "            if e_w(i[i.index(\"을/를\")-2]) == True:\n",
    "                bs[bs.index(i)] = i.replace('을/를','을')\n",
    "            else:  \n",
    "                bs[bs.index(i)] = i.replace('을/를','를')\n",
    "    elif \"은/는\" in i:\n",
    "        if i[i.index(\"은/는\")-2] == \")\" :\n",
    "            if e_w(i[i.index(\"은/는\")-3]) == True :\n",
    "                bs[bs.index(i)] = i.replace('은/는','은')\n",
    "            else :\n",
    "                bs[bs.index(i)] = i.replace('은/는','는')\n",
    "        else :\n",
    "            if e_w(i[i.index(\"은/는\")-2]) == True:\n",
    "                bs[bs.index(i)] = i.replace('은/는','은')\n",
    "            else:  \n",
    "                bs[bs.index(i)] = i.replace('은/는','는')\n",
    "sd['기본문장'] = bs"
   ]
  },
  {
   "cell_type": "markdown",
   "id": "4e0fbdbd",
   "metadata": {
    "papermill": {
     "duration": 0.029833,
     "end_time": "2022-03-13T21:29:20.823017",
     "exception": false,
     "start_time": "2022-03-13T21:29:20.793184",
     "status": "completed"
    },
    "tags": []
   },
   "source": [
    "## 수상 문장 작업"
   ]
  },
  {
   "cell_type": "code",
   "execution_count": 14,
   "id": "15c59dbe",
   "metadata": {
    "execution": {
     "iopub.execute_input": "2022-03-13T21:29:20.890020Z",
     "iopub.status.busy": "2022-03-13T21:29:20.889366Z",
     "iopub.status.idle": "2022-03-13T21:29:20.892500Z",
     "shell.execute_reply": "2022-03-13T21:29:20.892927Z",
     "shell.execute_reply.started": "2022-03-13T21:16:35.240749Z"
    },
    "papermill": {
     "duration": 0.039689,
     "end_time": "2022-03-13T21:29:20.893052",
     "exception": false,
     "start_time": "2022-03-13T21:29:20.853363",
     "status": "completed"
    },
    "tags": []
   },
   "outputs": [
    {
     "data": {
      "text/plain": [
       "['0000년 지방자치단체 인증을 받은 농림축산식품부 제공 안심식당입니다.',\n",
       " '위생 수준이 우수하고 친절한 서비스로 0000년 지방자치단체의 선정을 받은 모범음식점입니다.',\n",
       " \"0000년 식품의약품안전처 음식점 위생등급 평가를 통해 '[grade]' 등급을 지정받은 곳입니다.\",\n",
       " \"안전하고 위생적인 환경을 갖추었으며, 영양상 균형 잡힌 식품을 조리해 판매하는 '어린이 우수판매업소'입니다.\",\n",
       " \"이 매장은 블루리본 서베이에서 리본 1개를 받은 식당으로, '시간을 내어 다시 방문하고 싶은 곳'이라 평가받았습니다.\",\n",
       " \"이 매장은 블루리본 서베이에서 리본 2개를 받아, '주위 사람들에게도 추천하고 싶은 곳'이라는 좋은 평가를 받았습니다.\",\n",
       " \"이 매장은 블루리본 서베이에서 리본 3개를 받은 매장으로, '자신의 분야에서 가장 뛰어난 솜씨를 보이는 곳'이라는 훌륭한 평가를 받았습니다.\",\n",
       " '미쉐린 가이드 서울 2021에서 1스타를 획득했습니다. 훌륭한 요리를 맛볼 수 있는 레스토랑입니다.',\n",
       " '미쉐린 가이드 서울 2021에서 2스타를 획득했습니다. 훌륭한 요리를 맛볼 수 있어 멀리 찾아갈 만한 가치가 있는 레스토랑입니다.',\n",
       " '미쉐린 가이드 서울 2021에서 3스타를 획득했습니다. 매우 훌륭한 요리를 맛볼 수 있어 특별한 여행을 떠날 가치가 있는 레스토랑입니다.',\n",
       " '미쉐린 가이드 서울 2021의 미쉐린 플레이트로 선정된 레스토랑입니다. 신선한 재료로 만든 좋은 요리를 맛볼 수 있습니다.',\n",
       " '미쉐린 가이드 서울 2021의 빕 구르망으로 선정된 매장입니다. 합리적인 가격에 훌륭한 음식을 맛볼 수 있습니다.']"
      ]
     },
     "execution_count": 14,
     "metadata": {},
     "output_type": "execute_result"
    }
   ],
   "source": [
    "# 수상 정보 리스트 생성\n",
    "award_list = se.iloc[9:21]['출력 문구'].to_list()\n",
    "award_list"
   ]
  },
  {
   "cell_type": "code",
   "execution_count": 15,
   "id": "a949fc10",
   "metadata": {
    "execution": {
     "iopub.execute_input": "2022-03-13T21:29:20.960385Z",
     "iopub.status.busy": "2022-03-13T21:29:20.959599Z",
     "iopub.status.idle": "2022-03-13T21:29:20.964761Z",
     "shell.execute_reply": "2022-03-13T21:29:20.964319Z",
     "shell.execute_reply.started": "2022-03-13T21:16:35.716683Z"
    },
    "papermill": {
     "duration": 0.04094,
     "end_time": "2022-03-13T21:29:20.964880",
     "exception": false,
     "start_time": "2022-03-13T21:29:20.923940",
     "status": "completed"
    },
    "tags": []
   },
   "outputs": [],
   "source": [
    "sd['어워드수여년도'] = sd['어워드수여년도'].astype(str)\n",
    "sd['어워드통합'] = sd[['어워드','어워드수여년도','어워드등급']].apply(\" \".join, axis=1)"
   ]
  },
  {
   "cell_type": "markdown",
   "id": "bfe84580",
   "metadata": {
    "papermill": {
     "duration": 0.032362,
     "end_time": "2022-03-13T21:29:21.030467",
     "exception": false,
     "start_time": "2022-03-13T21:29:20.998105",
     "status": "completed"
    },
    "tags": []
   },
   "source": [
    "- 미슐랭의 경우 빕구르망, 블루리본의 경우 1,2만 존재했기때문에 나머지 등급은 제외하였습니다"
   ]
  },
  {
   "cell_type": "code",
   "execution_count": 16,
   "id": "2c1ce8cf",
   "metadata": {
    "execution": {
     "iopub.execute_input": "2022-03-13T21:29:21.104971Z",
     "iopub.status.busy": "2022-03-13T21:29:21.103321Z",
     "iopub.status.idle": "2022-03-13T21:29:21.105558Z",
     "shell.execute_reply": "2022-03-13T21:29:21.106001Z",
     "shell.execute_reply.started": "2022-03-13T21:16:36.521433Z"
    },
    "papermill": {
     "duration": 0.043418,
     "end_time": "2022-03-13T21:29:21.106131",
     "exception": false,
     "start_time": "2022-03-13T21:29:21.062713",
     "status": "completed"
    },
    "tags": []
   },
   "outputs": [],
   "source": [
    "sd['어워드정보'] = sd['어워드통합'].apply(lambda x : award_list[0].replace(\"0000\",x.split()[1]) if x.split()[0] == '안심식당' \n",
    "               else (award_list[1].replace(\"0000\",x.split()[1]) if x.split()[0] == '모범음식점' \n",
    "                     else (award_list[2].replace(\"0000\",x.split()[1])) if x.split()[0] == '위생등급'\n",
    "                     else (award_list[4] if x.split()[-1] == 'RIBBON_ONE'\n",
    "                     else (award_list[5] if x.split()[-1] == 'RIBBON_TWO'\n",
    "                     else (award_list[-1] if x.split()[-1] == '구르망'\n",
    "                     else \"\"\n",
    "                    )\n",
    "                ))))"
   ]
  },
  {
   "cell_type": "markdown",
   "id": "60785491",
   "metadata": {
    "papermill": {
     "duration": 0.030134,
     "end_time": "2022-03-13T21:29:21.167374",
     "exception": false,
     "start_time": "2022-03-13T21:29:21.137240",
     "status": "completed"
    },
    "tags": []
   },
   "source": [
    "# 옵션 정보 전처리"
   ]
  },
  {
   "cell_type": "code",
   "execution_count": 17,
   "id": "9a9d5819",
   "metadata": {
    "execution": {
     "iopub.execute_input": "2022-03-13T21:29:21.236343Z",
     "iopub.status.busy": "2022-03-13T21:29:21.233121Z",
     "iopub.status.idle": "2022-03-13T21:29:21.239357Z",
     "shell.execute_reply": "2022-03-13T21:29:21.238940Z",
     "shell.execute_reply.started": "2022-03-13T21:16:38.620723Z"
    },
    "papermill": {
     "duration": 0.041483,
     "end_time": "2022-03-13T21:29:21.239458",
     "exception": false,
     "start_time": "2022-03-13T21:29:21.197975",
     "status": "completed"
    },
    "tags": []
   },
   "outputs": [],
   "source": [
    "sd['옵션통합'] = sd[['반려동물출입','남녀화장실구분','배리어프리']].apply(\" \".join, axis=1).apply(lambda x : x.split())"
   ]
  },
  {
   "cell_type": "code",
   "execution_count": 18,
   "id": "c59692b5",
   "metadata": {
    "execution": {
     "iopub.execute_input": "2022-03-13T21:29:21.306696Z",
     "iopub.status.busy": "2022-03-13T21:29:21.306175Z",
     "iopub.status.idle": "2022-03-13T21:29:21.309388Z",
     "shell.execute_reply": "2022-03-13T21:29:21.309763Z",
     "shell.execute_reply.started": "2022-03-13T21:16:38.943635Z"
    },
    "papermill": {
     "duration": 0.04004,
     "end_time": "2022-03-13T21:29:21.309894",
     "exception": false,
     "start_time": "2022-03-13T21:29:21.269854",
     "status": "completed"
    },
    "tags": []
   },
   "outputs": [
    {
     "data": {
      "text/plain": [
       "['반려동물 입장이 가능한 매장입니다.',\n",
       " '남녀 화장실이 구분되어 있는 매장입니다.',\n",
       " '베리어프리 매장입니다.',\n",
       " '반려동물 입장이 가능하고, 남녀 화장실이 구분되어 있는 매장입니다.',\n",
       " '반려동물 입장이 가능하며 베리어프리 매장입니다.',\n",
       " '남녀 화장실이 구분되어 있으며 베리어프리 매장입니다.',\n",
       " '반려동물 입장이 가능하고, 남녀 화장실이 구분되어 있으며 베리어프리 매장입니다.']"
      ]
     },
     "execution_count": 18,
     "metadata": {},
     "output_type": "execute_result"
    }
   ],
   "source": [
    "#옵션 리스트 생성\n",
    "option_list = se.iloc[21:]['출력 문구'].to_list()\n",
    "ol = option_list.copy()\n",
    "option_list"
   ]
  },
  {
   "cell_type": "markdown",
   "id": "80e975b2",
   "metadata": {
    "papermill": {
     "duration": 0.030528,
     "end_time": "2022-03-13T21:29:21.371393",
     "exception": false,
     "start_time": "2022-03-13T21:29:21.340865",
     "status": "completed"
    },
    "tags": []
   },
   "source": [
    "- 반려동물출입과 배리어프리가 가능한 곳은 한곳도 없었습니다\n",
    "- 남녀화장실구분만 18곳 가능했음"
   ]
  },
  {
   "cell_type": "code",
   "execution_count": 19,
   "id": "99d41e9b",
   "metadata": {
    "execution": {
     "iopub.execute_input": "2022-03-13T21:29:21.438386Z",
     "iopub.status.busy": "2022-03-13T21:29:21.437581Z",
     "iopub.status.idle": "2022-03-13T21:29:21.443733Z",
     "shell.execute_reply": "2022-03-13T21:29:21.444424Z",
     "shell.execute_reply.started": "2022-03-13T21:16:53.982007Z"
    },
    "papermill": {
     "duration": 0.04228,
     "end_time": "2022-03-13T21:29:21.444586",
     "exception": false,
     "start_time": "2022-03-13T21:29:21.402306",
     "status": "completed"
    },
    "tags": []
   },
   "outputs": [
    {
     "name": "stdout",
     "output_type": "stream",
     "text": [
      "N    100\n",
      "Name: 반려동물출입, dtype: int64 \n",
      "\n",
      "N    82\n",
      "Y    18\n",
      "Name: 남녀화장실구분, dtype: int64 \n",
      "\n",
      "N    100\n",
      "Name: 배리어프리, dtype: int64 \n",
      "\n"
     ]
    }
   ],
   "source": [
    "for i in ['반려동물출입','남녀화장실구분','배리어프리'] :\n",
    "    print(sd[i].value_counts(),'\\n')"
   ]
  },
  {
   "cell_type": "code",
   "execution_count": 20,
   "id": "92481d0e",
   "metadata": {
    "execution": {
     "iopub.execute_input": "2022-03-13T21:29:21.512393Z",
     "iopub.status.busy": "2022-03-13T21:29:21.511732Z",
     "iopub.status.idle": "2022-03-13T21:29:21.514902Z",
     "shell.execute_reply": "2022-03-13T21:29:21.514475Z",
     "shell.execute_reply.started": "2022-03-13T21:17:03.123208Z"
    },
    "papermill": {
     "duration": 0.038631,
     "end_time": "2022-03-13T21:29:21.515019",
     "exception": false,
     "start_time": "2022-03-13T21:29:21.476388",
     "status": "completed"
    },
    "tags": []
   },
   "outputs": [],
   "source": [
    "sd['옵션정보'] = sd['옵션통합'].apply(lambda x : option_list[1] if x[1] == 'Y' else \"\")"
   ]
  },
  {
   "cell_type": "code",
   "execution_count": 21,
   "id": "e10b4319",
   "metadata": {
    "execution": {
     "iopub.execute_input": "2022-03-13T21:29:21.582265Z",
     "iopub.status.busy": "2022-03-13T21:29:21.581465Z",
     "iopub.status.idle": "2022-03-13T21:29:21.586681Z",
     "shell.execute_reply": "2022-03-13T21:29:21.586279Z",
     "shell.execute_reply.started": "2022-03-13T21:17:03.750851Z"
    },
    "papermill": {
     "duration": 0.040431,
     "end_time": "2022-03-13T21:29:21.586812",
     "exception": false,
     "start_time": "2022-03-13T21:29:21.546381",
     "status": "completed"
    },
    "tags": []
   },
   "outputs": [],
   "source": [
    "sd['소개문구'] = sd[['기본문장','어워드정보','옵션정보']].apply(\" \".join,axis = 1 )"
   ]
  },
  {
   "cell_type": "code",
   "execution_count": 22,
   "id": "5c8d3b29",
   "metadata": {
    "execution": {
     "iopub.execute_input": "2022-03-13T21:29:21.654366Z",
     "iopub.status.busy": "2022-03-13T21:29:21.653619Z",
     "iopub.status.idle": "2022-03-13T21:29:21.684913Z",
     "shell.execute_reply": "2022-03-13T21:29:21.684463Z",
     "shell.execute_reply.started": "2022-03-13T21:17:04.248929Z"
    },
    "papermill": {
     "duration": 0.066846,
     "end_time": "2022-03-13T21:29:21.685030",
     "exception": false,
     "start_time": "2022-03-13T21:29:21.618184",
     "status": "completed"
    },
    "tags": []
   },
   "outputs": [
    {
     "data": {
      "text/html": [
       "<div>\n",
       "<style scoped>\n",
       "    .dataframe tbody tr th:only-of-type {\n",
       "        vertical-align: middle;\n",
       "    }\n",
       "\n",
       "    .dataframe tbody tr th {\n",
       "        vertical-align: top;\n",
       "    }\n",
       "\n",
       "    .dataframe thead th {\n",
       "        text-align: right;\n",
       "    }\n",
       "</style>\n",
       "<table border=\"1\" class=\"dataframe\">\n",
       "  <thead>\n",
       "    <tr style=\"text-align: right;\">\n",
       "      <th></th>\n",
       "      <th>매장명</th>\n",
       "      <th>소개문구</th>\n",
       "    </tr>\n",
       "  </thead>\n",
       "  <tbody>\n",
       "    <tr>\n",
       "      <th>0</th>\n",
       "      <td>명지횟집</td>\n",
       "      <td>부산광역시 강서구에서 어디를 갈지 고민이라면! \"명지횟집\"에 가보시는 건 어떨까요?...</td>\n",
       "    </tr>\n",
       "    <tr>\n",
       "      <th>1</th>\n",
       "      <td>동성각</td>\n",
       "      <td>어디 가야 할지 고민이라고요? 그럼 서울특별시 종로구 맛집, \"동성각\"을 추천합니다...</td>\n",
       "    </tr>\n",
       "    <tr>\n",
       "      <th>2</th>\n",
       "      <td>후렌드치킨</td>\n",
       "      <td>서울특별시 용산구에서 어디를 갈지 고민이라면! \"후렌드치킨\"에 가보시는 건 어떨까요?</td>\n",
       "    </tr>\n",
       "    <tr>\n",
       "      <th>3</th>\n",
       "      <td>브래서리</td>\n",
       "      <td>어디 가야 할지 고민이라고요? 그럼 서울특별시 강남구 맛집, \"브래서리\"를 추천합니...</td>\n",
       "    </tr>\n",
       "    <tr>\n",
       "      <th>4</th>\n",
       "      <td>카페 린네스가든</td>\n",
       "      <td>어디 가야 할지 고민이라고요? 그럼 서울특별시 영등포구 맛집, \"린네스가든\"을 추천...</td>\n",
       "    </tr>\n",
       "    <tr>\n",
       "      <th>...</th>\n",
       "      <td>...</td>\n",
       "      <td>...</td>\n",
       "    </tr>\n",
       "    <tr>\n",
       "      <th>95</th>\n",
       "      <td>나루터연화</td>\n",
       "      <td>\"나루터연화\"는 부산광역시 기장군에 있습니다. 위생 수준이 우수하고 친절한 서비스로...</td>\n",
       "    </tr>\n",
       "    <tr>\n",
       "      <th>96</th>\n",
       "      <td>나루터연화</td>\n",
       "      <td>부산광역시 기장군에서 어디를 갈지 고민이라면! \"나루터연화\"에 가보시는 건 어떨까요...</td>\n",
       "    </tr>\n",
       "    <tr>\n",
       "      <th>97</th>\n",
       "      <td>1960청원모밀</td>\n",
       "      <td>\"1960청원모밀\"을 광주광역시 동구의 가 볼 만한 식당으로 추천합니다! 이 매장은...</td>\n",
       "    </tr>\n",
       "    <tr>\n",
       "      <th>98</th>\n",
       "      <td>청하</td>\n",
       "      <td>광주광역시 동구에서 식당을 찾으신다면? \"청하\"를 방문해보세요! 위생 수준이 우수하...</td>\n",
       "    </tr>\n",
       "    <tr>\n",
       "      <th>99</th>\n",
       "      <td>태화장</td>\n",
       "      <td>\"태화장\"은 대전광역시 동구에 있습니다. 위생 수준이 우수하고 친절한 서비스로 20...</td>\n",
       "    </tr>\n",
       "  </tbody>\n",
       "</table>\n",
       "<p>100 rows × 2 columns</p>\n",
       "</div>"
      ],
      "text/plain": [
       "         매장명                                               소개문구\n",
       "0       명지횟집  부산광역시 강서구에서 어디를 갈지 고민이라면! \"명지횟집\"에 가보시는 건 어떨까요?...\n",
       "1        동성각  어디 가야 할지 고민이라고요? 그럼 서울특별시 종로구 맛집, \"동성각\"을 추천합니다...\n",
       "2      후렌드치킨  서울특별시 용산구에서 어디를 갈지 고민이라면! \"후렌드치킨\"에 가보시는 건 어떨까요?  \n",
       "3       브래서리  어디 가야 할지 고민이라고요? 그럼 서울특별시 강남구 맛집, \"브래서리\"를 추천합니...\n",
       "4   카페 린네스가든  어디 가야 할지 고민이라고요? 그럼 서울특별시 영등포구 맛집, \"린네스가든\"을 추천...\n",
       "..       ...                                                ...\n",
       "95     나루터연화  \"나루터연화\"는 부산광역시 기장군에 있습니다. 위생 수준이 우수하고 친절한 서비스로...\n",
       "96     나루터연화  부산광역시 기장군에서 어디를 갈지 고민이라면! \"나루터연화\"에 가보시는 건 어떨까요...\n",
       "97  1960청원모밀  \"1960청원모밀\"을 광주광역시 동구의 가 볼 만한 식당으로 추천합니다! 이 매장은...\n",
       "98        청하  광주광역시 동구에서 식당을 찾으신다면? \"청하\"를 방문해보세요! 위생 수준이 우수하...\n",
       "99       태화장  \"태화장\"은 대전광역시 동구에 있습니다. 위생 수준이 우수하고 친절한 서비스로 20...\n",
       "\n",
       "[100 rows x 2 columns]"
      ]
     },
     "execution_count": 22,
     "metadata": {},
     "output_type": "execute_result"
    }
   ],
   "source": [
    "sd[['매장명','소개문구']].to_excel('레드테이블_과제_1_김경준.xlsx', index=False)\n",
    "sd[['매장명','소개문구']]"
   ]
  },
  {
   "cell_type": "markdown",
   "id": "936322d0",
   "metadata": {
    "papermill": {
     "duration": 0.032817,
     "end_time": "2022-03-13T21:29:21.750266",
     "exception": false,
     "start_time": "2022-03-13T21:29:21.717449",
     "status": "completed"
    },
    "tags": []
   },
   "source": [
    "# 리뷰\n",
    "- 거의 문자열만을 다룬 데이터였기때문에 그래도 소개문구까지 생성할 수 있었던 것 같습니다.\n",
    "- 하지만 효율적인 코드를 위해 많이 공부해야할 필요성을 느꼈습니다"
   ]
  },
  {
   "cell_type": "code",
   "execution_count": null,
   "id": "70a524a1",
   "metadata": {
    "papermill": {
     "duration": 0.031415,
     "end_time": "2022-03-13T21:29:21.814037",
     "exception": false,
     "start_time": "2022-03-13T21:29:21.782622",
     "status": "completed"
    },
    "tags": []
   },
   "outputs": [],
   "source": []
  }
 ],
 "metadata": {
  "kernelspec": {
   "display_name": "Python 3",
   "language": "python",
   "name": "python3"
  },
  "language_info": {
   "codemirror_mode": {
    "name": "ipython",
    "version": 3
   },
   "file_extension": ".py",
   "mimetype": "text/x-python",
   "name": "python",
   "nbconvert_exporter": "python",
   "pygments_lexer": "ipython3",
   "version": "3.7.12"
  },
  "papermill": {
   "default_parameters": {},
   "duration": 23.761964,
   "end_time": "2022-03-13T21:29:22.354461",
   "environment_variables": {},
   "exception": null,
   "input_path": "__notebook__.ipynb",
   "output_path": "__notebook__.ipynb",
   "parameters": {},
   "start_time": "2022-03-13T21:28:58.592497",
   "version": "2.3.3"
  }
 },
 "nbformat": 4,
 "nbformat_minor": 5
}
