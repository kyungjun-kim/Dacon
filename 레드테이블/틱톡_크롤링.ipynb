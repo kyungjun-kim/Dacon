{
 "cells": [
  {
   "cell_type": "markdown",
   "id": "af8334b0",
   "metadata": {},
   "source": [
    "## 검색어 : 明洞美食 or 明亮的食物"
   ]
  },
  {
   "cell_type": "code",
   "execution_count": 1,
   "id": "3343936f",
   "metadata": {},
   "outputs": [],
   "source": [
    "from selenium import webdriver\n",
    "from selenium.webdriver.common.keys import Keys\n",
    "from selenium.webdriver.common.action_chains import ActionChains\n",
    "import time\n",
    "import csv \n",
    "import re\n",
    "from bs4 import BeautifulSoup\n",
    "import unicodedata\n",
    "from selenium.webdriver.common.by import By\n",
    "import pandas as pd\n",
    "import sys\n",
    "import re"
   ]
  },
  {
   "cell_type": "code",
   "execution_count": 2,
   "id": "155958f6",
   "metadata": {},
   "outputs": [
    {
     "name": "stderr",
     "output_type": "stream",
     "text": [
      "C:\\Users\\USER\\AppData\\Local\\Temp/ipykernel_51148/2467965147.py:3: DeprecationWarning: executable_path has been deprecated, please pass in a Service object\n",
      "  driver = webdriver.Chrome(r\"C:\\Users\\USER\\Downloads\\chromedriver.exe\")\n"
     ]
    }
   ],
   "source": [
    "# selenium 이용해서 드라이버 지정하고 url 불러오기\n",
    "# keyword 를 포함한 url로 쓰기\n",
    "driver = webdriver.Chrome(r\"C:\\Users\\USER\\Downloads\\chromedriver.exe\")\n",
    "\n",
    "# 인스타그램 접속하기\n",
    "insta_url = 'https://www.tiktok.com' \n",
    "driver.get(insta_url)\n",
    "#time.sleep(2)\n",
    "time.sleep(3)"
   ]
  },
  {
   "cell_type": "code",
   "execution_count": null,
   "id": "96432599",
   "metadata": {},
   "outputs": [],
   "source": [
    "input_search = driver.find_elements(by=By.CSS_SELECTOR, value = '#app > div.tiktok-12azhi0-DivHeaderContainer.e10win0d0 > div > div.tiktok-1x100u9-DivHeaderCenterContainer.e1lv5j0x0 > div > form > input')[0]\n",
    "#input_id.clear()\n",
    "input_search.clear()\n",
    "input_search.send_keys('明洞美食')\n",
    "search_butoon = driver.find_elements(by=By.CSS_SELECTOR, value = '#app > div.tiktok-12azhi0-DivHeaderContainer.e10win0d0 > div > div.tiktok-1x100u9-DivHeaderCenterContainer.e1lv5j0x0 > div > form > button > svg')[0]\n",
    "search_butoon.click()"
   ]
  },
  {
   "cell_type": "code",
   "execution_count": 44,
   "id": "230e01f1",
   "metadata": {},
   "outputs": [],
   "source": [
    "first_post = driver.find_elements(by=By.CSS_SELECTOR, value = '#app > div.tiktok-19fglm-DivBodyContainer.eg65pf90 > div.tiktok-mldqij-DivMainContainer.ezds1l0 > div.tiktok-1fwlm1o-DivPanelContainer.ezds1l2 > div.tiktok-1qb12g8-DivThreeColumnContainer.eiyo6ki2 > div > div:nth-child(2) > div.tiktok-qpoknz-DivVideoSearchCardDesc.e4iws0m0 > div > div.tiktok-f22ew5-DivMetaCaptionLine.e4iws0m1 > div')[0]\n",
    "secon_post = driver.find_elements(by=By.CSS_SELECTOR, value = '#app > div.tiktok-19fglm-DivBodyContainer.eg65pf90 > div.tiktok-mldqij-DivMainContainer.ezds1l0 > div.tiktok-1fwlm1o-DivPanelContainer.ezds1l2 > div.tiktok-1qb12g8-DivThreeColumnContainer.eiyo6ki2 > div > div:nth-child(3) > div.tiktok-qpoknz-DivVideoSearchCardDesc.e4iws0m0 > div > div.tiktok-f22ew5-DivMetaCaptionLine.e4iws0m1 > div')[0]"
   ]
  },
  {
   "cell_type": "code",
   "execution_count": 193,
   "id": "cb6dffe7",
   "metadata": {},
   "outputs": [
    {
     "name": "stdout",
     "output_type": "stream",
     "text": [
      "더 로드하기\n"
     ]
    }
   ],
   "source": [
    "print(driver.find_elements(by=By.CSS_SELECTOR, value = 'button.tiktok-1mwtjmv-ButtonMore.e1ugksdp1')[0].text)\n",
    "driver.find_elements(by=By.CSS_SELECTOR, value = 'button.tiktok-1mwtjmv-ButtonMore.e1ugksdp1')[0].click()"
   ]
  },
  {
   "cell_type": "code",
   "execution_count": 195,
   "id": "7879a97a",
   "metadata": {
    "scrolled": false
   },
   "outputs": [
    {
     "name": "stdout",
     "output_type": "stream",
     "text": [
      "明洞超好吃超级中式的黄焖鸡米饭！！！有农家小炒肉那味了🥺🥺🥺真香！\n",
      "또 왔어 ! 맛집 이름 찾았어 ! #마라탄탄면 #명동맛집\n",
      "大家好我是台南人。做餐飲5年了，傳承哥哥十二年的技術，把韓式海苔飯捲精緻化，並打造最美的餐廳讓您享用～有來過明洞海苔飯捲的朋友可以到底下留言，來用餐前私訊我讓我服務您～\n",
      "Dinner TB 25/04/20 JB #美食分享 #明洞韩国烧烤 #bbq\n",
      "明洞商圈最完整的逛街天堂換匯，美食小吃，購物美妝 / 生活每個人都有自己的體會和感受，我們以怎樣的心情面對生活，生活便以怎樣的態度對待我們，這就是人生。\n",
      "#明洞豬肉湯飯 #韓國道地美食 #哈碼星渡船頭 #鼓山區美食\n",
      "回憶總是美明洞商圈最完整的逛街天堂換匯，美食小吃，購物美妝生活每個人都有自己的體會和感受，我們以怎樣的心情面對生活，生活便以怎樣的態度對待我們，這就是人生。\n",
      "來明洞街頭購物#韓國 #首爾 #明洞 #梨泰院class #新北市\n",
      "不小心上推薦後的第二天..忙到我的媽呀！但很感謝各位來踩點的好朋友，我們忙著出餐只能用紅茶招待😅\n",
      "가게의 사람 착하고 명동까지의 길 가르쳐#韓国 #明洞 #美食\n",
      "一窺招牌的背後..每一樣端上桌的都不簡單 #明洞海苔飯捲\n",
      "警察も御用達w#明洞 #韓国警察 #韓国 #韓国グルメ #爆食\n",
      "韓國🇰🇷梨花女子大學#明洞 #超大樂天超市 #美食😋\n",
      "我要吃飯 #美食 #台南美食 #明洞海苔飯捲 #我要吃飯\n",
      "蒲燒鰻魚飯捲 #明洞海苔飯捲 #美食 #韓式料理 #台南美食\n",
      "網友們來做朋友吧 #明洞海苔飯捲 #台南美食 #美食\n",
      "外国人観光客は、よく知らない明洞グルメ情報 Myeongdong Nice chicken soup shop#明\n",
      "#korea #food #koreafood #韓國 #美食 #食物 #甜點 #咖啡\n",
      "外国人はよく分からない明洞トンカツグルメ Myeong dong nice pork cutlet shop 2020 jan\n",
      "モグモグ集。笑#明洞 #明洞グルメ #유튜브 #명동맛집\n",
      "眾人排隊就為吃它，暢銷第一海苔飯捲 #明洞海苔飯捲\n",
      "疫情大家都要好好的唷 #明洞海苔飯捲 #台南美食\n",
      "#tiktokグルメ #美食 #いいね返し #ふぉろーみー #韓国 #明洞\n",
      "這個月買了兩隻100%熊，不對是三隻..？ #庫柏力克熊 #台南美食\n",
      "深夜放毒！明洞柳氏家铁板鸡！一半蜂蜜口味，一半辣味配上浓郁的芝士！\n",
      "#고요남 #고요남명동 #서울맛집 #인싸맛집 #소고기 #육회\n",
      "夏天就是飯捲的季節 #明洞海苔飯捲 #台南美食 #夫妻\n",
      "#고요남 #고요남명동 #서울맛집 #인싸맛집 #소고기 #육회\n",
      "#고요남 #고요남명동 #서울맛집 #인싸맛집 #소고기 #육회\n",
      "玫瑰冰淇淋❤❤❤#美食# 甜點 #冰淇淋 #韓國 #明洞 #한국 #\n",
      "#고요남 #고요남명동 #서울맛집 #인싸맛집 #소고기 #육회\n",
      "#고요남 #고요남명동 #서울맛집 #인싸맛집 #소고기 #육회\n",
      "明洞グルメ紹介：プデチゲ MyeongDong nice restaurant introduce: budaejjigae#プ\n",
      "#明洞豬肉湯飯 #韓國道地美食 #渡船頭 #哈碼星 #鼓山區美食\n",
      "明洞キムチチゲグルメ Myeongdong nice kimchi stew restaurant #\n",
      "#고요남 #고요남명동 #서울맛집 #인싸맛집 #소고기 #육회\n",
      "#고요남 #고요남명동 #서울맛집 #인싸맛집 #소고기 #육회\n",
      "明洞 ✩.*˚焼肉とっても美味しかったよ…#明洞 #グルメ #岡山\n",
      "#korea #food #koreafood #chicken #韓國 #明洞 #美食 #食物\n",
      "#異國美食 #韓國🇰🇷明洞 #魚漿熱狗卷 #😎😎😎😎\n",
      "하동관 본점 라는 가게에요🙆‍♀️✨#明洞グルメ #韓国グルメ\n",
      "不用到韓國我們做給你吃 #明洞海苔飯捲 #韓式料理\n",
      "ずっと行きたかった明洞にあるスイーツ研究所🍰❤️可愛い〜〜🥰💕\n",
      "麻辣香锅（#마라샹궈 ）在家做，比外面的还好吃，食材任意搭配。\n",
      "给家人们展示一下我刚学的切豆腐，非常低脂的一道美食，老少皆宜\n",
      "学会这首歌，就能吃上#火锅 了😋#火锅� �@chae0521 #hotpot\n",
      "📍홍수계찜닭 #로제찜닭 #찜닭 #찜닭먹방 #틱톡푸드 #푸드틱톡\n",
      "3分钟就能做出好吃的#早餐 #三明治 简单方便又美味！\n"
     ]
    }
   ],
   "source": [
    "a = []\n",
    "#for i in range(2,334) :\n",
    "for i in range(2,50) :\n",
    "    print(driver.find_elements(by=By.CSS_SELECTOR, value = '#app > div.tiktok-19fglm-DivBodyContainer.eg65pf90 > div.tiktok-mldqij-DivMainContainer.ezds1l0 > div.tiktok-1fwlm1o-DivPanelContainer.ezds1l2 > div.tiktok-1qb12g8-DivThreeColumnContainer.eiyo6ki2 > div > div:nth-child({}) > div.tiktok-qpoknz-DivVideoSearchCardDesc.e4iws0m0 > div > div.tiktok-f22ew5-DivMetaCaptionLine.e4iws0m1 > div'.format(i))[0].text)\n",
    "    a.append(driver.find_elements(by=By.CSS_SELECTOR, value = '#app > div.tiktok-19fglm-DivBodyContainer.eg65pf90 > div.tiktok-mldqij-DivMainContainer.ezds1l0 > div.tiktok-1fwlm1o-DivPanelContainer.ezds1l2 > div.tiktok-1qb12g8-DivThreeColumnContainer.eiyo6ki2 > div > div:nth-child({}) > div.tiktok-qpoknz-DivVideoSearchCardDesc.e4iws0m0 > div > div.tiktok-f22ew5-DivMetaCaptionLine.e4iws0m1 > div'.format(i))[0].text)\n",
    "    if i%13 == 0 :\n",
    "        driver.find_elements(by=By.CSS_SELECTOR, value = '#app > div.tiktok-19fglm-DivBodyContainer.eg65pf90 > div.tiktok-mldqij-DivMainContainer.ezds1l0 > div.tiktok-1fwlm1o-DivPanelContainer.ezds1l2 > div.tiktok-14xbhsu-DivMoreContainer.e1ugksdp0 > button')[0].click()"
   ]
  },
  {
   "cell_type": "code",
   "execution_count": 196,
   "id": "bd460429",
   "metadata": {},
   "outputs": [],
   "source": [
    "# 해시태그들을 구분해 문자열 -> 다시 리스트화\n",
    "b = ''\n",
    "for content in a:\n",
    "    #print(re.findall(r'#[^\\s#,\\\\]+', content.replace('수정됨','')))\n",
    "    #print(\" \".join(re.findall(r'#[^\\s#,\\\\]+', content.replace('수정됨',''))))\n",
    "    b +=\" \".join(re.findall(r'#[^\\s#,\\\\]+', content.replace('수정됨','')))"
   ]
  },
  {
   "cell_type": "code",
   "execution_count": 197,
   "id": "a06395e7",
   "metadata": {
    "scrolled": true
   },
   "outputs": [
    {
     "name": "stdout",
     "output_type": "stream",
     "text": [
      "['', '마라탄탄면 ', '명동맛집', '美食分享 ', '明洞韩国烧烤 ', 'bbq', '明洞豬肉湯飯 ', '韓國道地美食 ', '哈碼星渡船頭 ', '鼓山區美食', '韓國 ', '首爾 ', '明洞 ', '梨泰院class ', '新北市', '韓国 ', '明洞 ', '美食', '明洞海苔飯捲', '明洞 ', '韓国警察 ', '韓国 ', '韓国グルメ ', '爆食', '明洞 ', '超大樂天超市 ', '美食😋', '美食 ', '台南美食 ', '明洞海苔飯捲 ', '我要吃飯', '明洞海苔飯捲 ', '美食 ', '韓式料理 ', '台南美食', '明洞海苔飯捲 ', '台南美食 ', '美食', '明', 'korea ', 'food ', 'koreafood ', '韓國 ', '美食 ', '食物 ', '甜點 ', '咖啡', '明洞 ', '明洞グルメ ', '유튜브 ', '명동맛집', '明洞海苔飯捲', '明洞海苔飯捲 ', '台南美食', 'tiktokグルメ ', '美食 ', 'いいね返し ', 'ふぉろーみー ', '韓国 ', '明洞', '庫柏力克熊 ', '台南美食', '고요남 ', '고요남명동 ', '서울맛집 ', '인싸맛집 ', '소고기 ', '육회', '明洞海苔飯捲 ', '台南美食 ', '夫妻', '고요남 ', '고요남명동 ', '서울맛집 ', '인싸맛집 ', '소고기 ', '육회', '고요남 ', '고요남명동 ', '서울맛집 ', '인싸맛집 ', '소고기 ', '육회', '美食 ', '冰淇淋 ', '韓國 ', '明洞 ', '한국', '고요남 ', '고요남명동 ', '서울맛집 ', '인싸맛집 ', '소고기 ', '육회', '고요남 ', '고요남명동 ', '서울맛집 ', '인싸맛집 ', '소고기 ', '육회', 'プ', '明洞豬肉湯飯 ', '韓國道地美食 ', '渡船頭 ', '哈碼星 ', '鼓山區美食', '고요남 ', '고요남명동 ', '서울맛집 ', '인싸맛집 ', '소고기 ', '육회', '고요남 ', '고요남명동 ', '서울맛집 ', '인싸맛집 ', '소고기 ', '육회', '明洞 ', 'グルメ ', '岡山', 'korea ', 'food ', 'koreafood ', 'chicken ', '韓國 ', '明洞 ', '美食 ', '食物', '異國美食 ', '韓國🇰🇷明洞 ', '魚漿熱狗卷 ', '😎😎😎😎', '明洞グルメ ', '韓国グルメ', '明洞海苔飯捲 ', '韓式料理', '마라샹궈', '火锅 ', '火锅� ', 'hotpot', '로제찜닭 ', '찜닭 ', '찜닭먹방 ', '틱톡푸드 ', '푸드틱톡', '早餐 ', '三明治']\n"
     ]
    }
   ],
   "source": [
    "print(b.split('#'))"
   ]
  }
 ],
 "metadata": {
  "kernelspec": {
   "display_name": "Python 3 (ipykernel)",
   "language": "python",
   "name": "python3"
  },
  "language_info": {
   "codemirror_mode": {
    "name": "ipython",
    "version": 3
   },
   "file_extension": ".py",
   "mimetype": "text/x-python",
   "name": "python",
   "nbconvert_exporter": "python",
   "pygments_lexer": "ipython3",
   "version": "3.9.7"
  }
 },
 "nbformat": 4,
 "nbformat_minor": 5
}
