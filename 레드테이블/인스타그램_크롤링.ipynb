{
 "cells": [
  {
   "cell_type": "code",
   "execution_count": 44,
   "id": "d80adc7c",
   "metadata": {},
   "outputs": [],
   "source": [
    "from selenium import webdriver\n",
    "from selenium.webdriver.common.keys import Keys\n",
    "from selenium.webdriver.common.action_chains import ActionChains\n",
    "import time\n",
    "import csv \n",
    "import re\n",
    "from bs4 import BeautifulSoup\n",
    "import unicodedata\n",
    "from selenium.webdriver.common.by import By\n",
    "import pandas as pd\n"
   ]
  },
  {
   "cell_type": "code",
   "execution_count": 154,
   "id": "04217b96",
   "metadata": {},
   "outputs": [],
   "source": [
    "keyword = ['Myeongdong','명동','明洞','明洞餐厅', 'ミョンドン','みょんどん','韓國美食','明洞美食']\n",
    "\n",
    "email = 'redSan0tableChez214' \n",
    "password = 'redtable0214'"
   ]
  },
  {
   "cell_type": "code",
   "execution_count": 46,
   "id": "e91e3dc4",
   "metadata": {},
   "outputs": [
    {
     "name": "stderr",
     "output_type": "stream",
     "text": [
      "C:\\Users\\USER\\AppData\\Local\\Temp/ipykernel_18672/314291897.py:3: DeprecationWarning: executable_path has been deprecated, please pass in a Service object\n",
      "  driver = webdriver.Chrome(r\"C:\\Users\\USER\\Downloads\\chromedriver.exe\")\n"
     ]
    }
   ],
   "source": [
    "# selenium 이용해서 드라이버 지정하고 url 불러오기\n",
    "# keyword 를 포함한 url로 쓰기\n",
    "driver = webdriver.Chrome(r\"C:\\Users\\USER\\Downloads\\chromedriver.exe\")\n",
    "\n",
    "# 인스타그램 접속하기\n",
    "insta_url = 'https://www.instargram.com' \n",
    "driver.get(insta_url)\n",
    "#time.sleep(2)\n",
    "time.sleep(3)"
   ]
  },
  {
   "cell_type": "code",
   "execution_count": 47,
   "id": "78ba38e5",
   "metadata": {},
   "outputs": [
    {
     "name": "stderr",
     "output_type": "stream",
     "text": [
      "C:\\Users\\USER\\AppData\\Local\\Temp/ipykernel_18672/2901931748.py:3: DeprecationWarning: find_elements_by_css_selector is deprecated. Please use find_elements(by=By.CSS_SELECTOR, value=css_selector) instead\n",
      "  input_id = driver.find_elements_by_css_selector('input._2hvTZ.pexuQ.zyHYP')[0]\n",
      "C:\\Users\\USER\\AppData\\Local\\Temp/ipykernel_18672/2901931748.py:10: DeprecationWarning: find_elements_by_css_selector is deprecated. Please use find_elements(by=By.CSS_SELECTOR, value=css_selector) instead\n",
      "  input_pw = driver.find_elements_by_css_selector('input._2hvTZ.pexuQ.zyHYP')[1]\n",
      "C:\\Users\\USER\\AppData\\Local\\Temp/ipykernel_18672/2901931748.py:16: DeprecationWarning: find_element_by_css_selector is deprecated. Please use find_element(by=By.CSS_SELECTOR, value=css_selector) instead\n",
      "  login = driver.find_element_by_css_selector(\"button.sqdOP.L3NKy.y3zKF\")\n"
     ]
    }
   ],
   "source": [
    "# 예제 5-3 인스타계정으로 로그인하기\n",
    "#email = '인스타계정입력해주세요'   ### 계정 정보 수정 필요\n",
    "input_id = driver.find_elements_by_css_selector('input._2hvTZ.pexuQ.zyHYP')[0]\n",
    "#input_id.clear()\n",
    "input_id.clear()\n",
    "input_id.send_keys(email)\n",
    "\n",
    "#password = '인스타비번입력해주세요' ### 비번 정보 수정 필요\n",
    "time.sleep(1)\n",
    "input_pw = driver.find_elements_by_css_selector('input._2hvTZ.pexuQ.zyHYP')[1]\n",
    "input_pw.clear()\n",
    "input_pw.send_keys(password)\n",
    "input_pw.submit()\n",
    "time.sleep(3)\n",
    "# 로그인 버튼 클릭 click\n",
    "login = driver.find_element_by_css_selector(\"button.sqdOP.L3NKy.y3zKF\")\n",
    "login.click()\n"
   ]
  },
  {
   "cell_type": "code",
   "execution_count": 35,
   "id": "e97cc4c6",
   "metadata": {
    "scrolled": true
   },
   "outputs": [
    {
     "name": "stderr",
     "output_type": "stream",
     "text": [
      "C:\\Users\\USER\\AppData\\Local\\Temp/ipykernel_18672/644256492.py:8: DeprecationWarning: find_elements_by_css_selector is deprecated. Please use find_elements(by=By.CSS_SELECTOR, value=css_selector) instead\n",
      "  alert = driver.find_elements_by_css_selector(\"button.aOOlW\")\n"
     ]
    }
   ],
   "source": [
    "#time.sleep(2)\n",
    "## 로그인 시 팝업 창 제거\n",
    "# 로그인 저장 팝업 제거\n",
    "#later_button = driver.find_elements_by_class_name(\"sqdOP\")\n",
    "#later_button[0].click()\n",
    "#time.sleep(1)\n",
    "# 알림창 제거\n",
    "alert = driver.find_elements_by_css_selector(\"button.aOOlW\")\n",
    "alertLater = alert[1]\n",
    "alertLater.click()"
   ]
  },
  {
   "cell_type": "code",
   "execution_count": 155,
   "id": "347bd171",
   "metadata": {},
   "outputs": [],
   "source": [
    "def insta_searching(word) :\n",
    "    url = insta_url + \"/explore/tags/\" + word\n",
    "    return url\n",
    "\n",
    "url = insta_searching(keyword[-1]) # Myeong Dong\n",
    "driver.get(url)\n",
    "time.sleep(1)"
   ]
  },
  {
   "cell_type": "code",
   "execution_count": 156,
   "id": "952b6cd1",
   "metadata": {},
   "outputs": [
    {
     "name": "stderr",
     "output_type": "stream",
     "text": [
      "C:\\Users\\USER\\AppData\\Local\\Temp/ipykernel_18672/556389458.py:3: DeprecationWarning: find_element_by_css_selector is deprecated. Please use find_element(by=By.CSS_SELECTOR, value=css_selector) instead\n",
      "  first = driver.find_element_by_css_selector(\"div._9AhH0\")\n"
     ]
    }
   ],
   "source": [
    "# 예제 5-6 HTML에서 첫번째 게시글 찾아 클릭하기\n",
    "def select_first(driver):\n",
    "    first = driver.find_element_by_css_selector(\"div._9AhH0\")\n",
    "    first.click()\n",
    "    time.sleep(3)\n",
    "    \n",
    "select_first(driver)"
   ]
  },
  {
   "cell_type": "code",
   "execution_count": 157,
   "id": "117021e8",
   "metadata": {
    "scrolled": false
   },
   "outputs": [
    {
     "data": {
      "text/plain": [
       "['2020-02-20',\n",
       " 213,\n",
       " 'Myth Jokbal',\n",
       " ['#韓國景點',\n",
       "  '#首爾美食',\n",
       "  '#韓國',\n",
       "  '#韓國旅遊',\n",
       "  '#韓國美食',\n",
       "  '#韓國必吃',\n",
       "  '#韓式料理',\n",
       "  '#首爾必吃',\n",
       "  '#明洞',\n",
       "  '#弘大美食',\n",
       "  '#弘大',\n",
       "  '#明洞美食',\n",
       "  '#豬腳116주']]"
      ]
     },
     "execution_count": 157,
     "metadata": {},
     "output_type": "execute_result"
    }
   ],
   "source": [
    "# 예제 5-7 게시글 정보 가져오기\n",
    "def get_content(driver):\n",
    "    # ① 현재 페이지 html 정보 가져오기\n",
    "    html = driver.page_source\n",
    "    soup = BeautifulSoup(html, 'html.parser')\n",
    "    # ② 본문 내용 가져오기\n",
    "    try:\n",
    "        # 본문에 사용자 id가 포함\n",
    "        user_id_len = len(soup.select('a.sqdOP.yWX7d._8A5w5.ZIAjV')[0].text)\n",
    "        \n",
    "        # 본문에서 사용자 id 제거\n",
    "        content = soup.select('div.C4VMK')[0].text[user_id_len:]\n",
    "        content = unicodedata.normalize('NFC', content) \n",
    "        #print(\" \".join(re.sub(r'#[^\\s#,\\\\]+' ,\"\",content).split()))\n",
    "    except:\n",
    "        content = ' '\n",
    "    # ③ 본문 내용에서 해시태그 가져오기(정규식 활용)\n",
    "    tags = re.findall(r'#[^\\s#,\\\\]+', content.replace('수정됨',''))\n",
    "    # ④ 작성일자 정보 가져오기\n",
    "    #date = soup.select('time._1o9PC.Nzb55')[0]['datetime'][:10]\n",
    "    date = soup.select('time._1o9PC')[0]['datetime'][:10]\n",
    "    # ⑤ 좋아요 수 가져오기\n",
    "    try:\n",
    "        #like = soup.select('div.Nm9Fw > button')[0].text[4:-1]   \n",
    "        like = int(soup.select('div._7UhW9.xLCgt.qyrsm.KV-D4.fDxYl.T0kll')[0].text[4:-1].replace(',',''))\n",
    "    except:\n",
    "        like = 0\n",
    "    # ⑥ 위치정보 가져오기\n",
    "    try: \n",
    "        place = soup.select('div.M30cS')[0].text\n",
    "        place = unicodedata.normalize('NFC', place)\n",
    "    except:\n",
    "        place = ''\n",
    "    # ⑦ 수집한 정보 저장하기\n",
    "    #data = [\" \".join(re.sub(r'#[^\\s#,\\\\]+' ,\"\",content).split()), date, like, place, tags]\n",
    "    data = [date, like, place, tags]\n",
    "    return data\n",
    "\n",
    "get_content(driver)"
   ]
  },
  {
   "cell_type": "code",
   "execution_count": 159,
   "id": "5b57f706",
   "metadata": {
    "scrolled": false
   },
   "outputs": [],
   "source": [
    "# 예제 5-8 다음 게시글 열기\n",
    "def move_next(driver):\n",
    "    #/html/body/div[6]/div[2]/div/div/button/div/span/svg\n",
    "    #right = driver.find_element_by_css_selector ('a.coreSpriteRightPaginationArrow')\n",
    "    #right = driver.find_element_by_css_selector ('button.wpO6b')\n",
    "    right = driver.find_element(by = By.XPATH, value = '/html/body/div[6]/div[2]/div/div[2]/button')#'//*[@id=\"react-root\"]/section/main/div/div[1]/article/div/div[1]/div/div[1]/div[2]/div/button[2]/div')#'/html/body/div[6]/div[2]/div/div[2]')\n",
    "    \n",
    "    #right = driver.find_element(by = By.XPATH, value = '/html/body/div[6]/div[2]/div/div/button/div/span')\n",
    "    right.click()\n",
    "    time.sleep(3)\n",
    "\n",
    "move_next(driver)"
   ]
  },
  {
   "cell_type": "code",
   "execution_count": 162,
   "id": "70b98371",
   "metadata": {
    "scrolled": true
   },
   "outputs": [],
   "source": [
    "results = []\n",
    "target = 1000      # 크롤링할 게시글 수\n",
    "for i in range(target):\n",
    "    # 게시글 수집에 오류 발생시(네트워크 문제 등의 이유로)  2초 대기 후, 다음 게시글로 넘어가도록 try, except 구문 활용\n",
    "    try:\n",
    "        data = get_content(driver)    # 게시글 정보 가져오기\n",
    "        results.append(data)\n",
    "        move_next(driver)\n",
    "    except:\n",
    "        time.sleep(2)\n",
    "        move_next(driver)\n",
    "    time.sleep(0.1)\n",
    "    if i%10 == 0 :\n",
    "        time.sleep(2)"
   ]
  },
  {
   "cell_type": "code",
   "execution_count": 196,
   "id": "3da5ed49",
   "metadata": {},
   "outputs": [],
   "source": [
    "df = pd.DataFrame(results)\n",
    "df.columns= ['게시물_날짜','좋아요_수','위치','해시태그']\n",
    "df = df.sort_values(['게시물_날짜','좋아요_수'],ascending=[True,False])#"
   ]
  },
  {
   "cell_type": "code",
   "execution_count": 197,
   "id": "fabb969e",
   "metadata": {},
   "outputs": [],
   "source": [
    "md_insta_df = pd.DataFrame([])\n",
    "folder = './인스타/'\n",
    "f_list = ['인스타_크롤링_해시태그_Myeongdong.xlsx', '인스타_크롤링_해시태그_明洞.xlsx','인스타_크롤링_해시태그_韓國.xlsx','인스타_크롤링_해시태그_韓國美食.xlsx','인스타_한국_해시태그_明洞美食.xlsx']\n",
    "for fname in f_list:\n",
    "    fpath = folder + fname\n",
    "    temp = pd.read_excel(fpath)\n",
    "    md_insta_df = md_insta_df.append(temp)\n",
    "\n",
    "md_insta_df.columns =['content','data','like','place','tags']"
   ]
  },
  {
   "cell_type": "code",
   "execution_count": 198,
   "id": "17897889",
   "metadata": {},
   "outputs": [],
   "source": [
    "# 해시태그가 존재하지 않고 빈 리스트만 있는 경우 제거\n",
    "md = md[md['tags'].apply(lambda x : len(x)) > 2].drop_duplicates()"
   ]
  },
  {
   "cell_type": "code",
   "execution_count": 200,
   "id": "4294e362",
   "metadata": {},
   "outputs": [],
   "source": [
    "tags_total = []\n",
    "for tags in md['tags']:\n",
    "    tags_list = tags[2:-2].split(\"', '\")\n",
    "    for tag in tags_list:\n",
    "        tags_total.append(tag.replace(\"#\",''))"
   ]
  },
  {
   "cell_type": "code",
   "execution_count": 201,
   "id": "a8e1deb1",
   "metadata": {},
   "outputs": [],
   "source": [
    "# 빈도수 집계하기(Counter)\n",
    "from collections import Counter\n",
    "tag_counts = Counter(tags_total)"
   ]
  },
  {
   "cell_type": "code",
   "execution_count": 205,
   "id": "ea21f716",
   "metadata": {
    "scrolled": true
   },
   "outputs": [
    {
     "data": {
      "text/plain": [
       "[('明洞', 1119),\n",
       " ('パロディ服', 660),\n",
       " ('パロディ', 508),\n",
       " ('エルメス', 475),\n",
       " ('ショッピング', 449),\n",
       " ('myeongdong', 429),\n",
       " ('靴', 398),\n",
       " ('渡韓', 381),\n",
       " ('パロディー', 370),\n",
       " ('激安', 366),\n",
       " ('韓國', 348),\n",
       " ('首爾美食', 346),\n",
       " ('鶴橋', 338),\n",
       " ('seoul', 335),\n",
       " ('ファッションコーデ', 333)]"
      ]
     },
     "execution_count": 205,
     "metadata": {},
     "output_type": "execute_result"
    }
   ],
   "source": [
    "tag_counts.most_common(100)[:15]"
   ]
  },
  {
   "cell_type": "code",
   "execution_count": 206,
   "id": "963fc993",
   "metadata": {
    "scrolled": true
   },
   "outputs": [
    {
     "data": {
      "text/plain": [
       "[('エルメス', 475),\n",
       " ('ショッピング', 449),\n",
       " ('靴', 398),\n",
       " ('渡韓', 381),\n",
       " ('パロディー', 370),\n",
       " ('激安', 366),\n",
       " ('首爾美食', 346),\n",
       " ('鶴橋', 338),\n",
       " ('ファッションコーデ', 333),\n",
       " ('服', 332),\n",
       " ('パロディバッグ', 330),\n",
       " ('古着', 330),\n",
       " ('古着屋', 330),\n",
       " ('お買い得', 330),\n",
       " ('お得', 330)]"
      ]
     },
     "execution_count": 206,
     "metadata": {},
     "output_type": "execute_result"
    }
   ],
   "source": [
    "STOPWORDS = ['myeongdong','明洞','명동','서울','한국','대한민국','パロディ服','パロディ','韓國','korea','seoul','myungdong']\n",
    "\n",
    "tag_total_selected = []\n",
    "for tag in tags_total :\n",
    "    if tag not in STOPWORDS :\n",
    "        tag_total_selected.append(tag)\n",
    "tag_counts_selected = Counter(tag_total_selected)\n",
    "tag_counts_selected.most_common(50)[:15]"
   ]
  },
  {
   "cell_type": "code",
   "execution_count": 207,
   "id": "fc5b13d2",
   "metadata": {},
   "outputs": [],
   "source": [
    "import matplotlib.pyplot as plt\n",
    "import seaborn as sns\n",
    "from matplotlib import font_manager, rc\n",
    "import sys\n",
    "\n",
    "if sys.platform in [\"win32\", \"win64\"]:\n",
    "    font_name = \"malgun gothic\"\n",
    "elif sys.platform == \"darwin\":\n",
    "    font_name = \"AppleGothic\"\n",
    "\n",
    "rc('font',family=font_name)"
   ]
  },
  {
   "cell_type": "code",
   "execution_count": 181,
   "id": "bb176fc3",
   "metadata": {},
   "outputs": [],
   "source": [
    "tag_counts_df = pd.DataFrame(tag_counts_selected.most_common(50))\n",
    "tag_counts_df.columns = ['tags', 'counts']"
   ]
  },
  {
   "cell_type": "code",
   "execution_count": 208,
   "id": "973788e8",
   "metadata": {
    "scrolled": false
   },
   "outputs": [
    {
     "data": {
      "text/plain": [
       "<AxesSubplot:xlabel='counts', ylabel='tags'>"
      ]
     },
     "execution_count": 208,
     "metadata": {},
     "output_type": "execute_result"
    },
    {
     "name": "stderr",
     "output_type": "stream",
     "text": [
      "C:\\Users\\USER\\anaconda3\\lib\\site-packages\\matplotlib\\backends\\backend_agg.py:240: RuntimeWarning: Glyph 12540 missing from current font.\n",
      "  font.set_text(s, 0.0, flags=flags)\n",
      "C:\\Users\\USER\\anaconda3\\lib\\site-packages\\matplotlib\\backends\\backend_agg.py:240: RuntimeWarning: Glyph 23554 missing from current font.\n",
      "  font.set_text(s, 0.0, flags=flags)\n",
      "C:\\Users\\USER\\anaconda3\\lib\\site-packages\\matplotlib\\backends\\backend_agg.py:240: RuntimeWarning: Glyph 22269 missing from current font.\n",
      "  font.set_text(s, 0.0, flags=flags)\n",
      "C:\\Users\\USER\\anaconda3\\lib\\site-packages\\matplotlib\\backends\\backend_agg.py:203: RuntimeWarning: Glyph 12540 missing from current font.\n",
      "  font.set_text(s, 0, flags=flags)\n",
      "C:\\Users\\USER\\anaconda3\\lib\\site-packages\\matplotlib\\backends\\backend_agg.py:203: RuntimeWarning: Glyph 23554 missing from current font.\n",
      "  font.set_text(s, 0, flags=flags)\n",
      "C:\\Users\\USER\\anaconda3\\lib\\site-packages\\matplotlib\\backends\\backend_agg.py:203: RuntimeWarning: Glyph 22269 missing from current font.\n",
      "  font.set_text(s, 0, flags=flags)\n"
     ]
    },
    {
     "data": {
      "image/png": "[encoded data removed]",
      "text/plain": [
       "<Figure size 360x1440 with 1 Axes>"
      ]
     },
     "metadata": {
      "needs_background": "light"
     },
     "output_type": "display_data"
    }
   ],
   "source": [
    "# 예제 5-21 막대 차트 그리기\n",
    "plt.figure(figsize=(5,20)) \n",
    "sns.barplot(x='counts', y='tags', data = tag_counts_df)"
   ]
  },
  {
   "cell_type": "code",
   "execution_count": null,
   "id": "698e7614",
   "metadata": {},
   "outputs": [],
   "source": []
  }
 ],
 "metadata": {
  "kernelspec": {
   "display_name": "Python 3 (ipykernel)",
   "language": "python",
   "name": "python3"
  },
  "language_info": {
   "codemirror_mode": {
    "name": "ipython",
    "version": 3
   },
   "file_extension": ".py",
   "mimetype": "text/x-python",
   "name": "python",
   "nbconvert_exporter": "python",
   "pygments_lexer": "ipython3",
   "version": "3.9.7"
  }
 },
 "nbformat": 4,
 "nbformat_minor": 5
}
