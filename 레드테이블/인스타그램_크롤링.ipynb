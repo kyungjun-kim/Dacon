{
 "cells": [
  {
   "cell_type": "code",
   "execution_count": 203,
   "id": "d80adc7c",
   "metadata": {},
   "outputs": [],
   "source": [
    "from selenium import webdriver\n",
    "from selenium.webdriver.common.keys import Keys\n",
    "from selenium.webdriver.common.action_chains import ActionChains\n",
    "import time\n",
    "import csv \n",
    "import re\n",
    "from bs4 import BeautifulSoup\n",
    "import unicodedata\n",
    "from selenium.webdriver.common.by import By\n",
    "import pandas as pd\n"
   ]
  },
  {
   "cell_type": "code",
   "execution_count": 206,
   "id": "04217b96",
   "metadata": {},
   "outputs": [],
   "source": [
    "keyword = ['Myeongdong','명동','明洞']\n",
    "\n",
    "email = '인스타그램_아이디'\n",
    "password = '인스타그램_비밀번호'"
   ]
  },
  {
   "cell_type": "code",
   "execution_count": 207,
   "id": "ccb8da4d",
   "metadata": {},
   "outputs": [
    {
     "name": "stderr",
     "output_type": "stream",
     "text": [
      "C:\\Users\\USER\\AppData\\Local\\Temp/ipykernel_6744/314291897.py:3: DeprecationWarning: executable_path has been deprecated, please pass in a Service object\n",
      "  driver = webdriver.Chrome(r\"C:\\Users\\USER\\Downloads\\chromedriver.exe\")\n"
     ]
    }
   ],
   "source": [
    "# selenium 이용해서 드라이버 지정하고 url 불러오기\n",
    "# keyword 를 포함한 url로 쓰기\n",
    "driver = webdriver.Chrome(r\"C:\\Users\\USER\\Downloads\\chromedriver.exe\")\n",
    "\n",
    "# 인스타그램 접속하기\n",
    "insta_url = 'https://www.instargram.com' \n",
    "driver.get(insta_url)\n",
    "#time.sleep(2)\n",
    "time.sleep(3)"
   ]
  },
  {
   "cell_type": "code",
   "execution_count": 208,
   "id": "78ba38e5",
   "metadata": {},
   "outputs": [
    {
     "name": "stderr",
     "output_type": "stream",
     "text": [
      "C:\\Users\\USER\\AppData\\Local\\Temp/ipykernel_6744/2901931748.py:3: DeprecationWarning: find_elements_by_css_selector is deprecated. Please use find_elements(by=By.CSS_SELECTOR, value=css_selector) instead\n",
      "  input_id = driver.find_elements_by_css_selector('input._2hvTZ.pexuQ.zyHYP')[0]\n",
      "C:\\Users\\USER\\AppData\\Local\\Temp/ipykernel_6744/2901931748.py:10: DeprecationWarning: find_elements_by_css_selector is deprecated. Please use find_elements(by=By.CSS_SELECTOR, value=css_selector) instead\n",
      "  input_pw = driver.find_elements_by_css_selector('input._2hvTZ.pexuQ.zyHYP')[1]\n",
      "C:\\Users\\USER\\AppData\\Local\\Temp/ipykernel_6744/2901931748.py:16: DeprecationWarning: find_element_by_css_selector is deprecated. Please use find_element(by=By.CSS_SELECTOR, value=css_selector) instead\n",
      "  login = driver.find_element_by_css_selector(\"button.sqdOP.L3NKy.y3zKF\")\n"
     ]
    }
   ],
   "source": [
    "# 예제 5-3 인스타계정으로 로그인하기\n",
    "#email = '인스타계정입력해주세요'   ### 계정 정보 수정 필요\n",
    "input_id = driver.find_elements_by_css_selector('input._2hvTZ.pexuQ.zyHYP')[0]\n",
    "#input_id.clear()\n",
    "input_id.clear()\n",
    "input_id.send_keys(email)\n",
    "\n",
    "#password = '인스타비번입력해주세요' ### 비번 정보 수정 필요\n",
    "time.sleep(1)\n",
    "input_pw = driver.find_elements_by_css_selector('input._2hvTZ.pexuQ.zyHYP')[1]\n",
    "input_pw.clear()\n",
    "input_pw.send_keys(password)\n",
    "input_pw.submit()\n",
    "time.sleep(3)\n",
    "# 로그인 버튼 클릭 click\n",
    "login = driver.find_element_by_css_selector(\"button.sqdOP.L3NKy.y3zKF\")\n",
    "login.click()\n"
   ]
  },
  {
   "cell_type": "code",
   "execution_count": 209,
   "id": "16f0433a",
   "metadata": {},
   "outputs": [
    {
     "name": "stderr",
     "output_type": "stream",
     "text": [
      "C:\\Users\\USER\\AppData\\Local\\Temp/ipykernel_6744/3559789725.py:4: DeprecationWarning: find_elements_by_class_name is deprecated. Please use find_elements(by=By.CLASS_NAME, value=name) instead\n",
      "  later_button = driver.find_elements_by_class_name(\"sqdOP\")\n",
      "C:\\Users\\USER\\AppData\\Local\\Temp/ipykernel_6744/3559789725.py:8: DeprecationWarning: find_elements_by_css_selector is deprecated. Please use find_elements(by=By.CSS_SELECTOR, value=css_selector) instead\n",
      "  alert = driver.find_elements_by_css_selector(\"button.aOOlW\")\n"
     ]
    }
   ],
   "source": [
    "#time.sleep(2)\n",
    "## 로그인 시 팝업 창 제거\n",
    "# 로그인 저장 팝업 제거\n",
    "later_button = driver.find_elements_by_class_name(\"sqdOP\")\n",
    "later_button[0].click()\n",
    "time.sleep(1)\n",
    "# 알림창 제거\n",
    "alert = driver.find_elements_by_css_selector(\"button.aOOlW\")\n",
    "alertLater = alert[1]\n",
    "alertLater.click()"
   ]
  },
  {
   "cell_type": "code",
   "execution_count": 210,
   "id": "347bd171",
   "metadata": {},
   "outputs": [],
   "source": [
    "def insta_searching(word) :\n",
    "    url = insta_url + \"/explore/tags/\" + word\n",
    "    return url\n",
    "\n",
    "url = insta_searching(keyword[0]) # Myeong Dong\n",
    "driver.get(url)\n",
    "time.sleep(1)"
   ]
  },
  {
   "cell_type": "code",
   "execution_count": 211,
   "id": "952b6cd1",
   "metadata": {},
   "outputs": [
    {
     "name": "stderr",
     "output_type": "stream",
     "text": [
      "C:\\Users\\USER\\AppData\\Local\\Temp/ipykernel_6744/556389458.py:3: DeprecationWarning: find_element_by_css_selector is deprecated. Please use find_element(by=By.CSS_SELECTOR, value=css_selector) instead\n",
      "  first = driver.find_element_by_css_selector(\"div._9AhH0\")\n"
     ]
    }
   ],
   "source": [
    "# 예제 5-6 HTML에서 첫번째 게시글 찾아 클릭하기\n",
    "def select_first(driver):\n",
    "    first = driver.find_element_by_css_selector(\"div._9AhH0\")\n",
    "    first.click()\n",
    "    time.sleep(3)\n",
    "    \n",
    "select_first(driver)"
   ]
  },
  {
   "cell_type": "code",
   "execution_count": 214,
   "id": "117021e8",
   "metadata": {
    "scrolled": false
   },
   "outputs": [
    {
     "data": {
      "text/plain": [
       "['2022-04-30',\n",
       " 758,\n",
       " '',\n",
       " ['#韓国',\n",
       "  '#渡韓',\n",
       "  '#渡韓記録',\n",
       "  '#韓国旅行',\n",
       "  '#韓国女子旅',\n",
       "  '#韓国女子',\n",
       "  '#ソウル旅行',\n",
       "  '#韓国一人旅',\n",
       "  '#韓国情報',\n",
       "  '#韓国旅行記',\n",
       "  '#韓国ファッション',\n",
       "  '#韓国購入品',\n",
       "  '#韓国ファッション通販',\n",
       "  '#韓国コーデ',\n",
       "  '#韓国トレンド',\n",
       "  '#オルチャンコーデ',\n",
       "  '#オルチャンファッション',\n",
       "  '#韓国行きたい',\n",
       "  '#カロスキル',\n",
       "  '#明洞',\n",
       "  '#東大門',\n",
       "  '#南大門',\n",
       "  '#江南',\n",
       "  '#弘大',\n",
       "  '#梨大1주']]"
      ]
     },
     "execution_count": 214,
     "metadata": {},
     "output_type": "execute_result"
    }
   ],
   "source": [
    "# 예제 5-7 게시글 정보 가져오기\n",
    "def get_content(driver):\n",
    "    # ① 현재 페이지 html 정보 가져오기\n",
    "    html = driver.page_source\n",
    "    soup = BeautifulSoup(html, 'html.parser')\n",
    "    # ② 본문 내용 가져오기\n",
    "    try:\n",
    "        # 본문에 사용자 id가 포함\n",
    "        user_id_len = len(soup.select('a.sqdOP.yWX7d._8A5w5.ZIAjV')[0].text)\n",
    "        \n",
    "        # 본문에서 사용자 id 제거\n",
    "        content = soup.select('div.C4VMK')[0].text[user_id_len:]\n",
    "        content = unicodedata.normalize('NFC', content) \n",
    "        #print(\" \".join(re.sub(r'#[^\\s#,\\\\]+' ,\"\",content).split()))\n",
    "    except:\n",
    "        content = ' '\n",
    "    # ③ 본문 내용에서 해시태그 가져오기(정규식 활용)\n",
    "    tags = re.findall(r'#[^\\s#,\\\\]+', content.replace('수정됨',''))\n",
    "    # ④ 작성일자 정보 가져오기\n",
    "    #date = soup.select('time._1o9PC.Nzb55')[0]['datetime'][:10]\n",
    "    date = soup.select('time._1o9PC')[0]['datetime'][:10]\n",
    "    # ⑤ 좋아요 수 가져오기\n",
    "    try:\n",
    "        #like = soup.select('div.Nm9Fw > button')[0].text[4:-1]   \n",
    "        like = int(soup.select('div._7UhW9.xLCgt.qyrsm.KV-D4.fDxYl.T0kll')[0].text[4:-1].replace(',',''))\n",
    "    except:\n",
    "        like = 0\n",
    "    # ⑥ 위치정보 가져오기\n",
    "    try: \n",
    "        place = soup.select('div.M30cS')[0].text\n",
    "        place = unicodedata.normalize('NFC', place)\n",
    "    except:\n",
    "        place = ''\n",
    "    # ⑦ 수집한 정보 저장하기\n",
    "    #data = [\" \".join(re.sub(r'#[^\\s#,\\\\]+' ,\"\",content).split()), date, like, place, tags]\n",
    "    data = [date, like, place, tags]\n",
    "    return data\n",
    "\n",
    "get_content(driver)"
   ]
  },
  {
   "cell_type": "code",
   "execution_count": 213,
   "id": "6736721f",
   "metadata": {
    "scrolled": false
   },
   "outputs": [],
   "source": [
    "# 예제 5-8 다음 게시글 열기\n",
    "def move_next(driver):\n",
    "    #/html/body/div[6]/div[2]/div/div/button/div/span/svg\n",
    "    #right = driver.find_element_by_css_selector ('a.coreSpriteRightPaginationArrow')\n",
    "    #right = driver.find_element_by_css_selector ('button.wpO6b')\n",
    "    right = driver.find_element(by = By.XPATH, value = '/html/body/div[6]/div[2]/div/div[2]')\n",
    "    #right = driver.find_element(by = By.XPATH, value = '/html/body/div[6]/div[2]/div/div/button/div/span')\n",
    "    right.click()\n",
    "    time.sleep(3)\n",
    "\n",
    "move_next(driver)"
   ]
  },
  {
   "cell_type": "code",
   "execution_count": null,
   "id": "a696d43a",
   "metadata": {
    "scrolled": true
   },
   "outputs": [],
   "source": [
    "results = []\n",
    "target = 1000      # 크롤링할 게시글 수\n",
    "for i in range(target):\n",
    "    # 게시글 수집에 오류 발생시(네트워크 문제 등의 이유로)  2초 대기 후, 다음 게시글로 넘어가도록 try, except 구문 활용\n",
    "    try:\n",
    "        data = get_content(driver)    # 게시글 정보 가져오기\n",
    "        results.append(data)\n",
    "        move_next(driver)\n",
    "    except:\n",
    "        time.sleep(2)\n",
    "        move_next(driver)\n",
    "    if i%50 == 0 :\n",
    "        time.sleep(3)"
   ]
  },
  {
   "cell_type": "code",
   "execution_count": 180,
   "id": "be241634",
   "metadata": {},
   "outputs": [],
   "source": [
    "df = pd.DataFrame(results)\n",
    "df.columns= ['게시물_날짜','좋아요_수','위치','해시태그']\n",
    "df = df.sort_values(['게시물_날짜','좋아요_수'],ascending=[True,False])#"
   ]
  },
  {
   "cell_type": "code",
   "execution_count": 202,
   "id": "7f791ca9",
   "metadata": {},
   "outputs": [
    {
     "data": {
      "text/html": [
       "<div>\n",
       "<style scoped>\n",
       "    .dataframe tbody tr th:only-of-type {\n",
       "        vertical-align: middle;\n",
       "    }\n",
       "\n",
       "    .dataframe tbody tr th {\n",
       "        vertical-align: top;\n",
       "    }\n",
       "\n",
       "    .dataframe thead th {\n",
       "        text-align: right;\n",
       "    }\n",
       "</style>\n",
       "<table border=\"1\" class=\"dataframe\">\n",
       "  <thead>\n",
       "    <tr style=\"text-align: right;\">\n",
       "      <th></th>\n",
       "      <th>게시물_날짜</th>\n",
       "      <th>좋아요_수</th>\n",
       "      <th>위치</th>\n",
       "      <th>해시태그</th>\n",
       "    </tr>\n",
       "  </thead>\n",
       "  <tbody>\n",
       "    <tr>\n",
       "      <th>153</th>\n",
       "      <td>2017-11-16</td>\n",
       "      <td>6</td>\n",
       "      <td>Myeongdong Cathedral</td>\n",
       "      <td>[#Korea, #seoul, #myeongdong, #教会, #明洞]</td>\n",
       "    </tr>\n",
       "    <tr>\n",
       "      <th>182</th>\n",
       "      <td>2021-09-24</td>\n",
       "      <td>0</td>\n",
       "      <td>오유우</td>\n",
       "      <td>[]</td>\n",
       "    </tr>\n",
       "    <tr>\n",
       "      <th>181</th>\n",
       "      <td>2021-10-14</td>\n",
       "      <td>0</td>\n",
       "      <td>Al,thing and kitchen</td>\n",
       "      <td>[#Repost]</td>\n",
       "    </tr>\n",
       "    <tr>\n",
       "      <th>180</th>\n",
       "      <td>2021-11-03</td>\n",
       "      <td>0</td>\n",
       "      <td>오유우</td>\n",
       "      <td>[]</td>\n",
       "    </tr>\n",
       "    <tr>\n",
       "      <th>6</th>\n",
       "      <td>2021-12-10</td>\n",
       "      <td>1212</td>\n",
       "      <td>신세계명동본점</td>\n",
       "      <td>[#서울, #명동, #신세계본점, #크리스마스, #미리크리스마스, #메리크리스마스,...</td>\n",
       "    </tr>\n",
       "    <tr>\n",
       "      <th>...</th>\n",
       "      <td>...</td>\n",
       "      <td>...</td>\n",
       "      <td>...</td>\n",
       "      <td>...</td>\n",
       "    </tr>\n",
       "    <tr>\n",
       "      <th>24</th>\n",
       "      <td>2022-05-10</td>\n",
       "      <td>0</td>\n",
       "      <td>L'Escape Hotel</td>\n",
       "      <td>[#레스케이프호텔@lescape_hotel]</td>\n",
       "    </tr>\n",
       "    <tr>\n",
       "      <th>25</th>\n",
       "      <td>2022-05-10</td>\n",
       "      <td>0</td>\n",
       "      <td></td>\n",
       "      <td>[#likeforlikes, #instaovalle, #instaoutdoors, ...</td>\n",
       "    </tr>\n",
       "    <tr>\n",
       "      <th>9</th>\n",
       "      <td>2022-05-11</td>\n",
       "      <td>16</td>\n",
       "      <td>대한민국</td>\n",
       "      <td>[#SeoulMate]</td>\n",
       "    </tr>\n",
       "    <tr>\n",
       "      <th>7</th>\n",
       "      <td>2022-05-11</td>\n",
       "      <td>0</td>\n",
       "      <td>L'Escape Hotel</td>\n",
       "      <td>[#벨에포크, #파리여행, #공주놀이호텔, #취향저격, #레스케이프호텔@lescap...</td>\n",
       "    </tr>\n",
       "    <tr>\n",
       "      <th>8</th>\n",
       "      <td>2022-05-11</td>\n",
       "      <td>0</td>\n",
       "      <td>L'Escape Hotel</td>\n",
       "      <td>[#벨에포크, #취향저격, #레스케이프호텔@lescape_hotel]</td>\n",
       "    </tr>\n",
       "  </tbody>\n",
       "</table>\n",
       "<p>576 rows × 4 columns</p>\n",
       "</div>"
      ],
      "text/plain": [
       "         게시물_날짜  좋아요_수                    위치  \\\n",
       "153  2017-11-16      6  Myeongdong Cathedral   \n",
       "182  2021-09-24      0                   오유우   \n",
       "181  2021-10-14      0  Al,thing and kitchen   \n",
       "180  2021-11-03      0                   오유우   \n",
       "6    2021-12-10   1212               신세계명동본점   \n",
       "..          ...    ...                   ...   \n",
       "24   2022-05-10      0        L'Escape Hotel   \n",
       "25   2022-05-10      0                         \n",
       "9    2022-05-11     16                  대한민국   \n",
       "7    2022-05-11      0        L'Escape Hotel   \n",
       "8    2022-05-11      0        L'Escape Hotel   \n",
       "\n",
       "                                                  해시태그  \n",
       "153            [#Korea, #seoul, #myeongdong, #教会, #明洞]  \n",
       "182                                                 []  \n",
       "181                                          [#Repost]  \n",
       "180                                                 []  \n",
       "6    [#서울, #명동, #신세계본점, #크리스마스, #미리크리스마스, #메리크리스마스,...  \n",
       "..                                                 ...  \n",
       "24                            [#레스케이프호텔@lescape_hotel]  \n",
       "25   [#likeforlikes, #instaovalle, #instaoutdoors, ...  \n",
       "9                                         [#SeoulMate]  \n",
       "7    [#벨에포크, #파리여행, #공주놀이호텔, #취향저격, #레스케이프호텔@lescap...  \n",
       "8               [#벨에포크, #취향저격, #레스케이프호텔@lescape_hotel]  \n",
       "\n",
       "[576 rows x 4 columns]"
      ]
     },
     "execution_count": 202,
     "metadata": {},
     "output_type": "execute_result"
    }
   ],
   "source": [
    "df"
   ]
  },
  {
   "cell_type": "code",
   "execution_count": null,
   "id": "324fa8c1",
   "metadata": {},
   "outputs": [],
   "source": []
  }
 ],
 "metadata": {
  "kernelspec": {
   "display_name": "Python 3 (ipykernel)",
   "language": "python",
   "name": "python3"
  },
  "language_info": {
   "codemirror_mode": {
    "name": "ipython",
    "version": 3
   },
   "file_extension": ".py",
   "mimetype": "text/x-python",
   "name": "python",
   "nbconvert_exporter": "python",
   "pygments_lexer": "ipython3",
   "version": "3.9.7"
  }
 },
 "nbformat": 4,
 "nbformat_minor": 5
}
