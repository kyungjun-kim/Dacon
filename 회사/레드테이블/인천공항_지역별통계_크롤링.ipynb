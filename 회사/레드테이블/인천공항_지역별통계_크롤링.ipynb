{
 "cells": [
  {
   "cell_type": "code",
   "execution_count": 35,
   "id": "27726089",
   "metadata": {},
   "outputs": [],
   "source": [
    "#각종 패키지 설치\n",
    "\n",
    "import pandas as pd\n",
    "!pip install webdriver-manager\n",
    "from selenium import webdriver\n",
    "from selenium.webdriver.chrome.service import Service\n",
    "from selenium.webdriver.common.keys import Keys\n",
    "from webdriver_manager.chrome import ChromeDriverManager\n",
    "\n",
    "from urllib.request import urlopen\n",
    "#from bs4 import BeautifulSoup\n",
    "from html_table_parser import parser_functions as parser\n",
    "from selenium.webdriver.common.by import By\n",
    "\n",
    "\n",
    "url = 'https://www.airport.kr/co/ko/cpr/statisticOfLocalAirport.do'\n",
    "#'https://www.airport.kr/co/ko/cpr/statisticCategoryOfLocal.do'"
   ]
  },
  {
   "cell_type": "code",
   "execution_count": 608,
   "id": "65b6ec65",
   "metadata": {},
   "outputs": [
    {
     "name": "stderr",
     "output_type": "stream",
     "text": [
      "C:\\Users\\USER\\AppData\\Local\\Temp/ipykernel_18212/3277370821.py:24: DeprecationWarning: executable_path has been deprecated, please pass in a Service object\n",
      "  driver = webdriver.Chrome(r\"C:\\Users\\USER\\Downloads\\chromedriver.exe\")\n"
     ]
    }
   ],
   "source": [
    "# 빈 데이터프레임 생성 및 컬럼 설정\n",
    "air_info = pd.DataFrame(columns = {'지역','국가','운항_도착','운항_출발','운항_합계','여객_도착','여객_출발','여객_합계','화물_도착','화물_출발','화물_합계','년','월'})\n",
    "air_info.columns = [['지역','국가','운항_도착','운항_출발','운항_합계','여객_도착','여객_출발','여객_합계','화물_도착','화물_출발','화물_합계','년','월']]\n",
    "\n",
    "start = time.time()  # 시작 시간 저장\n",
    "\n",
    "# 항공기 선택창 Xpath\n",
    "xpath_airplane = '//*[@id=\"ARPLN_SE\"]'\n",
    "# 여객 선택창\n",
    "xpath_type = '//*[@id=\"PAS_SEL\"]'\n",
    "# 검색 버튼\n",
    "xpath_search = '//*[@id=\"btnSearch\"]'\n",
    "# 시작 년도\n",
    "xpath_start_year = '//*[@id=\"S_YEAR\"]'\n",
    "# 시작 월\n",
    "xpath_start_month = '//*[@id=\"S_MONTH\"]'\n",
    "# 기준년도\n",
    "xpath_end_year = '//*[@id=\"E_YEAR\"]'\n",
    "# 기준월\n",
    "xpath_end_month = '//*[@id=\"E_MONTH\"]'\n",
    "\n",
    "\n",
    "\n",
    "# 제공받은 주소 (인천국제공항공사)\n",
    "url = 'https://www.airport.kr/co/ko/cpr/statisticCategoryOfLocal.do'\n",
    "\n",
    "\n",
    "# 웹드라이버 열기\n",
    "driver = webdriver.Chrome(r\"C:\\Users\\USER\\Downloads\\chromedriver.exe\")\n",
    "driver.get(url)\n",
    "\n",
    "# 항공기(여객기) 선택\n",
    "driver.find_element(by=By.XPATH, value = xpath_airplane).click()\n",
    "driver.find_element(by=By.XPATH, value = xpath_airplane).send_keys(Keys.DOWN)\n",
    "driver.find_element(by=By.XPATH, value = xpath_airplane).send_keys(Keys.RETURN)\n",
    "\n",
    "# 여객 (유임승객) 선택\n",
    "driver.find_element(by=By.XPATH, value = xpath_type).click()\n",
    "driver.find_element(by=By.XPATH, value = xpath_type).send_keys(Keys.DOWN)\n",
    "driver.find_element(by=By.XPATH, value = xpath_type).send_keys(Keys.RETURN)\n",
    "\n",
    "# 검색하고자하는 날짜 지정\n",
    "for i in range(2013, 2022) : #13년도부터 21년도까지의 데이터 수집을 위해 반복문 설정\n",
    "    driver.find_element(by=By.XPATH, value = xpath_start_year).send_keys(i) #시작년 체크\n",
    "    driver.find_element(by=By.XPATH, value = xpath_end_year).send_keys(i) #종료년 체크\n",
    "    for j in range(1,13) :\n",
    "        if i == 2021 and j == 4 :\n",
    "            break\n",
    "        if j < 10 :\n",
    "            jj = \"0\" + str(j)\n",
    "        else :\n",
    "            jj = j\n",
    "        driver.find_element(by=By.XPATH, value = xpath_start_month).send_keys(jj) #시작월 체크\n",
    "        driver.find_element(by=By.XPATH, value = xpath_end_month).send_keys(jj) #종료월 체크\n",
    "        time.sleep(0.1) \n",
    "        \n",
    "        # 검색 버튼 클릭\n",
    "        driver.find_element(by=By.XPATH, value = xpath_search).click()\n",
    "        \n",
    "        #텍스트 파일 불러오기\n",
    "        df = \"\".join(driver.find_element(by=By.XPATH, value = '/html/body/section[2]/div/div/article[1]/table/tbody').text).replace('\\n',' {} {}\\n'.format(i,j)).split(\"\\n\")\n",
    "        a = pd.DataFrame(df[:-9]) # 합계와 전년대비 증감률은 형식이 다르기 때문에 가공 후 추후에 통합\n",
    "        a.columns = ['col'] # 임시 컬럼명 설정\n",
    "        a = pd.DataFrame(a.col.str.split(\" \",12).tolist()) # 문자열 공백을 기준으로 데이터프레임 생성\n",
    "        a.columns = [['지역','국가','운항_도착','운항_출발','운항_합계','여객_도착','여객_출발','여객_합계','화물_도착','화물_출발','화물_합계','년','월']]\n",
    "        sub_info = (\"\".join(df[-9:]).replace(\"{} {}\".format(str(i),j),\"\")).split() # 지정된 여러 개의 년-월 제거\n",
    "        sub_info.append(i) # 년 데이터 추가\n",
    "        sub_info.append(j) # 월 데이터 추가\n",
    "        a = a.append(pd.Series(sub_info, index=a.columns), ignore_index=True) # 기존의 지역별 정보에 합계&전년대비 증감률 추가\n",
    "        air_info = pd.concat([air_info,a],axis=0) # 최종 통합\n",
    "#print(driver.current_url)"
   ]
  },
  {
   "cell_type": "markdown",
   "id": "ee8a9952",
   "metadata": {},
   "source": [
    "- 년, 월 구분을 위해 정수로 변경"
   ]
  },
  {
   "cell_type": "code",
   "execution_count": null,
   "id": "0085cb9c",
   "metadata": {},
   "outputs": [],
   "source": [
    "air_info['년'] = air_info['년'].astype(int)\n",
    "air_info['월'] = air_info['월'].astype(int)"
   ]
  },
  {
   "cell_type": "markdown",
   "id": "d66c6754",
   "metadata": {},
   "source": [
    "- 조건에 맞는 컬럼만 분리"
   ]
  },
  {
   "cell_type": "code",
   "execution_count": 632,
   "id": "7cc1df72",
   "metadata": {},
   "outputs": [],
   "source": [
    "tour_air_info = air_info[['지역','국가','여객_도착','여객_출발','여객_합계',\"년\",\"월\"]]"
   ]
  },
  {
   "cell_type": "code",
   "execution_count": 636,
   "id": "4ea0a0cb",
   "metadata": {},
   "outputs": [],
   "source": [
    "tour_air_info.to_excel('airport_info.xlsx')"
   ]
  },
  {
   "cell_type": "code",
   "execution_count": 3,
   "id": "16648d79",
   "metadata": {},
   "outputs": [],
   "source": [
    "aa = pd.read_excel(\"인천공항_지역별통계.xlsx\")"
   ]
  },
  {
   "cell_type": "code",
   "execution_count": 28,
   "id": "f6ede033",
   "metadata": {},
   "outputs": [],
   "source": [
    "aa = aa[aa['지역'] != \"합\"]\n",
    "aa = aa[aa['지역'] != \"전년대비\"]\n",
    "aa.iloc[1:,1:].to_excel(\"공항통계_0421.xlsx\", index=False)"
   ]
  }
 ],
 "metadata": {
  "kernelspec": {
   "display_name": "Python 3 (ipykernel)",
   "language": "python",
   "name": "python3"
  },
  "language_info": {
   "codemirror_mode": {
    "name": "ipython",
    "version": 3
   },
   "file_extension": ".py",
   "mimetype": "text/x-python",
   "name": "python",
   "nbconvert_exporter": "python",
   "pygments_lexer": "ipython3",
   "version": "3.9.7"
  }
 },
 "nbformat": 4,
 "nbformat_minor": 5
}
