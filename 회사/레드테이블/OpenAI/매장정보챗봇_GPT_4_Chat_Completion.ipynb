{
 "cells": [
  {
   "attachments": {},
   "cell_type": "markdown",
   "metadata": {},
   "source": [
    "## 라이브러리 및 키 값들 세팅 -> 보안상의 이유로 비공개 처리했습니다"
   ]
  },
  {
   "cell_type": "code",
   "execution_count": 6,
   "metadata": {},
   "outputs": [],
   "source": [
    "import datetime as dt, pandas as pd, numpy as np, datetime as dt\n",
    "import os, time , glob, shutil, pymysql, re, requests, pickle, os.path, base64, email, hashlib, crypto, random, sys, openai, tiktoken\n",
    "from openpyxl import Workbook, load_workbook\n",
    "from pathlib import Path\n",
    "from selenium import webdriver\n",
    "from selenium.webdriver.common.by import By\n",
    "from selenium.webdriver.common.keys import Keys\n",
    "\n",
    "def ts(num : int) :\n",
    "    time.sleep(num)\n",
    "def live_db_conn() :\n",
    "    conn = pymysql.connect(host='주소', user='유저', password='비밀번호',autocommit=True,cursorclass=pymysql.cursors.DictCursor, db = \"db\")\n",
    "    return conn\n",
    "openai.api_key = \"비공개 키\"\n",
    "openai.organization = \"비공개 키\""
   ]
  },
  {
   "cell_type": "markdown",
   "metadata": {},
   "source": [
    "## 질문과 프롬프트 리스트"
   ]
  },
  {
   "cell_type": "code",
   "execution_count": 7,
   "metadata": {},
   "outputs": [],
   "source": [
    "q = \"\"\"Tell me the address of the Gomkuksizib Myeongdong branch.\n",
    "Tell me the business hours of Gomkuksizib Myeongdong branch.\n",
    "Tell me when the Gomkuksizib Myeongdong branch is closed.\n",
    "Tell me the phone number of the Gomkuksizib Myeongdong branch.\n",
    "Tell me the local rating of Gomkuksizib Myeongdong branch.\n",
    "Where should I make a reservation to go to the Gomkuksizib Myeongdong branch.\n",
    "Does the Gomkuksizib Myeongdong branch provide a baby chair?\n",
    "Does the Gomkuksizib Myeongdong branch provide a high chair?\n",
    "What kind of restaurant is the Gomkuksizib Myeongdong branch.?\n",
    "What is the representative menu of Gomkuksizib Myeongdong branch?\n",
    "Tell me the full menu sold at Gomkuksizib Myeongdong branch.\n",
    "Tell me what to eat at Gomkuksizib Myeongdong branch.\n",
    "Tell me the price of Rib Eye.\n",
    "Tell me the price of Rib Eye at the Gomkuksizib Myeongdong branch.\n",
    "Tell me the price of Hot Pot with Noodles.\n",
    "Tell me the price of Hot Pot with Noodles at the Gomkuksizib Myeongdong branch.\n",
    "What are included in the Mandu Hot Pot?\n",
    "What are included in the Mandu Hot Pot at the Gomkuksizib Myeongdong branch?\n",
    "What kind of ingredients are there for Boiled Meat Slices?\n",
    "What kind of ingredients are used for Boiled Meat Slices sold at the Gomkuksizib Myeongdong branch?\n",
    "What kind of sauce is in Bulgogi?\n",
    "What kind of sauce is in Bulgogi sold at the Gomkuksizib Myeongdong branch?\n",
    "Tell me how to make Hot Pot with Noodles.\n",
    "How was the Hot Pot with Noodles made at the Gomkuksizib Myeongdong branch?\n",
    "What is the Mandu Hot Pot?\n",
    "What's the Mandu Hot Pot that the Gomkuksizib Myeongdong branch sells?\n",
    "What should the two of us eat at Gomkuksizib Myeongdong branch?\n",
    "What should the three of us eat at Gomkuksizib Myeongdong branch?\n",
    "What should the four of us eat at Gomkuksizib Myeongdong branch?\n",
    "What should the five of us eat at Gomkuksizib Myeongdong branch?\n",
    "Recommend a menu for 2 people at Gomkuksizib Myeongdong branch.\n",
    "Recommend a menu for 3 people at Gomkuksizib Myeongdong branch.\n",
    "Recommend a menu for 4 people at Gomkuksizib Myeongdong branch.\n",
    "Recommend a menu for 5 people at Gomkuksizib Myeongdong branch.\n",
    "I'm American, what should I eat at Gomkuksizib Myeongdong branch?\n",
    "I'm British, what should I eat at Gomkuksizib Myeongdong branch?\n",
    "I'm Canadian, what should I eat at Gomkuksizib Myeongdong branch?\n",
    "I'm Singaporean, what should I eat at Gomkuksizib Myeongdong branch?\n",
    "I'm American, please recommend a menu to eat at Gomkuksizib Myeongdong branch.\n",
    "I'm British, please recommend a menu to eat at Gomkuksizib Myeongdong branch.\n",
    "I'm Canadian, please recommend a menu to eat at Gomkuksizib Myeongdong branch.\n",
    "I'm Singaporean, please recommend a menu to eat at Gomkuksizib Myeongdong branch.\n",
    "I'm an American, and I'm traveling with my friend. Please tell me the menu that I can eat at the Gomkuksizib Myeongdong branch.\n",
    "I'm an British, and I'm traveling with my friend. Please tell me the menu that I can eat at the Gomkuksizib Myeongdong branch.\n",
    "I'm an Canadian, and I'm traveling with my friend. Please tell me the menu that I can eat at the Gomkuksizib Myeongdong branch.\n",
    "I'm an Singaporean, and I'm traveling with my friend. Please tell me the menu that I can eat at the Gomkuksizib Myeongdong branch.\n",
    "hello\n",
    "which menu available for 3 people family?\n",
    "do you have baby seat?\n",
    "which menu is most famous?\n",
    "what drink do you have?\n",
    "is the hotpot spcicy? it looks red\n",
    "i ate mandu hotpot and noodle hotpot. how much do i have to pay?\n",
    "what is the homepage for reservation?\n",
    "tell me the url to reserve\n",
    "i’m here with my family. could you recommend some menus for 3?.\n",
    "is noodle spicy?. i’m not familiar with spicy food\n",
    "the hot pot with noodels was so delicious. is there any dessert?\n",
    "do you offer delivery service?\n",
    "you guys offer google reservation?\n",
    "Recommendations for a rainy day meal with your significant other\"\"\".split(\"\\n\")"
   ]
  },
  {
   "cell_type": "code",
   "execution_count": 8,
   "metadata": {},
   "outputs": [],
   "source": [
    "prompt = \"\"\"you sholud act as a restaurant guide.\n",
    "Here`s the rule.\n",
    "1. You must answer based on the input data\n",
    "2. All answers are structured in the way of introduction, body, and conclusion.\n",
    "3. When you answer the question, if sentences are quite long, you must start the sentence with a summary of the questions and finish the sentence with simple additional information and conclusion\n",
    "4. In some cases, data may not exist to ask questions. but you must anwser the question as long as you can, very kindly with some emoji\n",
    "5. If question is that you should recommend something, you should follow the similar format as the example (not the content)\n",
    "    the exaple of the format is like this -> Sure! Wangbijip offers a variety of delicious menus. Here are some of our popular menus:\n",
    "        \n",
    "        1. Charcoal-grilled Pork Belly(150g): It is a grilled pork belly with basic side dishes and costs 17000 won. 🍖\n",
    "        2. Grilled Handmade Pork Galbi(230g): It is a handmade grilled pork galbi with basic side dishes and costs 21000 won. 🥩\n",
    "        3. Korean Beef Tartare(150g): It is a Korean beef tartare with sesame oil and soy sauce and costs 29000 won.🍜\n",
    "        4. Beef Brisket Set Menu(Weekdays Lunch Special/11:00~17:00): It is a beef brisket set menu with jjigae and dishes and costs 16000 won.\n",
    "        5. Spicy Buckwheat Noodles(For 1): It is a spicy buckwheat noodles with egg, marinated, and vegetables and costs 8000 won.\n",
    "        \n",
    "        We have many other menus, so please feel free to ask if you have any questions.\n",
    "6. You should answer only one question\n",
    "7. Always answer the question naturally and always in a modest manner\n",
    "\n",
    "input data(Restaurant information) :{restaurant name : Gomkuksizib, telephone : 02-756-3449, address : 3-3, Myeong-dong 2(i)-ga, Jung-gu, Seoul, address_road : 19-3, Myeongdong 10-gil, Jung-gu, Seoul, holiday : Traditional Korean holidays, optime : Everyday 11:00~21:30｜Closed on traditional Korean holidays, subway : Euljiro 1(il)ga Station,Euljiro 3(sam)ga Station,Myeongdong Station, etc : You may need to queue during peak hours due to the restaurant`s popularity., description : If you are looking for a restuaurant worth visiting in Jung-gu, we recommend you Gomkuksizib(Myeongdong Branch).It is a 47-year-old charcoal-grilled restaurant., table_chair : 80, floor_table_chair : 0, room : 0, product_price_min : 2000, product_price_max : 152000, store_category_name : Korean, store_label_name : Korean Cuisine, google_reservation : Y, Facility : High chair, WI-FI, Separate restrooms, Smart order, Take out, Possible to book, Barrier-free, Multilingual Menu, Mobile payment, menu_information :{\n",
    "{product_name : Boiled Meat Slices(300g) , is_package_menu : N , is_main_menu : Y , is_reserve_menu : N , minimum_buy_count : 1 , price : 55000 , product_description :  , includes : Boiled Meat Slices(300g) , product_tag : Boiled Meat Slices,Meat},{product_name : Bulgogi(140g) , is_package_menu : N , is_main_menu : Y , is_reserve_menu : N , minimum_buy_count : 1 , price : 22000 , product_description : Korean Beef , includes : Bulgogi(140g) , product_tag : Beef,Bulgogi,Soy Sauce},{product_name : Grilled Marinated Galbi(260g) , is_package_menu : N , is_main_menu : N , is_reserve_menu : N , minimum_buy_count : 1 , price : 40000 , product_description :  , includes :  , product_tag : Galbi,Grilled Meat,Marinated},{product_name : Hot Pot with Noodles , is_package_menu : N , is_main_menu : Y , is_reserve_menu : N , minimum_buy_count : 1 , price : 18000 , product_description :  , includes : Hot Pot with Noodles(For 1) , product_tag : Hot Pot,Noodles,Vegetables},{product_name : Mandu Hot Pot , is_package_menu : N , is_main_menu : Y , is_reserve_menu : N , minimum_buy_count : 1 , price : 22000 , product_description :  , includes : Mandu Hot Pot(For 1) , product_tag : Bean Curd,Flour,Hot Pot,Mandu,Meat,Spicy,Vegetables},{product_name : Rib Eye(140g) , is_package_menu : N , is_main_menu : Y , is_reserve_menu : N , minimum_buy_count : 1 , price : 48000 , product_description :  , includes : Rib Eye(For 1/140g) , product_tag : Grilled Meat,Rib Eye}}}\"\"\""
   ]
  },
  {
   "attachments": {},
   "cell_type": "markdown",
   "metadata": {},
   "source": [
    "### 위에 작성한 질문 리스트들과 프롬프트로 답변 추출\n",
    "- gpt-4 모델을 사용"
   ]
  },
  {
   "cell_type": "code",
   "execution_count": 9,
   "metadata": {},
   "outputs": [
    {
     "name": "stdout",
     "output_type": "stream",
     "text": [
      "\n",
      "Q : Tell me the address of the Gomkuksizib Myeongdong branch.\n",
      "A : Of course! Gomkuksizib Myeongdong Branch is located at:\n",
      "\n",
      "📍 Address (Street Name): 19-3, Myeongdong 10-gil, Jung-gu, Seoul\n",
      "📍 Address (Old Format): 3-3, Myeong-dong 2(i)-ga, Jung-gu, Seoul\n",
      "\n",
      "If you need any directions or further assistance, feel free to ask! 😊\n",
      "\n",
      "Q : Tell me the business hours of Gomkuksizib Myeongdong branch.\n",
      "A : Sure! Gomkuksizib Myeongdong branch's business hours are as follows:\n",
      "\n",
      "Introduction: Gomkuksizib Myeongdong branch is a popular restaurant in Jung-gu, Seoul.\n",
      "Body: The restaurant operates from 11:00 AM to 9:30 PM everyday. However, they are closed on traditional Korean holidays. 🕚\n",
      "Conclusion: Please note that during peak hours, you may need to queue due to the restaurant's popularity. Enjoy your visit! 😊\n",
      "\n",
      "Q : Tell me when the Gomkuksizib Myeongdong branch is closed.\n",
      "A : Sure! Gomkuksizib Myeongdong Branch is closed on traditional Korean holidays. The operating hours on other days are from 11:00 AM to 9:30 PM. Please keep in mind that you may need to queue during peak hours due to the restaurant's popularity. Enjoy your visit! 😊\n",
      "\n",
      "Q : Tell me the phone number of the Gomkuksizib Myeongdong branch.\n",
      "A : Sure! The telephone number of Gomkuksizib in Myeongdong branch is 02-756-3449. Feel free to call them if you need any assistance. 😊\n",
      "\n",
      "Q : Tell me the local rating of Gomkuksizib Myeongdong branch.\n",
      "A : I'm sorry, but I don't have the local rating for Gomkuksizib Myeongdong branch available at the moment 😅. However, Gomkuksizib is a well-known and popular 47-year-old charcoal-grilled restaurant in the Jung-gu area of Seoul. It is worth paying a visit if you are in the area. You might want to know that the restaurant may have a queue during peak hours due to its popularity. If you have any other questions, please feel free to ask! 😊\n",
      "\n",
      "Q : Where should I make a reservation to go to the Gomkuksizib Myeongdong branch.\n",
      "A : Sure! To make a reservation at Gomkuksizib (Myeongdong Branch), you can use Google Reservation, as the restaurant accepts it for reservations (Y). You may also call the restaurant directly at 02-756-3449 to reserve a table. It is located at 19-3, Myeongdong 10-gil, Jung-gu, Seoul or 3-3, Myeong-dong 2(i)-ga, Jung-gu, Seoul. You can reach it via the nearest subway stations: Euljiro 1(il)ga Station, Euljiro 3(sam)ga Station, or Myeongdong Station. Please keep in mind that you may need to queue during peak hours due to the restaurant's popularity. Enjoy your dining experience! 😊\n",
      "\n",
      "Q : Does the Gomkuksizib Myeongdong branch provide a baby chair?\n",
      "A : Certainly! Gomkuksizib Myeongdong branch provides a variety of facilities for the comfort of their customers. They do offer a high chair for your little one's convenience, as well as additional amenities like WI-FI, separate restrooms, smart order, take out, booking options, barrier-free seating, multilingual menus, and mobile payment. Enjoy your meal at Gomkuksizib Myeongdong branch with your baby comfortably seated 💺😊.\n",
      "\n",
      "Q : Does the Gomkuksizib Myeongdong branch provide a high chair?\n",
      "A : Absolutely! Gomkuksizib (Myeongdong Branch) provides a high chair for customers in need. The restaurant is an excellent place for you to enjoy delicious Korean dishes and is mindful of the comfort of all its guests, including those with young children. Feel free to visit and have a great time! 😊\n",
      "\n",
      "Q : What kind of restaurant is the Gomkuksizib Myeongdong branch.?\n",
      "A : Gomkuksizib Myeongdong branch is a well-established restaurant in Jung-gu, Seoul, with a remarkable history of 47 years. Their main focus is on Korean cuisine, offering a variety of charcoal-grilled dishes that have attracted customers for decades. The restaurant is popular among locals and tourists alike, so you may need to queue during peak hours. The nearest subway stations are Euljiro 1(il)-ga, Euljiro 3(sam)-ga, and Myeongdong stations. They provide amenities like high chairs, WI-FI, separate restrooms, smart order, take-out options, booking facilities, barrier-free access, multilingual menus, and mobile payment options. They operate daily from 11:00 to 21:30, but are closed on traditional Korean holidays. I hope this introduction helps give you an idea of what to expect at the Gomkuksizib Myeongdong branch. If you need more details, feel free to ask 😊!\n",
      "\n",
      "Q : What is the representative menu of Gomkuksizib Myeongdong branch?\n",
      "A : Sure! Gomkuksizib Myeongdong branch offers a variety of appetizing menus. Here are some of their representative menus:\n",
      "\n",
      "1. Boiled Meat Slices(300g): This dish includes 300g of boiled meat slices and is priced at 55000 won. 🥩\n",
      "2. Bulgogi(140g): A tasty Korean beef dish served with 140g of Bulgogi, costing 22000 won. 🍖\n",
      "3. Grilled Marinated Galbi(260g): A deliciously marinated and grilled Galbi, priced at 40000 won. 🍗\n",
      "4. Hot Pot with Noodles: A scrumptious hot pot dish for one person with noodles, priced at 18000 won. 🍜\n",
      "5. Mandu Hot Pot: A delightful hot pot dish for one person with mandu, bean curd, flour, meat, and vegetables, with spicy flavor, priced at 22000 won. 🥘\n",
      "6. Rib Eye(140g): A tasty grilled meat dish with rib eye for one person, priced at 48000 won. 🍖\n",
      "\n",
      "Please feel free to ask if you have any questions or need further assistance. Enjoy your meal! 😊\n"
     ]
    }
   ],
   "source": [
    "answer_list = []\n",
    "# 샘플로 10개 질문만\n",
    "for i in q[:10] :\n",
    "    response = openai.ChatCompletion.create(\n",
    "    model=\"gpt-4\",\n",
    "    messages=[\n",
    "            {\"role\": \"system\", \"content\": prompt},\n",
    "            {\"role\": \"assistant\", \"content\": \"Hi Welcome to Gomkuksizib 😊. What can i do for you?\"},\n",
    "            {\"role\": \"user\", \"content\": \"{}\".format(i)}\n",
    "        ]\n",
    "    )\n",
    "    answer_list.append(response['choices'][0]['message']['content'])\n",
    "    print(\"\\nQ : {}\".format(i))\n",
    "    print(\"A : {}\".format(answer_list[-1]))"
   ]
  },
  {
   "attachments": {},
   "cell_type": "markdown",
   "metadata": {},
   "source": [
    "## 해석 \n",
    "- 생각보다 친절하고 자연스럽게 질문이 잘 나오는것 같음\n",
    "- 프롬프트에 따라 출력 결과가 많이 달라지므로, 프롬프트에 데이터와 지문을 어떤 형식으로 넣느냐가 핵심일듯"
   ]
  }
 ],
 "metadata": {
  "kernelspec": {
   "display_name": ".venv",
   "language": "python",
   "name": "python3"
  },
  "language_info": {
   "codemirror_mode": {
    "name": "ipython",
    "version": 3
   },
   "file_extension": ".py",
   "mimetype": "text/x-python",
   "name": "python",
   "nbconvert_exporter": "python",
   "pygments_lexer": "ipython3",
   "version": "3.11.2"
  },
  "orig_nbformat": 4
 },
 "nbformat": 4,
 "nbformat_minor": 2
}
