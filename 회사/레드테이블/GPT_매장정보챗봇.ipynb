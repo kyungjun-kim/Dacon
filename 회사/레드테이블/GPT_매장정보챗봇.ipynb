{
 "cells": [
  {
   "cell_type": "markdown",
   "metadata": {},
   "source": [
    "# GPT를 활용한 매장 정보 챗봇"
   ]
  },
  {
   "cell_type": "code",
   "execution_count": 2,
   "metadata": {},
   "outputs": [],
   "source": [
    "import datetime as dt, pandas as pd, numpy as np, datetime as dt\n",
    "import os, time , glob, shutil, pymysql, re, requests, pickle, os.path, base64, email, hashlib, crypto, random, sys, openai, tiktoken\n",
    "from openpyxl import Workbook, load_workbook\n",
    "from pathlib import Path\n",
    "from selenium import webdriver\n",
    "from selenium.webdriver.common.by import By\n",
    "from selenium.webdriver.common.keys import Keys\n",
    "\n",
    "def ts(num : int) :\n",
    "    time.sleep(num)\n",
    "def live_db_conn() :\n",
    "    conn = pymysql.connect(host='호스트', user='사용자', password='비밀번호',autocommit=True,cursorclass=pymysql.cursors.DictCursor, db = \"db\")\n",
    "    return conn\n",
    "\n",
    "\n",
    "MAX_SECTION_LEN = 1000\n",
    "SEPARATOR = \"\\n* \"\n",
    "ENCODING = \"cl100k_base\"\n",
    "EMBEDDING_MODEL = \"text-embedding-ada-002\"\n",
    "COMPLETIONS_MODEL = \"text-davinci-003\"\n",
    "COMPLETIONS_API_PARAMS = {\n",
    "    \"temperature\": 0.0,\n",
    "    \"max_tokens\": 300,\n",
    "    \"model\": COMPLETIONS_MODEL\n",
    "}\n"
   ]
  },
  {
   "cell_type": "markdown",
   "metadata": {},
   "source": [
    "## 데이터 전처리"
   ]
  },
  {
   "cell_type": "code",
   "execution_count": 3,
   "metadata": {},
   "outputs": [],
   "source": [
    "# 데이터 Select\n",
    "conn = live_db_conn()\n",
    "\n",
    "query = \"\"\"SELECT DISTINCT S.id, ST.name, S.telephone, ST.address, ST.address_road, ST.holiday, ST.optime, ST.subway, ST.etc, ST.description\n",
    ", S.seat1 table_chair, S.seat2 floor_table_chair, S.room, S.product_price_min , S.product_price_max\n",
    ", SCT.name store_category_name, SLT.name store_label_name\n",
    ", CASE WHEN RWG.id IS NOT NULL THEN \"Y\" ELSE \"N\" END google_reservation\n",
    ", S.`option`\n",
    ", PT.name product_name, P.id product_id, P.is_package, P.is_main, P.is_reserve, P.minimum_buy_count, P.price, PT.description product_description, PT.includes\n",
    "FROM store S\n",
    "LEFT JOIN product P ON P.store_id = S.id\n",
    "LEFT JOIN product_translate PT ON PT.product_id = P.id\n",
    "LEFT JOIN product_tag PTA ON PTA.product_id = P.id\n",
    "LEFT JOIN product_tag_master PTM ON PTM.id = PTA.product_tag_master_id\n",
    "LEFT JOIN product_tag_translate PTT ON PTT.product_tag_master_id = PTM.id\n",
    "LEFT JOIN store_translate ST ON ST.store_id = S.id\n",
    "LEFT JOIN store_category SC ON SC.store_id = S.id\n",
    "LEFT JOIN store_category_master SCM ON SCM.id = SC.store_category_master_id\n",
    "LEFT JOIN store_category_translate SCT ON SCT.store_category_master_id = SCM.id\n",
    "LEFT JOIN store_label SL ON SL.store_id = S.id\n",
    "LEFT JOIN store_label_master SLM ON SLM.id = SL.store_label_master_id\n",
    "LEFT JOIN store_label_translate SLT ON SLT.store_label_master_id = SLM.id\n",
    "LEFT JOIN store_award SA ON SA.store_id = S.id\n",
    "LEFT JOIN store_award_translate_old SAT ON SAT.store_award_id = SA.id\n",
    "LEFT JOIN store_media SM ON SM.store_id = S.id\n",
    "LEFT JOIN store_media_translate SMT ON SMT.store_media_id = SM.id\n",
    "LEFT JOIN reserve_with_google RWG ON RWG.store_id = S.id\n",
    "LEFT JOIN store_business_time SBT ON SBT.store_id = S.id\n",
    "WHERE S.id = 10083 AND P.`status` = 'normal' AND P.sale_status = 'sale' AND ST.lang = 'en' AND PT.lang ='en' AND SCT.lang = 'en' AND SLT.lang = 'en' AND PTT.lang = 'en'\"\"\"\n",
    "df = pd.read_sql(query, conn)\n",
    "conn.close()"
   ]
  },
  {
   "cell_type": "code",
   "execution_count": 5,
   "metadata": {},
   "outputs": [],
   "source": [
    "# 옵션 데이터 변경\n",
    "result = []\n",
    "for i in df[\"option\"].tolist():\n",
    "    result.append('{0:017b}'.format(i))\n",
    "df[\"option_2\"] = result\n",
    "\n",
    "result = []\n",
    "for i in range(len(df)):\n",
    "    possible_option = []\n",
    "    if df.loc[i, \"option_2\"][16] == \"1\":\n",
    "        possible_option.append(\"Kid-free Zone\")\n",
    "    if df.loc[i, \"option_2\"][15] == \"1\":\n",
    "        possible_option.append(\"Self service\")\n",
    "    if df.loc[i, \"option_2\"][14] == \"1\":\n",
    "        possible_option.append(\"High chair\")\n",
    "    if df.loc[i, \"option_2\"][13] == \"1\":\n",
    "        possible_option.append(\"Delivery\")\n",
    "    if df.loc[i, \"option_2\"][12] == \"1\":\n",
    "        possible_option.append(\"Kiosk\")\n",
    "    if df.loc[i, \"option_2\"][11] == \"1\":\n",
    "        possible_option.append(\"WI-FI\")\n",
    "    if df.loc[i, \"option_2\"][10] == \"1\":\n",
    "        possible_option.append(\"Separate restrooms\")\n",
    "    if df.loc[i, \"option_2\"][9] == \"1\":\n",
    "        possible_option.append(\"Pets\")\n",
    "    if df.loc[i, \"option_2\"][8] == \"1\":\n",
    "        possible_option.append(\"Smart order\")\n",
    "    if df.loc[i, \"option_2\"][7] == \"1\":\n",
    "        possible_option.append(\"Free parking\")\n",
    "    if df.loc[i, \"option_2\"][6] == \"1\":\n",
    "        possible_option.append(\"Take out\")\n",
    "    if df.loc[i, \"option_2\"][5] == \"1\":\n",
    "        possible_option.append(\"Possible to book\")\n",
    "    if df.loc[i, \"option_2\"][4] == \"1\":\n",
    "        possible_option.append(\"Barrier-free\")\n",
    "    if df.loc[i, \"option_2\"][3] == \"1\":\n",
    "        possible_option.append(\"Playroom\")\n",
    "    if df.loc[i, \"option_2\"][2] == \"1\":\n",
    "        possible_option.append(\"Multilingual Menu\")\n",
    "    if df.loc[i, \"option_2\"][1] == \"1\":\n",
    "        possible_option.append(\"Parcel service\")\n",
    "    if df.loc[i, \"option_2\"][0] == \"1\":\n",
    "        possible_option.append(\"Mobile payment\")\n",
    "    result.append(\", \".join(possible_option))\n",
    "del df['option_2']\n",
    "df[\"Facility\"] = result"
   ]
  },
  {
   "cell_type": "code",
   "execution_count": 6,
   "metadata": {},
   "outputs": [
    {
     "name": "stdout",
     "output_type": "stream",
     "text": [
      "{product_name : [Reservation] Basque Cheese Cake Size 2(Reserve 3days in advance) , product_id : 40121 , is_package : 0 , is_main : 1 , is_reserve : 0 , minimum_buy_count : 1 , price : 46000.0 , product_description : *This product provides special packaging services only for the vacation shop customers. , includes : [Reservation] Basque Cheese Cake Size 2} \n",
      ",\n",
      "{product_name : [Reservation] Macaron SET(Reserve 5days in advance) , product_id : 40124 , is_package : 0 , is_main : 1 , is_reserve : 0 , minimum_buy_count : 1 , price : 21000.0 , product_description : *This product provides special packaging services only for the vacation shop customers.\n",
      "* Please note that the same type of macaron may be included or changed. , includes : [Reservation] Macaron SET(Reserve 5days in advance)\n",
      "*Please note, the same type of macaron may be included or the types may change.} \n",
      ",\n",
      "{product_name : [Reservation] Citrus Pound Cake(Reserve 3days in advance) , product_id : 41059 , is_package : 0 , is_main : 1 , is_reserve : 0 , minimum_buy_count : 1 , price : 11500.0 , product_description : *This product provides special packaging services only for the vacation shop customers. , includes : Citrus Pound Cake} \n",
      ",\n",
      "{product_name : [Reservation] Chocolate Pound Cake(Reserve 3days in advance) , product_id : 41060 , is_package : 0 , is_main : 1 , is_reserve : 0 , minimum_buy_count : 1 , price : 12000.0 , product_description : *This product provides special packaging services only for the vacation shop customers. , includes : Chocolate Pound Cake} \n",
      ",\n",
      "{product_name : [Reservation] Cookies SET , product_id : 51330 , is_package : 0 , is_main : 1 , is_reserve : 0 , minimum_buy_count : 1 , price : 32600.0 , product_description : *This product provides special packaging services only for the vacation shop customers. , includes : Chocolate Cookie 2+Lotus Cookie 2+Mini Cookie 1} \n",
      ",\n",
      "{product_name : [Reservation] Assorted Cookies SET , product_id : 51333 , is_package : 0 , is_main : 1 , is_reserve : 0 , minimum_buy_count : 1 , price : 11500.0 , product_description : *This product provides special packaging services only for the vacation shop customers. , includes : Chocolate Cookie 1+Lotus Cookie 1} \n",
      ",\n",
      "{product_name : [Reservation] Strawberry Cream Cake(Reserve 3days in advance) , product_id : 2714661 , is_package : 0 , is_main : 1 , is_reserve : 0 , minimum_buy_count : 1 , price : 45000.0 , product_description : *This product provides special packaging services only for the vacation shop customers. , includes : } \n",
      ",\n",
      "{product_name : [Reservation] Basque Cheese Cake Size 1(Reserve 3days in advance) , product_id : 3448122 , is_package : 0 , is_main : 0 , is_reserve : 0 , minimum_buy_count : 1 , price : 37000.0 , product_description : *This product provides special packaging services only for the vacation shop customers. , includes : [Reservation] Basque Cheese Cake Size 1} \n",
      ",\n"
     ]
    }
   ],
   "source": [
    "# 사용 컬럼 선택\n",
    "col_s = ['id', 'name', 'telephone', 'address', 'address_road', 'holiday',\n",
    "       'optime', 'subway', 'etc', 'description', 'table_chair',\n",
    "       'floor_table_chair', 'room', 'product_price_min', 'product_price_max',\n",
    "       'store_category_name', 'store_label_name', 'google_reservation', 'Facility']\n",
    "col_p = ['product_name', 'product_id', 'is_package', 'is_main',\n",
    "       'is_reserve', 'minimum_buy_count', 'price', 'product_description', 'includes']\n",
    "\n",
    "#메뉴정보\n",
    "for i in df[col_p].values :\n",
    "    print(\"{\"+' , '.join(list(map(lambda x,y : \" : \".join([str(x),str(y)]), col_p, i.tolist())))+\"}\",\"\\n,\")"
   ]
  },
  {
   "cell_type": "markdown",
   "metadata": {},
   "source": [
    "## 모델"
   ]
  },
  {
   "cell_type": "markdown",
   "metadata": {},
   "source": [
    "### 질문 리스트"
   ]
  },
  {
   "cell_type": "code",
   "execution_count": 7,
   "metadata": {},
   "outputs": [],
   "source": [
    "q = \"\"\"Please recommend tourist attractions nearby.\n",
    "Is it possible to have a group dinner?\n",
    "Is there another branch?\n",
    "Is there a gender toilet?\n",
    "How many seats are the stores in the store?\n",
    "Have you ever aired on TV? I think I saw it ...\n",
    "Have you received it?\n",
    "Do you have an outdoor (terrace) seat?\n",
    "Where is the restroom?\n",
    "Three of us are here. What should we eat?\n",
    "What is the best menu?\n",
    "Does you are here cafe sell Zero Cola?\n",
    "Do you sell alcohol here, too?\n",
    "Is there any food for the baby?\n",
    "Is there a drink that goes well with Croissant Sandwich?\n",
    "What kind of drink is there?\n",
    "A menu is spicy a lot?\n",
    "B has allergies. What menu does not go in?\n",
    "I'm a Muslim. Is there a menu that I can't eat?\n",
    "What is the signature menu?\n",
    "What advice do you have about how to eat or combination?\n",
    "How long does it take to come out?\n",
    "Is there an SNS event?\n",
    "Is it possible to pay for installment?\n",
    "Where should I pay?\n",
    "Can I park?\n",
    "Is there a dessert?\n",
    "Can my pets be admitted?\n",
    "Can I adjust the spiciness?\n",
    "Is it possible to package?\n",
    "Is it possible to add side dishes?\n",
    "Do you have WiFi?\n",
    "Is there a table for 10 people?\n",
    "Can I make a reservation for this store on Google?\n",
    "I'm a nearby office worker, can I make a reservation at a vacation shop?\n",
    "Until what time is this store open?\n",
    "When is the break time?\n",
    "When is the holiday day?\n",
    "How much does it take in Myeong-dong station?\"\"\".split(\"\\n\")"
   ]
  },
  {
   "cell_type": "markdown",
   "metadata": {},
   "source": [
    "### Playground Text Completion 모델"
   ]
  },
  {
   "cell_type": "code",
   "execution_count": 16,
   "metadata": {},
   "outputs": [
    {
     "name": "stdout",
     "output_type": "stream",
     "text": [
      "Q : Please recommend tourist attractions nearby.\n",
      "A :   Hi there! If you're looking for tourist attractions nearby, I recommend visiting the nearby Myeongdong Shopping Street, which is only a 5 minute walk away from YOU ARE HERE CAFE. There are many shops, restaurants, and attractions to explore. You can also visit the nearby Jonggak Station, Euljiro 1(il)ga Station, Euljiro 3(sam)ga Station, and Myeongdong Station, which are all within walking distance.\n",
      "\n"
     ]
    }
   ],
   "source": [
    "organization = '?'\n",
    "api_key = '키'\n",
    "\n",
    "openai.api_key = os.getenv(api_key)\n",
    "\n",
    "for i in q[:1] :\n",
    "    emo_prompt = \"\"\"Act as a restaurant Guide. I want you to act as a restaurant guide. I will write you my store and product information and you will suggest a answer to customers.\n",
    "    In some cases, data may not exist to ask questions. but you should anwser the question as long as you can, very kindly and not like AI\n",
    "    data : \n",
    "    [store_id : 10083 , name : YOU ARE HERE CAFE , telephone : 02-771-2288 , address : 195-3, Euljiro 2(i)-ga, Jung-gu, Seoul , address_road : 23, Myeongdong 9-gil, Jung-gu, Seoul , holiday : Open all year round , optime : Everyday 08:00~23:00 , subway : Jonggak Station,Euljiro 1(il)ga Station,Euljiro 3(sam)ga Station,Myeongdong Station , etc : *Vouchers cannot be used from December 24th-December 25th.*Please fill out the \"\"Requests\"\" box to clarify whether the food is for here or to-go.*Reservation can be changed up to 2 days prior to the visit.*Please note that the product is prepared in advance. Therefore if you don\\'t visit on the date of the reservation, it will be treated as a NO-SHOW and the payment cannot be refunded.*Waiting time may occur during crowded hours, as seats are not assigned at this store. (This is only applied for the Croissant Sandwich SET Menu.) , description : YOU ARE HERE CAFE is a bakery cafe where you can relax in a busy city.Daily bakeries and desserts are rich in flavor using natural fermented butter.We hope everyone who visits YOU ARE HERE CAFE will have a relaxing and good time. , table_chair : 75 , floor_table_chair : 0 , room : 0 , product_price_min : 1400.0 , product_price_max : 100000.0 , store_category_name : Cafe , store_label_name : Cafe , google_reservation : Y , Facility : Self service, WI-FI, Separate restrooms, Smart order, Take out, Possible to book, Multilingual Menu, Mobile payment'\n",
    "    , product_information : [[product_name : [Reservation] Basque Cheese Cake Size 2(Reserve 3days in advance) , product_id : 40121 , is_package : 0 , is_main : 1 , is_reserve : 0 , minimum_buy_count : 1 , price : 46000.0 , product_description : *This product provides special packaging services only for the vacation shop customers. , includes : [Reservation] Basque Cheese Cake Size 2] \n",
    "    ,[product_name : [Reservation] Macaron SET(Reserve 5days in advance) , product_id : 40124 , is_package : 0 , is_main : 1 , is_reserve : 0 , minimum_buy_count : 1 , price : 21000.0 , product_description : *This product provides special packaging services only for the vacation shop customers.\n",
    "    * Please note that the same type of macaron may be included or changed. , includes : [Reservation] Macaron SET(Reserve 5days in advance)\n",
    "    *Please note, the same type of macaron may be included or the types may change.] \n",
    "    ,[product_name : [Reservation] Citrus Pound Cake(Reserve 3days in advance) , product_id : 41059 , is_package : 0 , is_main : 1 , is_reserve : 0 , minimum_buy_count : 1 , price : 11500.0 , product_description : *This product provides special packaging services only for the vacation shop customers. , includes : Citrus Pound Cake] \n",
    "    ,[product_name : [Reservation] Chocolate Pound Cake(Reserve 3days in advance) , product_id : 41060 , is_package : 0 , is_main : 1 , is_reserve : 0 , minimum_buy_count : 1 , price : 12000.0 , product_description : *This product provides special packaging services only for the vacation shop customers. , includes : Chocolate Pound Cake] \n",
    "    ,[product_name : [Reservation] Cookies SET , product_id : 51330 , is_package : 0 , is_main : 1 , is_reserve : 0 , minimum_buy_count : 1 , price : 32600.0 , product_description : *This product provides special packaging services only for the vacation shop customers. , includes : Chocolate Cookie 2+Lotus Cookie 2+Mini Cookie 1] \n",
    "    ,[product_name : [Reservation] Assorted Cookies SET , product_id : 51333 , is_package : 0 , is_main : 1 , is_reserve : 0 , minimum_buy_count : 1 , price : 11500.0 , product_description : *This product provides special packaging services only for the vacation shop customers. , includes : Chocolate Cookie 1+Lotus Cookie 1] \n",
    "    ,[product_name : [Reservation] Strawberry Cream Cake(Reserve 3days in advance) , product_id : 2714661 , is_package : 0 , is_main : 1 , is_reserve : 0 , minimum_buy_count : 1 , price : 45000.0 , product_description : *This product provides special packaging services only for the vacation shop customers. , includes : ] \n",
    "    ,[product_name : [Reservation] Basque Cheese Cake Size 1(Reserve 3days in advance) , product_id : 3448122 , is_package : 0 , is_main : 0 , is_reserve : 0 , minimum_buy_count : 1 , price : 37000.0 , product_description : *This product provides special packaging services only for the vacation shop customers. , includes : [Reservation] Basque Cheese Cake Size 1] ]]\n",
    "\n",
    "    Question :\n",
    "    {}\n",
    "    Answer : \n",
    "    A : \n",
    "    \"\"\".format(i)\n",
    "    response = openai.Completion.create(\n",
    "    model=\"text-davinci-003\",\n",
    "    prompt=emo_prompt,\n",
    "    temperature=0.25,\n",
    "    max_tokens=256,\n",
    "    top_p=1,\n",
    "    frequency_penalty=0,\n",
    "    presence_penalty=0,\n",
    "    api_key = api_key\n",
    "    )\n",
    "    #print(emo_prompt.replace(\"\\n\",'')+response['choices'][0]['text'].replace(\"\\n\",''))\n",
    "    print(\"Q : {}\".format(i))\n",
    "    print(\"A : {}\\n\".format(response['choices'][0]['text'].replace(\"\\n\",'').replace(\"\\t\",'').replace(\"  \",' ')))"
   ]
  },
  {
   "attachments": {},
   "cell_type": "markdown",
   "metadata": {},
   "source": [
    "## ㄴ 결과"
   ]
  },
  {
   "cell_type": "markdown",
   "metadata": {},
   "source": []
  }
 ],
 "metadata": {
  "kernelspec": {
   "display_name": "Python 3",
   "language": "python",
   "name": "python3"
  },
  "language_info": {
   "codemirror_mode": {
    "name": "ipython",
    "version": 3
   },
   "file_extension": ".py",
   "mimetype": "text/x-python",
   "name": "python",
   "nbconvert_exporter": "python",
   "pygments_lexer": "ipython3",
   "version": "3.8.13"
  },
  "orig_nbformat": 4
 },
 "nbformat": 4,
 "nbformat_minor": 2
}
