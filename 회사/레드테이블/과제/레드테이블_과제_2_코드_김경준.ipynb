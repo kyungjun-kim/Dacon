{
 "cells": [
  {
   "cell_type": "code",
   "execution_count": 1,
   "id": "be35fbd2",
   "metadata": {
    "_cell_guid": "b1076dfc-b9ad-4769-8c92-a6c4dae69d19",
    "_uuid": "8f2839f25d086af736a60e9eeb907d3b93b6e0e5",
    "execution": {
     "iopub.execute_input": "2022-03-13T20:03:57.724961Z",
     "iopub.status.busy": "2022-03-13T20:03:57.723455Z",
     "iopub.status.idle": "2022-03-13T20:03:57.738524Z",
     "shell.execute_reply": "2022-03-13T20:03:57.738940Z",
     "shell.execute_reply.started": "2022-03-13T18:06:04.060669Z"
    },
    "papermill": {
     "duration": 0.044118,
     "end_time": "2022-03-13T20:03:57.739148",
     "exception": false,
     "start_time": "2022-03-13T20:03:57.695030",
     "status": "completed"
    },
    "tags": []
   },
   "outputs": [
    {
     "name": "stdout",
     "output_type": "stream",
     "text": [
      "/kaggle/input/red-table/Red_Table.xlsx\n"
     ]
    }
   ],
   "source": [
    "# This Python 3 environment comes with many helpful analytics libraries installed\n",
    "# It is defined by the kaggle/python Docker image: https://github.com/kaggle/docker-python\n",
    "# For example, here's several helpful packages to load\n",
    "\n",
    "import numpy as np # linear algebra\n",
    "import pandas as pd # data processing, CSV file I/O (e.g. pd.read_csv)\n",
    "\n",
    "# Input data files are available in the read-only \"../input/\" directory\n",
    "# For example, running this (by clicking run or pressing Shift+Enter) will list all files under the input directory\n",
    "\n",
    "import os\n",
    "for dirname, _, filenames in os.walk('/kaggle/input'):\n",
    "    for filename in filenames:\n",
    "        print(os.path.join(dirname, filename))\n",
    "\n",
    "# You can write up to 20GB to the current directory (/kaggle/working/) that gets preserved as output when you create a version using \"Save & Run All\" \n",
    "# You can also write temporary files to /kaggle/temp/, but they won't be saved outside of the current session"
   ]
  },
  {
   "cell_type": "code",
   "execution_count": 2,
   "id": "7a4932c3",
   "metadata": {
    "execution": {
     "iopub.execute_input": "2022-03-13T20:03:57.792878Z",
     "iopub.status.busy": "2022-03-13T20:03:57.792095Z",
     "iopub.status.idle": "2022-03-13T20:03:57.794439Z",
     "shell.execute_reply": "2022-03-13T20:03:57.794829Z"
    },
    "papermill": {
     "duration": 0.029931,
     "end_time": "2022-03-13T20:03:57.794962",
     "exception": false,
     "start_time": "2022-03-13T20:03:57.765031",
     "status": "completed"
    },
    "tags": []
   },
   "outputs": [],
   "source": [
    "#from google.colab import drive\n",
    "#import pandas as pd\n",
    "#import numpy as np\n",
    "#!pip install openpyxl\n",
    "#import re \n",
    "#path = \"/content/sample_data/Red_Table.xlsx\""
   ]
  },
  {
   "cell_type": "code",
   "execution_count": 3,
   "id": "75d7cce1",
   "metadata": {
    "execution": {
     "iopub.execute_input": "2022-03-13T20:03:57.846248Z",
     "iopub.status.busy": "2022-03-13T20:03:57.845521Z",
     "iopub.status.idle": "2022-03-13T20:04:07.439797Z",
     "shell.execute_reply": "2022-03-13T20:04:07.438770Z",
     "shell.execute_reply.started": "2022-03-13T18:06:17.069983Z"
    },
    "papermill": {
     "duration": 9.621347,
     "end_time": "2022-03-13T20:04:07.439934",
     "exception": false,
     "start_time": "2022-03-13T20:03:57.818587",
     "status": "completed"
    },
    "tags": []
   },
   "outputs": [
    {
     "name": "stdout",
     "output_type": "stream",
     "text": [
      "Collecting openpyxl\r\n",
      "  Downloading openpyxl-3.0.9-py2.py3-none-any.whl (242 kB)\r\n",
      "     |████████████████████████████████| 242 kB 778 kB/s            \r\n",
      "\u001b[?25hCollecting et-xmlfile\r\n",
      "  Downloading et_xmlfile-1.1.0-py3-none-any.whl (4.7 kB)\r\n",
      "Installing collected packages: et-xmlfile, openpyxl\r\n",
      "Successfully installed et-xmlfile-1.1.0 openpyxl-3.0.9\r\n",
      "\u001b[33mWARNING: Running pip as the 'root' user can result in broken permissions and conflicting behaviour with the system package manager. It is recommended to use a virtual environment instead: https://pip.pypa.io/warnings/venv\u001b[0m\r\n"
     ]
    }
   ],
   "source": [
    "!pip install openpyxl\n",
    "import re"
   ]
  },
  {
   "cell_type": "markdown",
   "id": "390a2fd0",
   "metadata": {
    "papermill": {
     "duration": 0.026401,
     "end_time": "2022-03-13T20:04:07.493562",
     "exception": false,
     "start_time": "2022-03-13T20:04:07.467161",
     "status": "completed"
    },
    "tags": []
   },
   "source": [
    "# 데이터 확인\n",
    "- 데이터를 불러와서 확인후\n",
    "- 3개의 번역 데이터를 통합하였습니다"
   ]
  },
  {
   "cell_type": "code",
   "execution_count": 4,
   "id": "94a72741",
   "metadata": {
    "execution": {
     "iopub.execute_input": "2022-03-13T20:04:07.552487Z",
     "iopub.status.busy": "2022-03-13T20:04:07.551780Z",
     "iopub.status.idle": "2022-03-13T20:04:07.554304Z",
     "shell.execute_reply": "2022-03-13T20:04:07.553872Z"
    },
    "papermill": {
     "duration": 0.03486,
     "end_time": "2022-03-13T20:04:07.554438",
     "exception": false,
     "start_time": "2022-03-13T20:04:07.519578",
     "status": "completed"
    },
    "tags": []
   },
   "outputs": [],
   "source": [
    "path = \"../input/red-table/Red_Table.xlsx\""
   ]
  },
  {
   "cell_type": "code",
   "execution_count": 5,
   "id": "fe3aa9fb",
   "metadata": {
    "execution": {
     "iopub.execute_input": "2022-03-13T20:04:07.612867Z",
     "iopub.status.busy": "2022-03-13T20:04:07.612270Z",
     "iopub.status.idle": "2022-03-13T20:04:17.639196Z",
     "shell.execute_reply": "2022-03-13T20:04:17.638260Z",
     "shell.execute_reply.started": "2022-03-13T18:49:04.045864Z"
    },
    "papermill": {
     "duration": 10.058641,
     "end_time": "2022-03-13T20:04:17.639337",
     "exception": false,
     "start_time": "2022-03-13T20:04:07.580696",
     "status": "completed"
    },
    "tags": []
   },
   "outputs": [],
   "source": [
    "df = pd.read_excel(path,sheet_name = '2번데이터')# 2번데이터자료\n",
    "\n",
    "tr_1 = pd.read_excel(path,sheet_name = '번역_시도,시군구') # 번역_시도,시군구 자료\n",
    "tr_2 = pd.read_excel(path,sheet_name = '번역_읍면동') #번역_읍면동 자료\n",
    "tr_3 = pd.read_excel(path,sheet_name = '번역_도로명').rename(columns={'중국어 간체':'중국어_간체','중국어 번체':'중국어_번체'})\n",
    "# tr_1,2와 컬럼명 통일"
   ]
  },
  {
   "cell_type": "code",
   "execution_count": 6,
   "id": "30c09d2a",
   "metadata": {
    "execution": {
     "iopub.execute_input": "2022-03-13T20:04:17.702993Z",
     "iopub.status.busy": "2022-03-13T20:04:17.702198Z",
     "iopub.status.idle": "2022-03-13T20:04:17.728507Z",
     "shell.execute_reply": "2022-03-13T20:04:17.728930Z",
     "shell.execute_reply.started": "2022-03-13T18:49:14.309520Z"
    },
    "papermill": {
     "duration": 0.06232,
     "end_time": "2022-03-13T20:04:17.729073",
     "exception": false,
     "start_time": "2022-03-13T20:04:17.666753",
     "status": "completed"
    },
    "tags": []
   },
   "outputs": [
    {
     "data": {
      "text/html": [
       "<div>\n",
       "<style scoped>\n",
       "    .dataframe tbody tr th:only-of-type {\n",
       "        vertical-align: middle;\n",
       "    }\n",
       "\n",
       "    .dataframe tbody tr th {\n",
       "        vertical-align: top;\n",
       "    }\n",
       "\n",
       "    .dataframe thead th {\n",
       "        text-align: right;\n",
       "    }\n",
       "</style>\n",
       "<table border=\"1\" class=\"dataframe\">\n",
       "  <thead>\n",
       "    <tr style=\"text-align: right;\">\n",
       "      <th></th>\n",
       "      <th>한국어</th>\n",
       "      <th>영어</th>\n",
       "      <th>일본어</th>\n",
       "      <th>중국어_간체</th>\n",
       "      <th>중국어_번체</th>\n",
       "      <th>시도</th>\n",
       "      <th>시군구</th>\n",
       "      <th>읍면동</th>\n",
       "    </tr>\n",
       "  </thead>\n",
       "  <tbody>\n",
       "    <tr>\n",
       "      <th>0</th>\n",
       "      <td>서울특별시</td>\n",
       "      <td>Seoul</td>\n",
       "      <td>ソウル特別市</td>\n",
       "      <td>首尔特别市</td>\n",
       "      <td>首爾特別市</td>\n",
       "      <td>NaN</td>\n",
       "      <td>NaN</td>\n",
       "      <td>NaN</td>\n",
       "    </tr>\n",
       "    <tr>\n",
       "      <th>1</th>\n",
       "      <td>종로구</td>\n",
       "      <td>Jongno-gu</td>\n",
       "      <td>チョンノ区</td>\n",
       "      <td>钟路区</td>\n",
       "      <td>鍾路區</td>\n",
       "      <td>NaN</td>\n",
       "      <td>NaN</td>\n",
       "      <td>NaN</td>\n",
       "    </tr>\n",
       "    <tr>\n",
       "      <th>2</th>\n",
       "      <td>중구</td>\n",
       "      <td>Jung-gu</td>\n",
       "      <td>チュン区</td>\n",
       "      <td>中区</td>\n",
       "      <td>中區</td>\n",
       "      <td>NaN</td>\n",
       "      <td>NaN</td>\n",
       "      <td>NaN</td>\n",
       "    </tr>\n",
       "    <tr>\n",
       "      <th>3</th>\n",
       "      <td>용산구</td>\n",
       "      <td>Yongsan-gu</td>\n",
       "      <td>ヨンサン区</td>\n",
       "      <td>龙山区</td>\n",
       "      <td>龍山區</td>\n",
       "      <td>NaN</td>\n",
       "      <td>NaN</td>\n",
       "      <td>NaN</td>\n",
       "    </tr>\n",
       "    <tr>\n",
       "      <th>4</th>\n",
       "      <td>성동구</td>\n",
       "      <td>Seongdong-gu</td>\n",
       "      <td>ソンドン区</td>\n",
       "      <td>城东区</td>\n",
       "      <td>城東區</td>\n",
       "      <td>NaN</td>\n",
       "      <td>NaN</td>\n",
       "      <td>NaN</td>\n",
       "    </tr>\n",
       "  </tbody>\n",
       "</table>\n",
       "</div>"
      ],
      "text/plain": [
       "     한국어            영어     일본어 중국어_간체 중국어_번체   시도  시군구  읍면동\n",
       "0  서울특별시         Seoul  ソウル特別市  首尔特别市  首爾特別市  NaN  NaN  NaN\n",
       "1    종로구     Jongno-gu  チョンノ区     钟路区    鍾路區  NaN  NaN  NaN\n",
       "2     중구       Jung-gu   チュン区      中区     中區  NaN  NaN  NaN\n",
       "3    용산구    Yongsan-gu   ヨンサン区    龙山区    龍山區  NaN  NaN  NaN\n",
       "4    성동구  Seongdong-gu   ソンドン区    城东区    城東區  NaN  NaN  NaN"
      ]
     },
     "execution_count": 6,
     "metadata": {},
     "output_type": "execute_result"
    }
   ],
   "source": [
    "# 시도,시군구 / 읍면동 / 도로명 데이터 통합\n",
    "tr = pd.concat([tr_1,tr_2,tr_3],axis=0)\n",
    "tr.head()"
   ]
  },
  {
   "cell_type": "markdown",
   "id": "d2c6f82b",
   "metadata": {
    "papermill": {
     "duration": 0.026511,
     "end_time": "2022-03-13T20:04:17.782314",
     "exception": false,
     "start_time": "2022-03-13T20:04:17.755803",
     "status": "completed"
    },
    "tags": []
   },
   "source": [
    "## 변환할 데이터 주소 리스트화 작업\n",
    "- 일단은 공백을 기준으로 삼아서 분류했습니다.\n",
    "- 또한 일관성을 위해 ',' 를 제거하고, 영어의 경우 전부 소문자로 변경하여 저장하였습니다\n",
    "- 변경할 주소가 들어있는 데이터 파일에는 '시도','시군구','읍면동','로길가','번지수'라는 컬럼을 추가하였습니다"
   ]
  },
  {
   "cell_type": "code",
   "execution_count": 7,
   "id": "49ae57b6",
   "metadata": {
    "execution": {
     "iopub.execute_input": "2022-03-13T20:04:17.841218Z",
     "iopub.status.busy": "2022-03-13T20:04:17.839664Z",
     "iopub.status.idle": "2022-03-13T20:04:17.841843Z",
     "shell.execute_reply": "2022-03-13T20:04:17.842244Z",
     "shell.execute_reply.started": "2022-03-13T18:49:14.338032Z"
    },
    "papermill": {
     "duration": 0.033174,
     "end_time": "2022-03-13T20:04:17.842395",
     "exception": false,
     "start_time": "2022-03-13T20:04:17.809221",
     "status": "completed"
    },
    "tags": []
   },
   "outputs": [],
   "source": [
    "#tr['영어'].apply(lambda x : \"\".join(x.replace(\"-\",' ').split())).to_list()[:4]"
   ]
  },
  {
   "cell_type": "code",
   "execution_count": 8,
   "id": "5dc52caf",
   "metadata": {
    "execution": {
     "iopub.execute_input": "2022-03-13T20:04:17.906090Z",
     "iopub.status.busy": "2022-03-13T20:04:17.904583Z",
     "iopub.status.idle": "2022-03-13T20:04:17.906717Z",
     "shell.execute_reply": "2022-03-13T20:04:17.907184Z",
     "shell.execute_reply.started": "2022-03-13T18:49:14.347520Z"
    },
    "papermill": {
     "duration": 0.038214,
     "end_time": "2022-03-13T20:04:17.907316",
     "exception": false,
     "start_time": "2022-03-13T20:04:17.869102",
     "status": "completed"
    },
    "tags": []
   },
   "outputs": [],
   "source": [
    "df[['시도','시군구','읍면동','로길가','번지수']] = ''\n",
    "\n",
    "address_list = []\n",
    "for i in df['주소'].to_list() :\n",
    "    address_list.append(i.replace(\",\",\" \").lower().split())\n",
    "al = address_list.copy()"
   ]
  },
  {
   "cell_type": "markdown",
   "id": "05ecd4ea",
   "metadata": {
    "execution": {
     "iopub.execute_input": "2022-03-13T13:24:16.280329Z",
     "iopub.status.busy": "2022-03-13T13:24:16.279654Z",
     "iopub.status.idle": "2022-03-13T13:24:16.286135Z",
     "shell.execute_reply": "2022-03-13T13:24:16.284944Z",
     "shell.execute_reply.started": "2022-03-13T13:24:16.280281Z"
    },
    "papermill": {
     "duration": 0.0264,
     "end_time": "2022-03-13T20:04:17.960202",
     "exception": false,
     "start_time": "2022-03-13T20:04:17.933802",
     "status": "completed"
    },
    "tags": []
   },
   "source": [
    "# 영어 -> 한글\n",
    "## 언어별로 각각 다르게 변환하기로 설정했습니다.\n",
    "- 대-소문자 구분없이 전부 다 소문자로 변환하여 진행했습니다\n",
    "- 또한 중복을 제거하는 것이 도움에 될것이라 판단하여 중복을 제거한 상태로 진행했습니다\n",
    "- 정규표현식 : /a-zA-Z/\n",
    "- 표준화를 위해 단어들 사이의 공백은 '-'로 변경하였습니다 / ex) Hyoja ro 7 gil  -> Hyoja-ro 7-gil\n",
    "- {영문주소 : 한글 주소} 식으로 딕셔너리를 생성해서, 주소의 단어가 key값에 존재할 경우 한글 주소를 출력하는 식으로 진행하였습니다."
   ]
  },
  {
   "cell_type": "code",
   "execution_count": 9,
   "id": "5582e9a1",
   "metadata": {
    "execution": {
     "iopub.execute_input": "2022-03-13T20:04:18.029454Z",
     "iopub.status.busy": "2022-03-13T20:04:18.018796Z",
     "iopub.status.idle": "2022-03-13T20:04:18.069690Z",
     "shell.execute_reply": "2022-03-13T20:04:18.069083Z",
     "shell.execute_reply.started": "2022-03-13T18:49:14.358239Z"
    },
    "papermill": {
     "duration": 0.082557,
     "end_time": "2022-03-13T20:04:18.069819",
     "exception": false,
     "start_time": "2022-03-13T20:04:17.987262",
     "status": "completed"
    },
    "tags": []
   },
   "outputs": [],
   "source": [
    "tr['영어'] = tr['영어'].apply(lambda x : x.lower())\n",
    "eng_dict = dict(tr[['영어','한국어']].drop_duplicates().values)\n",
    "# eng_dict = 영어->한국어 딕셔너리"
   ]
  },
  {
   "cell_type": "markdown",
   "id": "a082ee6a",
   "metadata": {
    "papermill": {
     "duration": 0.02684,
     "end_time": "2022-03-13T20:04:18.124388",
     "exception": false,
     "start_time": "2022-03-13T20:04:18.097548",
     "status": "completed"
    },
    "tags": []
   },
   "source": [
    "## 변환작업 :\n",
    "- 변환할 주소가 들어있는 al (address_list)\n",
    "- str의 마지막 문자가 gil(길), gu(구), dong(동), ro(로)와 같이 주소를 나타내는 단어로 분류하였습니다\n",
    "- 데이터가 서울시만으로 한정되어 있기때문에 도와 시 조건문은 생략하였습니다. \n",
    "- 리스트 안에 쪼개진 리스트가 들어있는 형태기때문에 for문을 2번 사용하였습니다 \n",
    "- 다만 데이터에 따라 규모가 더 커질경우 반복문이 아닌 다른 방식으로 해결해야 할 것 같습니다"
   ]
  },
  {
   "cell_type": "code",
   "execution_count": 10,
   "id": "33d7e035",
   "metadata": {
    "execution": {
     "iopub.execute_input": "2022-03-13T20:04:18.212288Z",
     "iopub.status.busy": "2022-03-13T20:04:18.186269Z",
     "iopub.status.idle": "2022-03-13T20:04:18.215602Z",
     "shell.execute_reply": "2022-03-13T20:04:18.215025Z",
     "shell.execute_reply.started": "2022-03-13T18:49:14.766856Z"
    },
    "papermill": {
     "duration": 0.064239,
     "end_time": "2022-03-13T20:04:18.215723",
     "exception": false,
     "start_time": "2022-03-13T20:04:18.151484",
     "status": "completed"
    },
    "tags": []
   },
   "outputs": [],
   "source": [
    "for i in al : # 100개의 주소 리스트\n",
    "    for j in range(len(i)) : # 리스트 내부의 split()으로 쪼개진 str 리스트들\n",
    "        if j >= 1 and i[j-1] + \" \" + i[j] in eng_dict : #  ['12'] ['gil'] <- 이런 방식으로 저장된 조건문의 경우\n",
    "            if i[j][-3:] == \"gil\" :\n",
    "                df['로길가'].iloc[al.index(i)]  += eng_dict[i[j-1] + \" \" + i[j]]\n",
    "                i[j-1],i[j] = '','' # 딕셔너리에 있던 단어들은 공백으로 대체하였습니다.\n",
    "        elif i[j] in eng_dict :\n",
    "            if i[j][-3:] == 'gil' :\n",
    "                df['로길가'].iloc[al.index(i)] += eng_dict[i[j]]\n",
    "            if i[j][-2:] == 'gu' :\n",
    "                df['시군구'].iloc[al.index(i)] += eng_dict[i[j]]\n",
    "            elif i[j][-4:] == 'dong' :\n",
    "                df['읍면동'].iloc[al.index(i)] += eng_dict[i[j]]\n",
    "            elif i[j][-2:] == 'ro' :\n",
    "                df['로길가'].iloc[al.index(i)] += eng_dict[i[j]]\n",
    "            i[j] = ''\n",
    "        elif i[j][-4:] == 'dong' :\n",
    "            #print(i[j], al.index(i))\n",
    "            a = i[j].replace(\"-\", \" \")\n",
    "            if a[0].isdigit() :\n",
    "                df['읍면동'].iloc[al.index(i)] += a[0] + \"동\"\n",
    "                i[j] = ''\n",
    "        elif 'ro' in i[j] :\n",
    "            i[j] = i[j].replace('ro','ro ')\n",
    "            if i[j] in eng_dict :\n",
    "                df['로길가'].iloc[al.index(i)] += eng_dict[i[j]]\n",
    "                i[j] = ''\n",
    "            elif i[j][:i[j].index(\" \")] in eng_dict :\n",
    "                df['로길가'].iloc[al.index(i)] += eng_dict[i[j][:i[j].index(\" \")]]\n",
    "                i[j] = i[j][i[j].index(\" \")+1:]"
   ]
  },
  {
   "cell_type": "markdown",
   "id": "6a72c95c",
   "metadata": {
    "papermill": {
     "duration": 0.026963,
     "end_time": "2022-03-13T20:04:18.269680",
     "exception": false,
     "start_time": "2022-03-13T20:04:18.242717",
     "status": "completed"
    },
    "tags": []
   },
   "source": [
    "# 일본어 -> 한글\n",
    "- 일본어 정규표현식 : /[ぁ-ゔ]+|[ァ-ヴー]+[々〆〤]/ 혹은    [/一-龥/+]\n",
    "- 일본어도 영어와 마찬가지로 일본어 : 한국어 딕셔너리를 생성했습니다"
   ]
  },
  {
   "cell_type": "code",
   "execution_count": 11,
   "id": "4bffd7e9",
   "metadata": {
    "execution": {
     "iopub.execute_input": "2022-03-13T20:04:18.336531Z",
     "iopub.status.busy": "2022-03-13T20:04:18.329578Z",
     "iopub.status.idle": "2022-03-13T20:04:18.387303Z",
     "shell.execute_reply": "2022-03-13T20:04:18.386792Z",
     "shell.execute_reply.started": "2022-03-13T18:49:17.209537Z"
    },
    "papermill": {
     "duration": 0.090589,
     "end_time": "2022-03-13T20:04:18.387433",
     "exception": false,
     "start_time": "2022-03-13T20:04:18.296844",
     "status": "completed"
    },
    "tags": []
   },
   "outputs": [],
   "source": [
    "jap_df = pd.concat([tr_1,tr_2,tr_3])[['일본어','한국어']]\n",
    "jap_dict = dict(jap_df.values)"
   ]
  },
  {
   "cell_type": "code",
   "execution_count": 12,
   "id": "d81f7210",
   "metadata": {
    "execution": {
     "iopub.execute_input": "2022-03-13T20:04:18.445194Z",
     "iopub.status.busy": "2022-03-13T20:04:18.444418Z",
     "iopub.status.idle": "2022-03-13T20:04:18.452987Z",
     "shell.execute_reply": "2022-03-13T20:04:18.452556Z",
     "shell.execute_reply.started": "2022-03-13T18:49:50.881882Z"
    },
    "papermill": {
     "duration": 0.038142,
     "end_time": "2022-03-13T20:04:18.453093",
     "exception": false,
     "start_time": "2022-03-13T20:04:18.414951",
     "status": "completed"
    },
    "tags": []
   },
   "outputs": [],
   "source": [
    "for i in al :\n",
    "    for j in range(len(i)) :\n",
    "        #print(i[j], re.compile('[/一-龥/+]').findall(i[j]))\n",
    "        if \"ソウル特別市\" in i[j] : # 서울 특별시 구분\n",
    "            i[j] = i[j].replace(\"ソウル特別市\", \"\")\n",
    "            df['시도'].iloc[i] += jpn_dict[\"首尔特别市\"]\n",
    "            \n",
    "        if \"市\" in i[j] : # 시 구분 -> 우선 순위 x\n",
    "            b = i[j][i[j].index(\"市\"):]\n",
    "            \n",
    "        if \"区\" in i[j] : # 구 구분\n",
    "            b = i[j][:i[j].index(\"区\")+1] #  앞 글자 ~구를 의미하는 한자가 일본어 딕셔너리에 포함되어 있으면 한글 주소로 변환\n",
    "            if b in jap_dict :\n",
    "                al[al.index(i)][j] = al[al.index(i)][j].replace(b, \"\")\n",
    "                al[al.index(i)].append(jap_dict_1[b])\n",
    "        if i[j] in jap_dict :\n",
    "            #print(i[j])\n",
    "            al[al.index(i)][j] = jap_dict[i[j]]"
   ]
  },
  {
   "cell_type": "markdown",
   "id": "dad998e2",
   "metadata": {
    "papermill": {
     "duration": 0.027035,
     "end_time": "2022-03-13T20:04:18.507278",
     "exception": false,
     "start_time": "2022-03-13T20:04:18.480243",
     "status": "completed"
    },
    "tags": []
   },
   "source": [
    "# 중국어 -> 한글\n",
    "- 중국어는 간체와 번체가 나눠져 있어 딕셔너리를 2개 생성해 하나로 통합했습니다\n",
    "- 중국어도 비슷한 방식으로 진행했습니다\n",
    "- 다만 간체와 번체가 똑같은 경우가 있어서 중복을 제거하였지만 효과적인 방법인지는 확실히 모른채로 진행했습니다"
   ]
  },
  {
   "cell_type": "code",
   "execution_count": 13,
   "id": "08d11e0e",
   "metadata": {
    "execution": {
     "iopub.execute_input": "2022-03-13T20:04:18.573172Z",
     "iopub.status.busy": "2022-03-13T20:04:18.567075Z",
     "iopub.status.idle": "2022-03-13T20:04:18.644616Z",
     "shell.execute_reply": "2022-03-13T20:04:18.644125Z",
     "shell.execute_reply.started": "2022-03-13T18:49:59.609590Z"
    },
    "papermill": {
     "duration": 0.110748,
     "end_time": "2022-03-13T20:04:18.644746",
     "exception": false,
     "start_time": "2022-03-13T20:04:18.533998",
     "status": "completed"
    },
    "tags": []
   },
   "outputs": [],
   "source": [
    "chn_df = tr[['중국어_간체','중국어_번체','한국어']].drop_duplicates()\n",
    "chn_dict_1 = dict(chn_df[['중국어_간체','한국어']].values)\n",
    "chn_dict_2 = dict(chn_df[['중국어_번체','한국어']].values)\n",
    "chn_dict_1.update(dict(chn_df[['중국어_번체','한국어']].values))\n",
    "chn_dict = chn_dict_1.copy() "
   ]
  },
  {
   "cell_type": "code",
   "execution_count": 14,
   "id": "d64ce745",
   "metadata": {
    "execution": {
     "iopub.execute_input": "2022-03-13T20:04:18.712770Z",
     "iopub.status.busy": "2022-03-13T20:04:18.711930Z",
     "iopub.status.idle": "2022-03-13T20:04:18.775184Z",
     "shell.execute_reply": "2022-03-13T20:04:18.774690Z",
     "shell.execute_reply.started": "2022-03-13T18:50:01.045529Z"
    },
    "papermill": {
     "duration": 0.103517,
     "end_time": "2022-03-13T20:04:18.775318",
     "exception": false,
     "start_time": "2022-03-13T20:04:18.671801",
     "status": "completed"
    },
    "tags": []
   },
   "outputs": [],
   "source": [
    "for i in range(len(al)) :\n",
    "    for j in range(len(al[i])) :\n",
    "        # 서울시 검색 -> 서울시, 서울특별시, 서울 등 을 ()으로 묶어 in으로 확인하여 코드를 간결하게 짜려했으나 수정하지 못하였습니다.\n",
    "        if \"首尔市\" in al[i][j] :\n",
    "            al[i][j] = al[i][j].replace(\"首尔市\", \"\")\n",
    "            df['시도'].iloc[i] += chn_dict[\"首尔特别市\"]\n",
    "        elif \"首尔特别市\" in al[i][j] :\n",
    "            al[i][j] = al[i][j].replace(\"首尔特别市\", \"\")\n",
    "            df['시도'].iloc[i] += chn_dict[\"首尔特别市\"]\n",
    "        elif \"首尔\" in al[i][j] :\n",
    "            al[i][j] = al[i][j].replace(\"首尔\", \"\")\n",
    "            df['시도'].iloc[i] += chn_dict[\"首尔特别市\"]\n",
    "        \n",
    "        # 구 검색\n",
    "        if \"区\" in al[i][j]: \n",
    "            b = al[i][j][:al[i][j].index(\"区\")+1][-4:]\n",
    "            for k in range(2,5) :\n",
    "                if b[-k:] in chn_dict :\n",
    "                    if df['시군구'].iloc[i] == \"\" :\n",
    "                        df['시군구'].iloc[i] += chn_dict[b[-k:]]\n",
    "                        al[i][j] = al[i][j].replace(b[-k:], \"\")\n",
    "        elif \"區\" in al[i][j]: \n",
    "            al[i][j]\n",
    "            b = al[i][j][:al[i][j].index(\"區\")+1]\n",
    "            if b in chn_dict :\n",
    "                al[i][j] = al[i][j].replace(b, \"\")\n",
    "                df['시군구'].iloc[i] += chn_dict[b]    \n",
    "        \n",
    "        # 로-길-가 검색\n",
    "        if \"街\" in al[i][j] :\n",
    "            b = al[i][j][:al[i][j].index(\"街\")+1][-6:]\n",
    "            for k in range(2,7) :\n",
    "                if b[-k:] in chn_dict :\n",
    "                    if df['로길가'].iloc[i] == \"\" :\n",
    "                        df['로길가'].iloc[i] += chn_dict[b[-k:]]\n",
    "                    al[i][j] = al[i][j].replace(b[-k:], \"\")                    \n",
    "        # 읍면동 검색\n",
    "        if \"洞\" in al[i][j]: \n",
    "            b = al[i][j][:al[i][j].index(\"洞\")+1][-6:]\n",
    "            for k in range(2,7) :\n",
    "                if b[-k:] in chn_dict :\n",
    "                    if df['읍면동'].iloc[i] == \"\" :\n",
    "                        df['읍면동'].iloc[i] += chn_dict[b[-k:]]\n",
    "                    al[i][j] = al[i][j].replace(b[-k:], \"\")\n",
    "        # ~가 검색\n",
    "        if \"路\" in al[i][j]: \n",
    "            b = al[i][j][:al[i][j].index(\"路\")+1]\n",
    "            for k in range(2,7) :\n",
    "                if b[-k:] in chn_dict :\n",
    "                    if df['읍면동'].iloc[i] == \"\" :\n",
    "                        df['읍면동'].iloc[i] += chn_dict[b[-k:]]\n",
    "                    al[i][j] = al[i][j].replace(b[-k:], \"\")    "
   ]
  },
  {
   "cell_type": "code",
   "execution_count": 15,
   "id": "ea27eb8a",
   "metadata": {
    "execution": {
     "iopub.execute_input": "2022-03-13T20:04:18.834958Z",
     "iopub.status.busy": "2022-03-13T20:04:18.834092Z",
     "iopub.status.idle": "2022-03-13T20:04:18.836587Z",
     "shell.execute_reply": "2022-03-13T20:04:18.836143Z",
     "shell.execute_reply.started": "2022-03-13T18:36:23.988591Z"
    },
    "papermill": {
     "duration": 0.033818,
     "end_time": "2022-03-13T20:04:18.836723",
     "exception": false,
     "start_time": "2022-03-13T20:04:18.802905",
     "status": "completed"
    },
    "tags": []
   },
   "outputs": [],
   "source": [
    "#re.compile('[0-9-/+]+').findall(al[2][0]) #숫자와 특수문자"
   ]
  },
  {
   "cell_type": "markdown",
   "id": "ec0c706e",
   "metadata": {
    "papermill": {
     "duration": 0.026704,
     "end_time": "2022-03-13T20:04:18.890466",
     "exception": false,
     "start_time": "2022-03-13T20:04:18.863762",
     "status": "completed"
    },
    "tags": []
   },
   "source": [
    "# 주소 리스트에 저장되어 있던 한글 주소 및 번지수\n",
    "\n",
    "- 기존에 한글로 된 주소도 있었기 때문에 주소 리스트 재확인 (국가명은 제외하였습니다)\n",
    "- 모든 주소를 한글로 변환하고 남아있는 숫자의 경우 주소의 마지막 부분이라 판단하여 번지수로 옮겼음\n",
    "-"
   ]
  },
  {
   "cell_type": "code",
   "execution_count": 16,
   "id": "db340d78",
   "metadata": {
    "execution": {
     "iopub.execute_input": "2022-03-13T20:04:19.016952Z",
     "iopub.status.busy": "2022-03-13T20:04:18.990532Z",
     "iopub.status.idle": "2022-03-13T20:04:19.175473Z",
     "shell.execute_reply": "2022-03-13T20:04:19.175947Z",
     "shell.execute_reply.started": "2022-03-13T18:52:49.712051Z"
    },
    "papermill": {
     "duration": 0.258298,
     "end_time": "2022-03-13T20:04:19.176095",
     "exception": false,
     "start_time": "2022-03-13T20:04:18.917797",
     "status": "completed"
    },
    "tags": []
   },
   "outputs": [],
   "source": [
    "for i in range(len(al)) :\n",
    "    for j in range(len(al[i])) :\n",
    "        a = al[i][j]\n",
    "        if a in ('서울시','서울특별시','서울') : \n",
    "            al[i][j] = ''\n",
    "            if df['시군구'].iloc[i] == '':\n",
    "                df['시도'].iloc[i] += a\n",
    "        if al[i][j] in tr['한국어'].tolist() :\n",
    "            if a[-1] in '구' and df['시군구'].iloc[i] == '':\n",
    "                df['시군구'].iloc[i] += a\n",
    "            elif a[-1] in ('읍','면','동') and df['읍면동'].iloc[i] == '':\n",
    "                df['읍면동'].iloc[i] += a\n",
    "            elif a[-1] in ('로','길','가') and df['로길가'].iloc[i] == '':\n",
    "                df['로길가'].iloc[i] += a\n",
    "            al[i][j] = ''\n",
    "            "
   ]
  },
  {
   "cell_type": "code",
   "execution_count": 17,
   "id": "84a28e00",
   "metadata": {
    "execution": {
     "iopub.execute_input": "2022-03-13T20:04:19.261197Z",
     "iopub.status.busy": "2022-03-13T20:04:19.260678Z",
     "iopub.status.idle": "2022-03-13T20:04:19.264352Z",
     "shell.execute_reply": "2022-03-13T20:04:19.263921Z",
     "shell.execute_reply.started": "2022-03-13T19:01:50.683467Z"
    },
    "papermill": {
     "duration": 0.061211,
     "end_time": "2022-03-13T20:04:19.264512",
     "exception": false,
     "start_time": "2022-03-13T20:04:19.203301",
     "status": "completed"
    },
    "tags": []
   },
   "outputs": [],
   "source": [
    "for i in al :\n",
    "    a = re.compile('[0-9-/+]+').findall(\" \".join(i))\n",
    "    if len(a) == 1 :\n",
    "        if df['번지수'].iloc[al.index(i)] == \"\" :\n",
    "            df['번지수'].iloc[al.index(i)] += a[0]\n",
    "    else : \n",
    "        # 숫자가 여러개 남아있는 경우 확실한 주소를 찾기 어려워 보류하였습니다,,!.\n",
    "        continue"
   ]
  },
  {
   "cell_type": "markdown",
   "id": "c2a5f90a",
   "metadata": {
    "papermill": {
     "duration": 0.026184,
     "end_time": "2022-03-13T20:04:19.317468",
     "exception": false,
     "start_time": "2022-03-13T20:04:19.291284",
     "status": "completed"
    },
    "tags": []
   },
   "source": [
    "- 임시로 저장한 통합주소\n",
    "- 이 주소를 가지고 도로명 주소로 변환할 생각입니다. \n",
    "- 공백도 많고 부정확한 정보도 있기에 100개 다 완벽하게 변환할 수 는 없지만,\n",
    "- (영어,일본어,중국어) -> 한글주소 변환 -> 도로명 주소 변환 으로 진행할 계획이었습니다"
   ]
  },
  {
   "cell_type": "code",
   "execution_count": 18,
   "id": "f84df0f4",
   "metadata": {
    "execution": {
     "iopub.execute_input": "2022-03-13T20:04:19.380326Z",
     "iopub.status.busy": "2022-03-13T20:04:19.379529Z",
     "iopub.status.idle": "2022-03-13T20:04:19.382128Z",
     "shell.execute_reply": "2022-03-13T20:04:19.381684Z",
     "shell.execute_reply.started": "2022-03-13T19:16:10.371366Z"
    },
    "papermill": {
     "duration": 0.038209,
     "end_time": "2022-03-13T20:04:19.382242",
     "exception": false,
     "start_time": "2022-03-13T20:04:19.344033",
     "status": "completed"
    },
    "tags": []
   },
   "outputs": [],
   "source": [
    "df['통합주소'] = df[['시도','시군구','읍면동','로길가','번지수']].apply(lambda x : ' '.join(x.values.astype(str)), axis=1)"
   ]
  },
  {
   "cell_type": "markdown",
   "id": "78f42c4e",
   "metadata": {
    "papermill": {
     "duration": 0.026334,
     "end_time": "2022-03-13T20:04:19.435183",
     "exception": false,
     "start_time": "2022-03-13T20:04:19.408849",
     "status": "completed"
    },
    "tags": []
   },
   "source": [
    "# 도로명 주소 변환\n",
    "- 모든 주소를 한글 주소로 변환한것은 아니지만, 전부 다 변환하게 되면, api를 활용해 도로명 주소로 바꿀 예정입니다\n",
    "- 카카오 우편번호 서비스 주소 검색 api 활용\n",
    "- https://postcode.map.daum.net/guide#usage\n",
    "- 코드 참고 : https://www.sagein.net/677"
   ]
  },
  {
   "cell_type": "code",
   "execution_count": 19,
   "id": "d4dd7bf2",
   "metadata": {
    "execution": {
     "iopub.execute_input": "2022-03-13T20:04:19.495288Z",
     "iopub.status.busy": "2022-03-13T20:04:19.494620Z",
     "iopub.status.idle": "2022-03-13T20:04:19.497370Z",
     "shell.execute_reply": "2022-03-13T20:04:19.496923Z",
     "shell.execute_reply.started": "2022-03-13T19:34:01.879035Z"
    },
    "papermill": {
     "duration": 0.035863,
     "end_time": "2022-03-13T20:04:19.497490",
     "exception": false,
     "start_time": "2022-03-13T20:04:19.461627",
     "status": "completed"
    },
    "tags": []
   },
   "outputs": [],
   "source": [
    "import requests\n",
    "\n",
    "url = 'https://dapi.kakao.com/v2/local/search/address.json'\n",
    "REST_API_KEY = 'd9a2dc86a6decd8b068022a1633d3939'\n",
    "# 카카오 developers에서 API를 받아서 진행했습니다.\n",
    "headers = {\"Authorization\": \"KakaoAK {}\".format(REST_API_KEY)}\n",
    "\n",
    "def get_address(address):\n",
    "    params = {'query': \"{}\".format(address)}\n",
    "    resp = requests.get(url, params = params, headers = headers)\n",
    "    if len(resp.json()['documents']) == 0 :\n",
    "        return \"\"\n",
    "    data = resp.json()['documents'][0]\n",
    "    if data['road_address'] == None :\n",
    "        return \"\"\n",
    "    return data['road_address']['address_name']"
   ]
  },
  {
   "cell_type": "code",
   "execution_count": 20,
   "id": "3c19955f",
   "metadata": {
    "execution": {
     "iopub.execute_input": "2022-03-13T20:04:19.555404Z",
     "iopub.status.busy": "2022-03-13T20:04:19.554609Z",
     "iopub.status.idle": "2022-03-13T20:05:09.810766Z",
     "shell.execute_reply": "2022-03-13T20:05:09.810239Z",
     "shell.execute_reply.started": "2022-03-13T19:36:16.871895Z"
    },
    "papermill": {
     "duration": 50.286979,
     "end_time": "2022-03-13T20:05:09.810895",
     "exception": false,
     "start_time": "2022-03-13T20:04:19.523916",
     "status": "completed"
    },
    "tags": []
   },
   "outputs": [],
   "source": [
    "df['제출용_주소'] = df['통합주소'].apply(lambda x: get_address(x))"
   ]
  },
  {
   "cell_type": "code",
   "execution_count": 21,
   "id": "f165a856",
   "metadata": {
    "execution": {
     "iopub.execute_input": "2022-03-13T20:05:09.871280Z",
     "iopub.status.busy": "2022-03-13T20:05:09.870494Z",
     "iopub.status.idle": "2022-03-13T20:05:09.890023Z",
     "shell.execute_reply": "2022-03-13T20:05:09.889607Z",
     "shell.execute_reply.started": "2022-03-13T19:43:30.984550Z"
    },
    "papermill": {
     "duration": 0.05183,
     "end_time": "2022-03-13T20:05:09.890142",
     "exception": false,
     "start_time": "2022-03-13T20:05:09.838312",
     "status": "completed"
    },
    "tags": []
   },
   "outputs": [],
   "source": [
    "df[['주소','제출용_주소']].to_excel('레드테이블_과제_2_김경준.xlsx', index=False)"
   ]
  },
  {
   "cell_type": "markdown",
   "id": "c016bd14",
   "metadata": {
    "papermill": {
     "duration": 0.02686,
     "end_time": "2022-03-13T20:05:09.943989",
     "exception": false,
     "start_time": "2022-03-13T20:05:09.917129",
     "status": "completed"
    },
    "tags": []
   },
   "source": [
    "# 리뷰\n",
    "- 우선은 도로명주소 변환 작업보단, 외국어 주소를 한글주소로 변경하는게 우선인 것 같습니다.\n",
    "- 적은 데이터와 엑셀을 변경하지 않는 범위 내에서 작업을 했지만, 큰 데이터를 다룰 경우 조금 더 효율적인 방식을 사용해야 할 것 같습니다.\n",
    "- 문자열을 얼마나 효율적으로 다루느냐에 따라 프로젝트의 속도가 많이 달라질 것 같다고 생각했습니다.\n",
    "- 또한 한자의 경우 정규표현식이나 언어 인코딩 관련하여 공부할 필요가 있다고 느꼈습니다."
   ]
  }
 ],
 "metadata": {
  "kernelspec": {
   "display_name": "Python 3",
   "language": "python",
   "name": "python3"
  },
  "language_info": {
   "codemirror_mode": {
    "name": "ipython",
    "version": 3
   },
   "file_extension": ".py",
   "mimetype": "text/x-python",
   "name": "python",
   "nbconvert_exporter": "python",
   "pygments_lexer": "ipython3",
   "version": "3.7.12"
  },
  "papermill": {
   "default_parameters": {},
   "duration": 81.192063,
   "end_time": "2022-03-13T20:05:10.479724",
   "environment_variables": {},
   "exception": null,
   "input_path": "__notebook__.ipynb",
   "output_path": "__notebook__.ipynb",
   "parameters": {},
   "start_time": "2022-03-13T20:03:49.287661",
   "version": "2.3.3"
  }
 },
 "nbformat": 4,
 "nbformat_minor": 5
}
