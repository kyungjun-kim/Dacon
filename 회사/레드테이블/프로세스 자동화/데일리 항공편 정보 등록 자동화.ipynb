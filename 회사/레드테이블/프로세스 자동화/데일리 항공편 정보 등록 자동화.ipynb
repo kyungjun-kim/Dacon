{
 "cells": [
  {
   "cell_type": "markdown",
   "id": "514837f4",
   "metadata": {},
   "source": [
    "# 데일리 항공편 (인천공항 입국) 정보 등록 자동화"
   ]
  },
  {
   "cell_type": "code",
   "execution_count": 1,
   "id": "0ecaaa82",
   "metadata": {},
   "outputs": [],
   "source": [
    "#!pip selenium\n",
    "import datetime as dt, pandas as pd, numpy as np\n",
    "import os, time, glob, shutil, pymysql\n",
    "\n",
    "from openpyxl import Workbook, load_workbook\n",
    "from pathlib import Path\n",
    "from selenium import webdriver\n",
    "from selenium.webdriver.common.keys import Keys\n",
    "from selenium.webdriver.common.by import By\n",
    "# URL\n",
    "url = 'https://www.airportal.go.kr/life/airinfo/FlightScheduleToExcel.jsp'\n",
    "now = time\n",
    "\n",
    "# 아이디 비밀번호\n",
    "site_id = \"아이디\"\n",
    "site_pw = \"비밀번호\""
   ]
  },
  {
   "cell_type": "code",
   "execution_count": 4,
   "id": "f03e67e0",
   "metadata": {
    "scrolled": true
   },
   "outputs": [],
   "source": [
    "def get_flight(start_date,end_date) :\n",
    "    import calendar\n",
    "    \n",
    "    # 웹드라이버 열기\n",
    "    driver = webdriver.Chrome(r\"{}\\chromedriver.exe\".format(os.getcwd()))\n",
    "    driver.get(url)\n",
    "    \n",
    "    def get_path(path) : \n",
    "        return driver.find_element(by = By.CSS_SELECTOR, value = path)\n",
    "    \n",
    "    # 날짜 지정\n",
    "    #rct3 = pd.date_range(start=yesterday.strftime('%Y%m%d'), end=yesterday.strftime('%Y%m%d'))\n",
    "    rct3 = pd.date_range(start=start_date, end=end_date)\n",
    "    dt_list = rct3.strftime(\"%Y%m%d\").to_list()\n",
    "\n",
    "    start = time.time()  # 시작 시간 저장\n",
    "\n",
    "\n",
    "    # 날짜 검색창 Xpath\n",
    "    xpath_text = '//*[@id=\"dateStart\"]/div/input'\n",
    "    # 검색하기 버튼\n",
    "    xpath_search = '//*[@id=\"realContents\"]/div/div[2]/div[1]/div[1]/a[2]'\n",
    "    # 다운로드 버튼\n",
    "    xpath_download = '//*[@id=\"realContents\"]/div/div[2]/div[1]/div[1]/a[1]'\n",
    "    # 출발 체크\n",
    "    xpath_arrival = '//*[@id=\"realContents\"]/div/div[2]/div[1]/div[2]/div/div/div[1]/label[2]/div/ins'\n",
    "    try:\n",
    "        driver.find_element(by = By.XPATH, value = '//*[@id=\"layer_popup_info_1\"]/div[1]/a').click()\n",
    "        time.sleep(1)\n",
    "        driver.find_element(by = By.XPATH, value = '//*[@id=\"layer_popup_info_0\"]/div[1]/a').click()\n",
    "    except:\n",
    "        print(\"로그인 창이 없습니다.\")\n",
    "\n",
    "    # 로그인 확인!!\n",
    "    xpath_id = \"/html/body/form/table[3]/tbody/tr[2]/td[2]/table[3]/tbody/tr/td[1]/table/tbody/tr[2]/td[2]/table/tbody/tr/td[1]/table[1]/tbody/tr/td[3]/input\"\n",
    "    xpath_pw = '/html/body/form/table[3]/tbody/tr[2]/td[2]/table[3]/tbody/tr/td[1]/table/tbody/tr[2]/td[2]/table/tbody/tr/td[1]/table[2]/tbody/tr/td[3]/input'\n",
    "    xpath_login = '/html/body/form/table[3]/tbody/tr[2]/td[2]/table[3]/tbody/tr/td[1]/table/tbody/tr[2]/td[2]/table/tbody/tr/td[2]/input'\n",
    "    driver.find_element(by = By.XPATH, value =xpath_id).send_keys('{}'.format(site_id)) \n",
    "    driver.find_element(by = By.XPATH, value =xpath_pw).send_keys('{}'.format(site_pw))\n",
    "\n",
    "    # 임시로 생성한 아이디, 비밀번호\n",
    "    driver.find_element(by = By.XPATH, value =xpath_login).click()\n",
    "\n",
    "    ## 데이터 xpath\n",
    "    #xpath_data = '//*[@id=\"mySheet-table\"]/tbody/tr[3]/td/div/div[1]/table/tbody/tr[101]/td[14]'\n",
    "\n",
    "    date_check = '#mySheet-table > tbody > tr:nth-child(3) > td > div > div.GMPageFirst > table > tbody > tr:nth-child(2) > td.GMClassReadOnly.GMWrap0.GMAlignCenter.GMText.GMCell.IBSheetFont0.HideCol0C2'\n",
    "    \n",
    "    # 날짜 지정 및 파일 다운로드\n",
    "    print(int(start_date/100), int(end_date/100)+1)\n",
    "    for month in range(int(start_date/100), int(end_date/100)+1) :\n",
    "        print(month)\n",
    "        get_path(\"#dateStart > div > input\").click()\n",
    "        get_path(\"#dateStart > div > input\").clear()\n",
    "        get_path(\"#dateStart > div > input\").send_keys(month)\n",
    "        get_path(\"#dateStart > div > input\").send_keys('01')\n",
    "        get_path(\"#dateStart > div > input\").send_keys(Keys.RETURN)\n",
    "        get_path(\"#dateStart > div > input\").send_keys(Keys.BACKSPACE *8)\n",
    "        get_path(\"#dateStart > div > input\").send_keys(month)\n",
    "        get_path(\"#dateStart > div > input\").send_keys('01')\n",
    "        get_path(\"#dateStart > div > input\").send_keys(Keys.TAB)\n",
    "\n",
    "        get_path(\"#dateEnd > div > input\").send_keys(month)\n",
    "        get_path(\"#dateEnd > div > input\").send_keys(Keys.RETURN)\n",
    "        get_path(\"#dateEnd > div > input\").send_keys(Keys.BACKSPACE *2)\n",
    "        get_path(\"#dateEnd > div > input\").send_keys(str(calendar.monthrange(2022, int(str(month)[4:]))[1]))\n",
    "        get_path(\"#dateEnd > div > input\").send_keys(Keys.BACKSPACE *8)\n",
    "        get_path(\"#dateEnd > div > input\").send_keys(month)\n",
    "        get_path(\"#dateEnd > div > input\").send_keys(str(calendar.monthrange(2022, int(str(month)[4:]))[1]))\n",
    "        get_path(\"#realContents > div > div.conLy > div.SearchArea01 > div.mainSearchBtnArea > a.mainSearchBtn\").click()\n",
    "        time.sleep(5)\n",
    "        get_path(\"#realContents > div > div.conLy > div.SearchArea01 > div.mainSearchBtnArea > a.mainExcellBtn\").click()\n",
    "        time.sleep(10)\n",
    "    time.sleep(15)\n",
    "    #return '완료'"
   ]
  },
  {
   "cell_type": "code",
   "execution_count": null,
   "id": "540f947c",
   "metadata": {
    "scrolled": true
   },
   "outputs": [],
   "source": [
    "#형식 -> 시작 날짜, 종료 날짜\n",
    "get_flight(20221101, 20221231)"
   ]
  },
  {
   "cell_type": "code",
   "execution_count": 6,
   "id": "ad0cab58",
   "metadata": {
    "scrolled": true
   },
   "outputs": [],
   "source": [
    "# 오늘 날짜 폴더 추가\n",
    "os.mkdir(\"{}/Downloads/항공편_{}\".format(\"/\".join(os.getcwd().split(\"\\\\\")[:-2]),dt.datetime.today().strftime('%m%d')))"
   ]
  },
  {
   "cell_type": "code",
   "execution_count": 10,
   "id": "bc9bbd15",
   "metadata": {
    "scrolled": false
   },
   "outputs": [
    {
     "name": "stderr",
     "output_type": "stream",
     "text": [
      "c:\\Users\\REDTABLE\\Anaconda3\\lib\\site-packages\\openpyxl\\styles\\stylesheet.py:221: UserWarning: Workbook contains no default style, apply openpyxl's default\n",
      "  warn(\"Workbook contains no default style, apply openpyxl's default\")\n"
     ]
    }
   ],
   "source": [
    "# 다운된 파일 경로 변경\n",
    "file_source = r\"{}/Downloads/\".format(\"/\".join(os.getcwd().split(\"\\\\\")[:-2]))\n",
    "file_destination =r'{}/Downloads/항공편_{}/'.format(\"/\".join(os.getcwd().split(\"\\\\\")[:-2]),dt.datetime.today().strftime('%m%d'))\n",
    "\n",
    "for file in Path(file_source).glob(\"항공기출도착현황*.xlsx\"):\n",
    "    shutil.move(os.path.join(file_source,file),file_destination)\n",
    "\n",
    "\n",
    "# 파일 불러오기\n",
    "try:\n",
    "    path = r'{}/Downloads/항공편_{}/'.format(\"/\".join(os.getcwd().split(\"\\\\\")[:-2]),dt.datetime.today().strftime('%m%d'))\n",
    "    files = glob.glob(path + \"항공기출도착현황*.xlsx\")\n",
    "    excel = pd.DataFrame()\n",
    "    for file_name in files:\n",
    "        df = pd.read_excel(file_name)\n",
    "        excel = excel.append(df, ignore_index=True)\n",
    "\n",
    "except Exception as ex:\n",
    "    print('error' + str(ex))\n",
    "    \n",
    "excel = excel[~excel['출발공항명'].isin(['제주','김해','대구','김포'])].drop_duplicates()\n",
    "excel = excel[excel['구분'] == '여객'].sort_values(['날짜','계획시간'])"
   ]
  },
  {
   "cell_type": "code",
   "execution_count": 11,
   "id": "a626879a",
   "metadata": {
    "scrolled": true
   },
   "outputs": [
    {
     "name": "stdout",
     "output_type": "stream",
     "text": [
      "쿼리 완료 \n",
      "쿼리 작동 시간 : 0.00899958610534668\n"
     ]
    }
   ],
   "source": [
    "conn = pymysql.connect(host='주소', user='db 사용자', password='비밀번호',\n",
    "                       autocommit=True,cursorclass=pymysql.cursors.DictCursor\n",
    "                      )\n",
    "cursor = conn.cursor()\n",
    "\n",
    "\n",
    "# 공항코드 -> 국가 매칭\n",
    "start = time.time()\n",
    "sql = \"\"\"\n",
    "SELECT DISTINCT A.AR_CODE , A.NATION\n",
    "FROM redtable_raw_2022.AIR_PORTAL A\n",
    "\"\"\"\n",
    "cursor.execute(sql)\n",
    "na_dic = dict(pd.DataFrame(cursor.fetchall()).values)\n",
    "\n",
    "\n",
    "# 공항코드 -> 대륙 매칭\n",
    "start = time.time()\n",
    "sql = \"\"\"\n",
    "SELECT DISTINCT A.AR_CODE , A.CONTINENT\n",
    "FROM redtable_raw_2022.AIR_PORTAL A\n",
    "\"\"\"\n",
    "cursor.execute(sql)\n",
    "co_dic = dict(pd.DataFrame(cursor.fetchall()).values)\n",
    "\n",
    "# 편당 탑승인원\n",
    "start = time.time()\n",
    "sql = \"\"\"\n",
    "SELECT F.NTN_NM , F.AIR_TOURIST_RT\n",
    "FROM redtable_raw_2022.FOREIGN_VISITOR F\n",
    "WHERE F.AIR_DT = (SELECT max(F.AIR_DT)\n",
    "FROM redtable_raw_2022.FOREIGN_VISITOR F)\n",
    "\"\"\"\n",
    "cursor.execute(sql)\n",
    "rate_dic = dict(pd.DataFrame(cursor.fetchall()).values)\n",
    "\n",
    "conn.close()\n",
    "cursor.close()\n",
    "\n",
    "print('쿼리 완료', \"\\n쿼리 작동 시간 :\", time.time() - start)  # 현재시각 - 시작시간 = 실행 시간   \n",
    "\n",
    "\n",
    "excel['출발국가']   = excel['출발공항코드'].apply(lambda x : na_dic.get(x))\n",
    "excel['출발대륙']   = excel['출발공항코드'].apply(lambda x : co_dic.get(x))\n",
    "excel['편당탑승객'] = excel['출발국가'].apply(lambda x : rate_dic.get(x))\n",
    "excel = excel.sort_values(['날짜','계획시간'],ascending=[True,True])\n",
    "excel['년월'] = excel['날짜'].apply(lambda x : int(str(x)[:6]))\n",
    "og = excel.iloc[:,:-2].copy()"
   ]
  },
  {
   "cell_type": "markdown",
   "id": "5a4edd69",
   "metadata": {},
   "source": [
    "## db에 항공 정보 등록"
   ]
  },
  {
   "cell_type": "code",
   "execution_count": 13,
   "id": "fab5a8e8",
   "metadata": {
    "scrolled": true
   },
   "outputs": [
    {
     "name": "stdout",
     "output_type": "stream",
     "text": [
      "쿼리 완료 \n",
      "쿼리 작동 시간 : 3.5800015926361084\n"
     ]
    }
   ],
   "source": [
    "conn = pymysql.connect(host='주소', user='db 사용자', password='비밀번호',\n",
    "                       autocommit=True,cursorclass=pymysql.cursors.DictCursor\n",
    "                      )\n",
    "cursor = conn.cursor()\n",
    "start = time.time()\n",
    "\n",
    "# 중복 날짜 삭제\n",
    "sql = \"\"\"\n",
    "DELETE\n",
    "FROM redtable_raw_2022.AIR_PORTAL\n",
    "WHERE DATE IN {}\n",
    "\"\"\".format(tuple(og['날짜'].unique()))\n",
    "cursor.execute(sql)\n",
    "\n",
    "# 중복 날짜 조회\n",
    "sql = \"\"\"\n",
    "SELECT *\n",
    "FROM redtable_raw_2022.AIR_PORTAL\n",
    "WHERE DATE IN {}\n",
    "\"\"\".format(tuple(og['날짜'].unique()))\n",
    "cursor.execute(sql)\n",
    "result = pd.DataFrame(cursor.fetchall())\n",
    "conn.close()\n",
    "cursor.close()\n",
    "result.head()\n",
    "print('쿼리 완료', \"\\n쿼리 작동 시간 :\", time.time() - start)  # 현재시각 - 시작시간 = 실행 시간   \n",
    "\n",
    "# AIR_PORTAL DB에 저장\n",
    "def save_to_AIR_PORTAL(data) :\n",
    "    db_cols = 'AIR_AR_DP,DATE,AIR,AIR_NUM,AR_CODE,AR_AIRPORT_NM,DP_CODE,DP_AIRPORT_NM,EX_TIME,EX1_TIME,DP_TIME,OPTION1,LIVE,NATION,CONTINENT'\n",
    "    df_result = data.drop_duplicates().fillna(np.nan).replace([\"\\\\N\"], [None]).replace([np.nan], [None])\n",
    "    conn = pymysql.connect(host='주소', user='db 사용자', password='비밀번호',\n",
    "                       autocommit=True,cursorclass=pymysql.cursors.DictCursor\n",
    "                      )\n",
    "    curs = conn.cursor()\n",
    "    sql  = 'INSERT INTO redtable_raw_2022.AIR_PORTAL({}) VALUES(%s{});'.format(db_cols,\",%s\" * 14)\n",
    "    val = list(map(lambda x : tuple(x), df_result.values))\n",
    "    curs.executemany(sql,val)\n",
    "    curs.close()\n",
    "    conn.close()\n",
    "    return 'DB 등록 완료'\n",
    "\n",
    "\n",
    "save_to_AIR_PORTAL(og)"
   ]
  }
 ],
 "metadata": {
  "kernelspec": {
   "display_name": "Python 3.8.8 ('base')",
   "language": "python",
   "name": "python3"
  },
  "language_info": {
   "codemirror_mode": {
    "name": "ipython",
    "version": 3
   },
   "file_extension": ".py",
   "mimetype": "text/x-python",
   "name": "python",
   "nbconvert_exporter": "python",
   "pygments_lexer": "ipython3",
   "version": "3.8.8"
  },
  "vscode": {
   "interpreter": {
    "hash": "4983dea7fb74a7657ed0a30d17b95d761904bf85c80aa3fbbb72a0182d34178c"
   }
  }
 },
 "nbformat": 4,
 "nbformat_minor": 5
}
